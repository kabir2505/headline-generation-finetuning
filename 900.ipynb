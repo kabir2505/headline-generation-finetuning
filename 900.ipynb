{
  "cells": [
    {
      "cell_type": "markdown",
      "source": [
        "### Task Description:\n",
        "The task was **headline generation** for news articles, a **conditional text generation** task. Given a news article \\( X \\), the model generates a concise headline \\( Y \\).\n",
        "\n",
        "### Mathematical Function:\n",
        "The model learns to maximize the likelihood of the correct headline $$\\( Y \\) conditioned on the news article \\( X \\):\n",
        "\n",
        "$$[\n",
        "P(Y|X) = \\prod_{t=1}^{T} P(y_t | y_{<t}, X)\n",
        "]$$\n",
        "\n",
        "Where \\( Y \\) is the sequence of words in the generated headline, and \\( X \\) is the input article.\n",
        "\n",
        "### Why Encoder-Decoder Architecture:\n",
        "The **encoder-decoder** architecture is essential because:\n",
        "1. The **encoder** captures the semantic information from the news article \\( X \\).\n",
        "2. The **decoder** generates the output sequence (headline) based on the context from the encoder.\n",
        "\n",
        "Using just an encoder or decoder would not provide the full capabilities needed for this sequence-to-sequence task."
      ],
      "metadata": {
        "id": "uR1b1C0ETnA6"
      }
    },
    {
      "cell_type": "markdown",
      "source": [
        "# Installation"
      ],
      "metadata": {
        "id": "MhLV8UDFgxZF"
      }
    },
    {
      "cell_type": "code",
      "execution_count": 1,
      "metadata": {
        "colab": {
          "base_uri": "https://localhost:8080/"
        },
        "id": "GWYAGstAPmEI",
        "outputId": "01b03275-be8e-4f58-cd3f-4729ae3c7946"
      },
      "outputs": [
        {
          "output_type": "stream",
          "name": "stdout",
          "text": [
            "Requirement already satisfied: transformers in /usr/local/lib/python3.10/dist-packages (4.47.1)\n",
            "Collecting datasets\n",
            "  Downloading datasets-3.2.0-py3-none-any.whl.metadata (20 kB)\n",
            "Collecting evaluate\n",
            "  Downloading evaluate-0.4.3-py3-none-any.whl.metadata (9.2 kB)\n",
            "Requirement already satisfied: accelerate in /usr/local/lib/python3.10/dist-packages (1.2.1)\n",
            "Collecting bitsandbytes\n",
            "  Downloading bitsandbytes-0.45.0-py3-none-manylinux_2_24_x86_64.whl.metadata (2.9 kB)\n",
            "Requirement already satisfied: peft in /usr/local/lib/python3.10/dist-packages (0.14.0)\n",
            "Collecting trl\n",
            "  Downloading trl-0.13.0-py3-none-any.whl.metadata (11 kB)\n",
            "Collecting rouge_score\n",
            "  Downloading rouge_score-0.1.2.tar.gz (17 kB)\n",
            "  Preparing metadata (setup.py) ... \u001b[?25l\u001b[?25hdone\n",
            "Requirement already satisfied: wandb in /usr/local/lib/python3.10/dist-packages (0.19.1)\n",
            "Requirement already satisfied: filelock in /usr/local/lib/python3.10/dist-packages (from transformers) (3.16.1)\n",
            "Requirement already satisfied: huggingface-hub<1.0,>=0.24.0 in /usr/local/lib/python3.10/dist-packages (from transformers) (0.27.0)\n",
            "Requirement already satisfied: numpy>=1.17 in /usr/local/lib/python3.10/dist-packages (from transformers) (1.26.4)\n",
            "Requirement already satisfied: packaging>=20.0 in /usr/local/lib/python3.10/dist-packages (from transformers) (24.2)\n",
            "Requirement already satisfied: pyyaml>=5.1 in /usr/local/lib/python3.10/dist-packages (from transformers) (6.0.2)\n",
            "Requirement already satisfied: regex!=2019.12.17 in /usr/local/lib/python3.10/dist-packages (from transformers) (2024.11.6)\n",
            "Requirement already satisfied: requests in /usr/local/lib/python3.10/dist-packages (from transformers) (2.32.3)\n",
            "Requirement already satisfied: tokenizers<0.22,>=0.21 in /usr/local/lib/python3.10/dist-packages (from transformers) (0.21.0)\n",
            "Requirement already satisfied: safetensors>=0.4.1 in /usr/local/lib/python3.10/dist-packages (from transformers) (0.4.5)\n",
            "Requirement already satisfied: tqdm>=4.27 in /usr/local/lib/python3.10/dist-packages (from transformers) (4.67.1)\n",
            "Requirement already satisfied: pyarrow>=15.0.0 in /usr/local/lib/python3.10/dist-packages (from datasets) (17.0.0)\n",
            "Collecting dill<0.3.9,>=0.3.0 (from datasets)\n",
            "  Downloading dill-0.3.8-py3-none-any.whl.metadata (10 kB)\n",
            "Requirement already satisfied: pandas in /usr/local/lib/python3.10/dist-packages (from datasets) (2.2.2)\n",
            "Collecting xxhash (from datasets)\n",
            "  Downloading xxhash-3.5.0-cp310-cp310-manylinux_2_17_x86_64.manylinux2014_x86_64.whl.metadata (12 kB)\n",
            "Collecting multiprocess<0.70.17 (from datasets)\n",
            "  Downloading multiprocess-0.70.16-py310-none-any.whl.metadata (7.2 kB)\n",
            "Collecting fsspec<=2024.9.0,>=2023.1.0 (from fsspec[http]<=2024.9.0,>=2023.1.0->datasets)\n",
            "  Downloading fsspec-2024.9.0-py3-none-any.whl.metadata (11 kB)\n",
            "Requirement already satisfied: aiohttp in /usr/local/lib/python3.10/dist-packages (from datasets) (3.11.10)\n",
            "Requirement already satisfied: psutil in /usr/local/lib/python3.10/dist-packages (from accelerate) (5.9.5)\n",
            "Requirement already satisfied: torch>=1.10.0 in /usr/local/lib/python3.10/dist-packages (from accelerate) (2.5.1+cu121)\n",
            "Requirement already satisfied: typing_extensions>=4.8.0 in /usr/local/lib/python3.10/dist-packages (from bitsandbytes) (4.12.2)\n",
            "Requirement already satisfied: rich in /usr/local/lib/python3.10/dist-packages (from trl) (13.9.4)\n",
            "Requirement already satisfied: absl-py in /usr/local/lib/python3.10/dist-packages (from rouge_score) (1.4.0)\n",
            "Requirement already satisfied: nltk in /usr/local/lib/python3.10/dist-packages (from rouge_score) (3.9.1)\n",
            "Requirement already satisfied: six>=1.14.0 in /usr/local/lib/python3.10/dist-packages (from rouge_score) (1.17.0)\n",
            "Requirement already satisfied: click!=8.0.0,>=7.1 in /usr/local/lib/python3.10/dist-packages (from wandb) (8.1.7)\n",
            "Requirement already satisfied: docker-pycreds>=0.4.0 in /usr/local/lib/python3.10/dist-packages (from wandb) (0.4.0)\n",
            "Requirement already satisfied: gitpython!=3.1.29,>=1.0.0 in /usr/local/lib/python3.10/dist-packages (from wandb) (3.1.43)\n",
            "Requirement already satisfied: platformdirs in /usr/local/lib/python3.10/dist-packages (from wandb) (4.3.6)\n",
            "Requirement already satisfied: protobuf!=4.21.0,!=5.28.0,<6,>=3.19.0 in /usr/local/lib/python3.10/dist-packages (from wandb) (4.25.5)\n",
            "Requirement already satisfied: pydantic<3,>=2.6 in /usr/local/lib/python3.10/dist-packages (from wandb) (2.10.3)\n",
            "Requirement already satisfied: sentry-sdk>=2.0.0 in /usr/local/lib/python3.10/dist-packages (from wandb) (2.19.2)\n",
            "Requirement already satisfied: setproctitle in /usr/local/lib/python3.10/dist-packages (from wandb) (1.3.4)\n",
            "Requirement already satisfied: setuptools in /usr/local/lib/python3.10/dist-packages (from wandb) (75.1.0)\n",
            "Requirement already satisfied: aiohappyeyeballs>=2.3.0 in /usr/local/lib/python3.10/dist-packages (from aiohttp->datasets) (2.4.4)\n",
            "Requirement already satisfied: aiosignal>=1.1.2 in /usr/local/lib/python3.10/dist-packages (from aiohttp->datasets) (1.3.2)\n",
            "Requirement already satisfied: async-timeout<6.0,>=4.0 in /usr/local/lib/python3.10/dist-packages (from aiohttp->datasets) (4.0.3)\n",
            "Requirement already satisfied: attrs>=17.3.0 in /usr/local/lib/python3.10/dist-packages (from aiohttp->datasets) (24.3.0)\n",
            "Requirement already satisfied: frozenlist>=1.1.1 in /usr/local/lib/python3.10/dist-packages (from aiohttp->datasets) (1.5.0)\n",
            "Requirement already satisfied: multidict<7.0,>=4.5 in /usr/local/lib/python3.10/dist-packages (from aiohttp->datasets) (6.1.0)\n",
            "Requirement already satisfied: propcache>=0.2.0 in /usr/local/lib/python3.10/dist-packages (from aiohttp->datasets) (0.2.1)\n",
            "Requirement already satisfied: yarl<2.0,>=1.17.0 in /usr/local/lib/python3.10/dist-packages (from aiohttp->datasets) (1.18.3)\n",
            "Requirement already satisfied: gitdb<5,>=4.0.1 in /usr/local/lib/python3.10/dist-packages (from gitpython!=3.1.29,>=1.0.0->wandb) (4.0.11)\n",
            "Requirement already satisfied: annotated-types>=0.6.0 in /usr/local/lib/python3.10/dist-packages (from pydantic<3,>=2.6->wandb) (0.7.0)\n",
            "Requirement already satisfied: pydantic-core==2.27.1 in /usr/local/lib/python3.10/dist-packages (from pydantic<3,>=2.6->wandb) (2.27.1)\n",
            "Requirement already satisfied: charset-normalizer<4,>=2 in /usr/local/lib/python3.10/dist-packages (from requests->transformers) (3.4.0)\n",
            "Requirement already satisfied: idna<4,>=2.5 in /usr/local/lib/python3.10/dist-packages (from requests->transformers) (3.10)\n",
            "Requirement already satisfied: urllib3<3,>=1.21.1 in /usr/local/lib/python3.10/dist-packages (from requests->transformers) (2.2.3)\n",
            "Requirement already satisfied: certifi>=2017.4.17 in /usr/local/lib/python3.10/dist-packages (from requests->transformers) (2024.12.14)\n",
            "Requirement already satisfied: networkx in /usr/local/lib/python3.10/dist-packages (from torch>=1.10.0->accelerate) (3.4.2)\n",
            "Requirement already satisfied: jinja2 in /usr/local/lib/python3.10/dist-packages (from torch>=1.10.0->accelerate) (3.1.4)\n",
            "Requirement already satisfied: sympy==1.13.1 in /usr/local/lib/python3.10/dist-packages (from torch>=1.10.0->accelerate) (1.13.1)\n",
            "Requirement already satisfied: mpmath<1.4,>=1.1.0 in /usr/local/lib/python3.10/dist-packages (from sympy==1.13.1->torch>=1.10.0->accelerate) (1.3.0)\n",
            "Requirement already satisfied: joblib in /usr/local/lib/python3.10/dist-packages (from nltk->rouge_score) (1.4.2)\n",
            "Requirement already satisfied: python-dateutil>=2.8.2 in /usr/local/lib/python3.10/dist-packages (from pandas->datasets) (2.8.2)\n",
            "Requirement already satisfied: pytz>=2020.1 in /usr/local/lib/python3.10/dist-packages (from pandas->datasets) (2024.2)\n",
            "Requirement already satisfied: tzdata>=2022.7 in /usr/local/lib/python3.10/dist-packages (from pandas->datasets) (2024.2)\n",
            "Requirement already satisfied: markdown-it-py>=2.2.0 in /usr/local/lib/python3.10/dist-packages (from rich->trl) (3.0.0)\n",
            "Requirement already satisfied: pygments<3.0.0,>=2.13.0 in /usr/local/lib/python3.10/dist-packages (from rich->trl) (2.18.0)\n",
            "Requirement already satisfied: smmap<6,>=3.0.1 in /usr/local/lib/python3.10/dist-packages (from gitdb<5,>=4.0.1->gitpython!=3.1.29,>=1.0.0->wandb) (5.0.1)\n",
            "Requirement already satisfied: mdurl~=0.1 in /usr/local/lib/python3.10/dist-packages (from markdown-it-py>=2.2.0->rich->trl) (0.1.2)\n",
            "Requirement already satisfied: MarkupSafe>=2.0 in /usr/local/lib/python3.10/dist-packages (from jinja2->torch>=1.10.0->accelerate) (3.0.2)\n",
            "Downloading datasets-3.2.0-py3-none-any.whl (480 kB)\n",
            "\u001b[2K   \u001b[90m━━━━━━━━━━━━━━━━━━━━━━━━━━━━━━━━━━━━━━━━\u001b[0m \u001b[32m480.6/480.6 kB\u001b[0m \u001b[31m32.4 MB/s\u001b[0m eta \u001b[36m0:00:00\u001b[0m\n",
            "\u001b[?25hDownloading evaluate-0.4.3-py3-none-any.whl (84 kB)\n",
            "\u001b[2K   \u001b[90m━━━━━━━━━━━━━━━━━━━━━━━━━━━━━━━━━━━━━━━━\u001b[0m \u001b[32m84.0/84.0 kB\u001b[0m \u001b[31m9.3 MB/s\u001b[0m eta \u001b[36m0:00:00\u001b[0m\n",
            "\u001b[?25hDownloading bitsandbytes-0.45.0-py3-none-manylinux_2_24_x86_64.whl (69.1 MB)\n",
            "\u001b[2K   \u001b[90m━━━━━━━━━━━━━━━━━━━━━━━━━━━━━━━━━━━━━━━━\u001b[0m \u001b[32m69.1/69.1 MB\u001b[0m \u001b[31m11.7 MB/s\u001b[0m eta \u001b[36m0:00:00\u001b[0m\n",
            "\u001b[?25hDownloading trl-0.13.0-py3-none-any.whl (293 kB)\n",
            "\u001b[2K   \u001b[90m━━━━━━━━━━━━━━━━━━━━━━━━━━━━━━━━━━━━━━━━\u001b[0m \u001b[32m293.4/293.4 kB\u001b[0m \u001b[31m25.9 MB/s\u001b[0m eta \u001b[36m0:00:00\u001b[0m\n",
            "\u001b[?25hDownloading dill-0.3.8-py3-none-any.whl (116 kB)\n",
            "\u001b[2K   \u001b[90m━━━━━━━━━━━━━━━━━━━━━━━━━━━━━━━━━━━━━━━━\u001b[0m \u001b[32m116.3/116.3 kB\u001b[0m \u001b[31m13.8 MB/s\u001b[0m eta \u001b[36m0:00:00\u001b[0m\n",
            "\u001b[?25hDownloading fsspec-2024.9.0-py3-none-any.whl (179 kB)\n",
            "\u001b[2K   \u001b[90m━━━━━━━━━━━━━━━━━━━━━━━━━━━━━━━━━━━━━━━━\u001b[0m \u001b[32m179.3/179.3 kB\u001b[0m \u001b[31m18.5 MB/s\u001b[0m eta \u001b[36m0:00:00\u001b[0m\n",
            "\u001b[?25hDownloading multiprocess-0.70.16-py310-none-any.whl (134 kB)\n",
            "\u001b[2K   \u001b[90m━━━━━━━━━━━━━━━━━━━━━━━━━━━━━━━━━━━━━━━━\u001b[0m \u001b[32m134.8/134.8 kB\u001b[0m \u001b[31m15.2 MB/s\u001b[0m eta \u001b[36m0:00:00\u001b[0m\n",
            "\u001b[?25hDownloading xxhash-3.5.0-cp310-cp310-manylinux_2_17_x86_64.manylinux2014_x86_64.whl (194 kB)\n",
            "\u001b[2K   \u001b[90m━━━━━━━━━━━━━━━━━━━━━━━━━━━━━━━━━━━━━━━━\u001b[0m \u001b[32m194.1/194.1 kB\u001b[0m \u001b[31m20.8 MB/s\u001b[0m eta \u001b[36m0:00:00\u001b[0m\n",
            "\u001b[?25hBuilding wheels for collected packages: rouge_score\n",
            "  Building wheel for rouge_score (setup.py) ... \u001b[?25l\u001b[?25hdone\n",
            "  Created wheel for rouge_score: filename=rouge_score-0.1.2-py3-none-any.whl size=24935 sha256=c4c459c9f02939a286771cc595b122a27792878fda18a4cf43cbba22d11ea05c\n",
            "  Stored in directory: /root/.cache/pip/wheels/5f/dd/89/461065a73be61a532ff8599a28e9beef17985c9e9c31e541b4\n",
            "Successfully built rouge_score\n",
            "Installing collected packages: xxhash, fsspec, dill, rouge_score, multiprocess, bitsandbytes, datasets, trl, evaluate\n",
            "  Attempting uninstall: fsspec\n",
            "    Found existing installation: fsspec 2024.10.0\n",
            "    Uninstalling fsspec-2024.10.0:\n",
            "      Successfully uninstalled fsspec-2024.10.0\n",
            "\u001b[31mERROR: pip's dependency resolver does not currently take into account all the packages that are installed. This behaviour is the source of the following dependency conflicts.\n",
            "gcsfs 2024.10.0 requires fsspec==2024.10.0, but you have fsspec 2024.9.0 which is incompatible.\u001b[0m\u001b[31m\n",
            "\u001b[0mSuccessfully installed bitsandbytes-0.45.0 datasets-3.2.0 dill-0.3.8 evaluate-0.4.3 fsspec-2024.9.0 multiprocess-0.70.16 rouge_score-0.1.2 trl-0.13.0 xxhash-3.5.0\n"
          ]
        }
      ],
      "source": [
        "!pip3 install transformers datasets evaluate accelerate bitsandbytes peft trl rouge_score wandb"
      ]
    },
    {
      "cell_type": "markdown",
      "source": [
        "# Imports"
      ],
      "metadata": {
        "id": "e7qD3p3bZxTP"
      }
    },
    {
      "cell_type": "code",
      "execution_count": 2,
      "metadata": {
        "id": "N8T3H6RWTs2z"
      },
      "outputs": [],
      "source": [
        "from functools import partial\n",
        "import torch\n",
        "from torch.utils.data import DataLoader\n",
        "import transformers\n",
        "from datasets import load_dataset\n",
        "import evaluate\n",
        "from transformers import AutoModelForCausalLM, AutoTokenizer, BitsAndBytesConfig\n",
        "from transformers import DataCollatorWithPadding\n",
        "from transformers import Trainer, TrainingArguments\n",
        "from peft import get_peft_config, get_peft_model, LoraConfig, TaskType\n",
        "from peft import prepare_model_for_kbit_training, LoraConfig, get_peft_model\n",
        "from datasets import load_dataset\n",
        "from trl import SFTConfig, SFTTrainer\n",
        "from transformers import EarlyStoppingCallback"
      ]
    },
    {
      "cell_type": "markdown",
      "source": [
        "#Importing data"
      ],
      "metadata": {
        "id": "f2qg3e6Whpev"
      }
    },
    {
      "cell_type": "markdown",
      "source": [
        "### Loading the Datasets\n",
        "- **Purpose**: Load training and validation datasets from CSV files.\n",
        "- **Why Hugging Face `datasets`**:\n",
        "  - Efficient handling of datasets for NLP tasks.\n",
        "  - Direct compatibility with Hugging Face tokenizers and models.\n",
        "- **Verification**: Printing the dataset structure ensures that files are loaded with the expected features and rows."
      ],
      "metadata": {
        "id": "i8jweyioaFKs"
      }
    },
    {
      "cell_type": "code",
      "execution_count": 3,
      "metadata": {
        "colab": {
          "base_uri": "https://localhost:8080/",
          "height": 185,
          "referenced_widgets": [
            "2a765c96bf254da392260265d59b2a8c",
            "c28326d13067470880bb1cc228fdef61",
            "6b34d5a258ce4821a933f296f152fa1f",
            "666cda237e73437a9708fd8da9c8c61e",
            "e06d66de59224eabae68f8c9ccd56a28",
            "4a85e46ff49a43b29e061140d31e0bd7",
            "ba365e50df3e44ae987dab0686e7ca88",
            "5079b75ae3dd4994a76a6616f8d2a378",
            "4c237c96a34340be9f413b463cbd33ee",
            "8334ff06df05497799460d48f8c9c4c6",
            "314bbac46d2e4bc3bbc79df164bb7204",
            "fb96dd36bae64c8ba122483d0c3e1945",
            "eee995f8350a42fcbb60ba9381774a71",
            "34537fd3a61b4018bc3e90a2195187ec",
            "b26e6fa998af462b84c676fe8bbdeb3f",
            "748b75f1ea8742758fb2bd14a0347dd7",
            "d969fb9b2df749e3a43cf97c3f735b04",
            "537af754f4dc4c62b2929858047f4441",
            "b82ed96e10674d1abf3b6654a650d255",
            "801c65a014294f1d852b4870626c048e",
            "ff64ea99b1404539bf6cb1b5ef6c4217",
            "f7404fe2c018424db527841edadba9bc"
          ]
        },
        "id": "U5VkAX9LQcur",
        "outputId": "c37e66b5-1a54-458c-e72e-c2aebaff804a"
      },
      "outputs": [
        {
          "output_type": "display_data",
          "data": {
            "text/plain": [
              "Generating train split: 0 examples [00:00, ? examples/s]"
            ],
            "application/vnd.jupyter.widget-view+json": {
              "version_major": 2,
              "version_minor": 0,
              "model_id": "2a765c96bf254da392260265d59b2a8c"
            }
          },
          "metadata": {}
        },
        {
          "output_type": "display_data",
          "data": {
            "text/plain": [
              "Generating train split: 0 examples [00:00, ? examples/s]"
            ],
            "application/vnd.jupyter.widget-view+json": {
              "version_major": 2,
              "version_minor": 0,
              "model_id": "fb96dd36bae64c8ba122483d0c3e1945"
            }
          },
          "metadata": {}
        },
        {
          "output_type": "execute_result",
          "data": {
            "text/plain": [
              "DatasetDict({\n",
              "    train: Dataset({\n",
              "        features: ['ID', 'News Article', 'Caption'],\n",
              "        num_rows: 3000\n",
              "    })\n",
              "})"
            ]
          },
          "metadata": {},
          "execution_count": 3
        }
      ],
      "source": [
        "train_ds=load_dataset(\"csv\",data_files=\"./data/LABELLED_TRAIN.csv\")\n",
        "val_ds=load_dataset(\"csv\",data_files=\"./data/LABELLED_DEV.csv\")\n",
        "train_ds"
      ]
    },
    {
      "cell_type": "code",
      "execution_count": 4,
      "metadata": {
        "colab": {
          "base_uri": "https://localhost:8080/"
        },
        "id": "LjnOTowAQypn",
        "outputId": "0878b11e-af6e-4f56-9436-d5edfd091a05"
      },
      "outputs": [
        {
          "output_type": "execute_result",
          "data": {
            "text/plain": [
              "Dataset({\n",
              "    features: ['ID', 'News Article', 'Caption'],\n",
              "    num_rows: 3000\n",
              "})"
            ]
          },
          "metadata": {},
          "execution_count": 4
        }
      ],
      "source": [
        "train_ds[\"train\"]"
      ]
    },
    {
      "cell_type": "markdown",
      "source": [
        "- **Dataset Features**:\n",
        "  - `ID`: A unique identifier for each news article.\n",
        "  - `News Article`: The full text of the news article, which serves as the input for generating headlines.\n",
        "  - `Caption`: The corresponding headline or summary of the news article, which serves as the target output.\n"
      ],
      "metadata": {
        "id": "UGBqVoYUaIpa"
      }
    },
    {
      "cell_type": "markdown",
      "source": [
        "## what is the average number of tokens in the News Article"
      ],
      "metadata": {
        "id": "NwORZ8DEh0x8"
      }
    },
    {
      "cell_type": "markdown",
      "source": [
        "### Token Length Analysis\n",
        "- **Objective**: Understand the tokenization characteristics of the dataset to ensure compatibility with the model's maximum input length and optimize training.\n"
      ],
      "metadata": {
        "id": "hr1P9RJ6afSd"
      }
    },
    {
      "cell_type": "markdown",
      "source": [
        "1. **Tokenizer Selection**:\n",
        "   - The `T5Tokenizer` for the `google/t5-small` model is used to preprocess the text into token IDs compatible with the model.\n",
        "\n",
        "2. **Tokenization**:\n",
        "   - Tokenizing the `News Article` column helps calculate the number of tokens for each article.\n",
        "   - Understanding token lengths ensures the model's input length does not exceed its limit (usually 512 or 1024 tokens for T5).\n",
        "\n",
        "3. **Analysis**:\n",
        "   - The average number of tokens across all articles is computed to determine if truncation is required during training.\n",
        "   - A sample prompt's token count is compared to estimate the space left for actual article content when prefixed.\n",
        "\n",
        "#### Insights\n",
        "- If the average token length is significantly lower than the maximum input size, more content can be included in the input.\n",
        "- A long prompt (e.g., 20+ tokens) reduces the available space for the actual article text and may require trimming the input.\n"
      ],
      "metadata": {
        "id": "wSXnfktjalC-"
      }
    },
    {
      "cell_type": "code",
      "execution_count": 5,
      "metadata": {
        "colab": {
          "base_uri": "https://localhost:8080/",
          "height": 307,
          "referenced_widgets": [
            "eaa44637a08840628ddad3e0e96bc478",
            "65cac246fb764b5a9332767b85138937",
            "300c3ace730146dd91ad773d6712f1d0",
            "9c13819cb6d04ab0a4d27750bf53c002",
            "cd201831b8bf40668f792dd072c7afb9",
            "67d5ff1ff84c4de0bb08cb14f399ffe9",
            "8f8fbad9ca584dec918d34cb74a0943c",
            "2473634f066f44f8ae8fdb61d055bb3b",
            "fb44fa4944c444488856967d9d6c9621",
            "21595ff5d7d54f78ac0316bb4bea351e",
            "d195e13f7a57403384821e732227a730",
            "c056c3d73c9b48a19fb654b5f5386ba0",
            "72abf60b253e498996544ae2c03f3d74",
            "414a0b0fac7049c6a19d5c05169aa035",
            "431462f2ad5f4541aa5b6309010ddea8",
            "509ea1f3b52548e386ea0a85899e7b45",
            "7cc3e8c504b54677b9daa250ef5183cb",
            "c89da056f16d4b038067074430ec9460",
            "07bf8fe25614436aa133d78a3179afeb",
            "417750313f5a424ebd863e4c0f41c3fe",
            "12ae491872174cc29a9f2a55cac938ad",
            "e9b77288da9e45ffa8890718a6202702",
            "1020c46ac5464d96b019a87dcab7d8ca",
            "581871cc399b42afb4712c1a801a2a7b",
            "3abb953d1a6145e2b6a52857bf8faa24",
            "8108748552e64077bf4afc61ba6d8e47",
            "5359810acd844b0da5894a8cd2e81181",
            "1dc21b1340c24930b825fd0ad0b3f90d",
            "eb35bffec7dd49ffa36f605a68f06599",
            "0c7d5bd6aeef4443a624f58aae194a94",
            "29299ee399f8452bb132bf77826b3161",
            "844ad86fae574725b8d1b3ad6eb29c23",
            "2e8138f5a458411faeb2456dea4dd65f"
          ]
        },
        "id": "YmCpdVGIdEi5",
        "outputId": "384faa4e-4320-4194-e0ad-8121e5e71826"
      },
      "outputs": [
        {
          "output_type": "stream",
          "name": "stderr",
          "text": [
            "/usr/local/lib/python3.10/dist-packages/huggingface_hub/utils/_auth.py:94: UserWarning: \n",
            "The secret `HF_TOKEN` does not exist in your Colab secrets.\n",
            "To authenticate with the Hugging Face Hub, create a token in your settings tab (https://huggingface.co/settings/tokens), set it as secret in your Google Colab and restart your session.\n",
            "You will be able to reuse this secret in all of your notebooks.\n",
            "Please note that authentication is recommended but still optional to access public models or datasets.\n",
            "  warnings.warn(\n"
          ]
        },
        {
          "output_type": "display_data",
          "data": {
            "text/plain": [
              "tokenizer_config.json:   0%|          | 0.00/2.32k [00:00<?, ?B/s]"
            ],
            "application/vnd.jupyter.widget-view+json": {
              "version_major": 2,
              "version_minor": 0,
              "model_id": "eaa44637a08840628ddad3e0e96bc478"
            }
          },
          "metadata": {}
        },
        {
          "output_type": "display_data",
          "data": {
            "text/plain": [
              "spiece.model:   0%|          | 0.00/792k [00:00<?, ?B/s]"
            ],
            "application/vnd.jupyter.widget-view+json": {
              "version_major": 2,
              "version_minor": 0,
              "model_id": "c056c3d73c9b48a19fb654b5f5386ba0"
            }
          },
          "metadata": {}
        },
        {
          "output_type": "display_data",
          "data": {
            "text/plain": [
              "tokenizer.json:   0%|          | 0.00/1.39M [00:00<?, ?B/s]"
            ],
            "application/vnd.jupyter.widget-view+json": {
              "version_major": 2,
              "version_minor": 0,
              "model_id": "1020c46ac5464d96b019a87dcab7d8ca"
            }
          },
          "metadata": {}
        },
        {
          "output_type": "stream",
          "name": "stderr",
          "text": [
            "You are using the default legacy behaviour of the <class 'transformers.models.t5.tokenization_t5.T5Tokenizer'>. This is expected, and simply means that the `legacy` (previous) behavior will be used so nothing changes for you. If you want to use the new behaviour, set `legacy=False`. This should only be set if you understand what it means, and thoroughly read the reason why this was added as explained in https://github.com/huggingface/transformers/pull/24565\n",
            "Token indices sequence length is longer than the specified maximum sequence length for this model (528 > 512). Running this sequence through the model will result in indexing errors\n"
          ]
        },
        {
          "output_type": "stream",
          "name": "stdout",
          "text": [
            "20\n",
            "Average number of tokens per input: 243.39166666666668\n"
          ]
        }
      ],
      "source": [
        "  # Sample dataset\n",
        "from transformers import T5Tokenizer, T5ForConditionalGeneration\n",
        "tokenizer = T5Tokenizer.from_pretrained(\"google-t5/t5-small\")\n",
        "inputs = train_ds[\"train\"][\"News Article\"]  #\n",
        "\n",
        "# Tokenize the inputs and calculate the number of tokens\n",
        "token_lengths = [len(tokenizer.encode(input_text)) for input_text in inputs]\n",
        "\n",
        "# Calculate the average number of tokens\n",
        "average_token_length = sum(token_lengths) / len(token_lengths)\n",
        "print(len(tokenizer.encode(\"Create an engaging, accurate headline for this news article. Be creative while maintaining context and professionalism.\")))\n",
        "print(f\"Average number of tokens per input: {average_token_length}\")"
      ]
    },
    {
      "cell_type": "markdown",
      "source": [
        "- **Average Token Length**: 243.39 tokens per input, which is well within the limit, but outliers like the one above need handling."
      ],
      "metadata": {
        "id": "x89ReFrva05t"
      }
    },
    {
      "cell_type": "markdown",
      "source": [
        "#### Actions:\n",
        "1. **Truncation**: Shorten inputs exceeding 512 tokens to prevent errors.\n",
        "2. **Prompt Optimization**: Reduce the length of prompts to maximize usable space for article content.\n",
        "3. **Padding**: Ensure inputs shorter than the max length are padded for consistent processing.\n"
      ],
      "metadata": {
        "id": "UHNlZzLIa7ul"
      }
    },
    {
      "cell_type": "markdown",
      "metadata": {
        "id": "ZUn213pwatcP"
      },
      "source": [
        "# Preprocessing 🏹"
      ]
    },
    {
      "cell_type": "markdown",
      "source": [
        "### Tokenization and Input Preparation"
      ],
      "metadata": {
        "id": "ys8Wwau1bs6r"
      }
    },
    {
      "cell_type": "markdown",
      "source": [
        "1. **Instruction Prefix**:\n",
        "   - Add `Create an engaging, accurate headline for this news article while maintaining context:` as a prefix to the \"News Article\" for better **task-specific guidance** to the model.\n",
        "2. **Tokenization**:\n",
        "   - Inputs are tokenized with truncation enabled to avoid sequence length overflow.\n",
        "   - Padding is *skipped* here for **dynamic padding** during batching with DataCollator\n",
        "  \n",
        "3. **Label Tokenization**:\n",
        "   - Targets (\"Caption\") are tokenized with `max_length=52` and `padding='max_length'`. This ensures consistent label lengths for model training.\n",
        "4. **Labels Addition**:\n",
        "   - `model_inputs` dictionary includes tokenized inputs and corresponding labels, making it ready for the model.\n",
        "\n"
      ],
      "metadata": {
        "id": "EBpOtN6fbt54"
      }
    },
    {
      "cell_type": "code",
      "execution_count": 8,
      "metadata": {
        "colab": {
          "base_uri": "https://localhost:8080/",
          "height": 35
        },
        "id": "z2NSZkJqU10d",
        "outputId": "ab1905be-f31d-4c83-e108-f821363470fd"
      },
      "outputs": [
        {
          "output_type": "execute_result",
          "data": {
            "text/plain": [
              "'cuda'"
            ],
            "application/vnd.google.colaboratory.intrinsic+json": {
              "type": "string"
            }
          },
          "metadata": {},
          "execution_count": 8
        }
      ],
      "source": [
        "device=\"cuda\" if torch.cuda.is_available else \"cpu\"\n",
        "device"
      ]
    },
    {
      "cell_type": "code",
      "execution_count": 81,
      "metadata": {
        "id": "AoEJG8z1avlG"
      },
      "outputs": [],
      "source": [
        "def preprocess_function(example, tokenizer, max_target_length=52):\n",
        "    inputs = example[\"News Article\"]\n",
        "    targets = example[\"Caption\"]\n",
        "\n",
        "    # Add instruction prefix to the input (if required)\n",
        "    # inputs = [f\"\"\"headline : {text}\"\"\" for text in inputs]\n",
        "    inputs=[f\"\"\"Create an engaging, accurate headline for this news article while maintaining context {text}\"\"\" for text in inputs]\n",
        "    #print(inputs)\n",
        "    # print(tokenizer.decode(inputs[\"input_ids\"][1]))\n",
        "\n",
        "    # Tokenize without padding (we'll handle padding dynamically later)\n",
        "    model_inputs = tokenizer(inputs, truncation=True, padding=False)\n",
        "    labels = tokenizer(targets, max_length=max_target_length, padding='max_length', truncation=True)\n",
        "    # Add labels to the input dictionary\n",
        "    model_inputs[\"labels\"] = labels[\"input_ids\"]\n",
        "\n",
        "    return model_inputs"
      ]
    },
    {
      "cell_type": "markdown",
      "source": [
        "determines the computational device (GPU or CPU) to be used for training and inference, ensuring the most efficient execution."
      ],
      "metadata": {
        "id": "LXb8N_dNcaf1"
      }
    },
    {
      "cell_type": "markdown",
      "source": [
        "## Computation of metrics"
      ],
      "metadata": {
        "id": "EvAGoor6jJeA"
      }
    },
    {
      "cell_type": "code",
      "source": [
        "from evaluate import load\n",
        "rouge = load(\"rouge\")\n",
        "bleu=load(\"bleu\")\n",
        "\n",
        "def compute_metrics(pred,tokenizer):\n",
        "\n",
        "    labels_ids = pred.label_ids\n",
        "    pred_ids = pred.predictions[0]\n",
        "\n",
        "    pred_str = tokenizer.batch_decode(pred_ids, skip_special_tokens=True)\n",
        "    labels_ids[labels_ids == -100] = tokenizer.pad_token_id\n",
        "    label_str = tokenizer.batch_decode(labels_ids, skip_special_tokens=True)\n",
        "\n",
        "    rouge_output = rouge.compute(\n",
        "        predictions=pred_str,\n",
        "        references=label_str,\n",
        "        rouge_types=[\"rouge1\", \"rouge2\", \"rougeL\"],\n",
        "    )\n",
        "    bleu_output=bleu.compute(predictions=pred_str, references=label_str)\n",
        "\n",
        "    return {\n",
        "\n",
        "\n",
        "         \"rouge1\": round(rouge_output[\"rouge1\"],4),\n",
        "        \"rouge2\": round(rouge_output[\"rouge2\"], 4),\n",
        "        \"rougeL\": round(rouge_output[\"rougeL\"], 4),\n",
        "        \"bleu\": round(bleu_output[\"bleu\"], 4)\n",
        "\n",
        "    }\n",
        "def preprocess_logits_for_metrics(logits, labels):\n",
        "    \"\"\"\n",
        "    Original Trainer may have a memory leak.\n",
        "    This is a workaround to avoid storing too many tensors that are not needed.\n",
        "    \"\"\"\n",
        "    pred_ids = torch.argmax(logits[0], dim=-1)\n",
        "    return pred_ids, labels"
      ],
      "metadata": {
        "id": "g0H2Mi3ZjLD2"
      },
      "execution_count": 137,
      "outputs": []
    },
    {
      "cell_type": "markdown",
      "metadata": {
        "id": "euRT4Q_zUXvk"
      },
      "source": [
        "# t5 ⛵"
      ]
    },
    {
      "cell_type": "code",
      "execution_count": null,
      "metadata": {
        "id": "ppJBzaN-6pEc"
      },
      "outputs": [],
      "source": [
        "\n",
        "# peft_config = LoraConfig(\n",
        "#     task_type=TaskType.CAUSAL_LM, inference_mode=False, r=32, lora_alpha=16, lora_dropout=0.1,\n",
        "#     target_modules=['q','k','v'] # optional, you can target specific layers using this\n",
        "# )"
      ]
    },
    {
      "cell_type": "markdown",
      "source": [
        "## Model Setup with QLoRA and PEFT for Efficient Training"
      ],
      "metadata": {
        "id": "Aww9O7iQdiVK"
      }
    },
    {
      "cell_type": "markdown",
      "source": [
        "**This is important when working with large models like T5 in resource-constrained environments.\n",
        "*\n",
        "- https://huggingface.co/google-t5/t5-base\n",
        "#### 1. **Model Size Consideration:**\n",
        "The T5 model in question contains **220 million** parameters, which would be inefficient and resource-heavy to train on a platform like Google Colab due to the large memory and compute requirements. Fine-tuning such a model on Colab without memory optimizations can lead to long training times or out-of-memory errors.'\n",
        "\n",
        "#### 2. **QLoRA Configuration**:\n",
        "- We use 4-bit quantization for memory efficiency (`load_in_4bit=True`). This reduces the size of the model weights while still maintaining model performance.\n",
        "- `bnb_4bit_use_double_quant=True` enables double quantization, further optimizing the model’s storage.\n",
        "- We specify `bnb_4bit_quant_type=\"nf4\"` to use the \"nf4\" quantization type, which allows for smaller weight representation without sacrificing too much accuracy.\n",
        "- The compute data type is set to `torch.float16` for faster computation and reduced memory footprint during training.\n",
        "\n",
        "#### 3. **LoRA Configuration**:\n",
        "- **LoRA** helps to reduce the number of trainable parameters by focusing only on modifying the low-rank adaptation matrices rather than the entire model.\n",
        "- `r=4` specifies the rank for the low-rank matrices, controlling how much the adaptation will modify the model.\n",
        "- `lora_alpha=16` scales the low-rank matrices. A higher value means more significant adaptations in the model.\n",
        "- `target_modules=['q', 'k', 'v']` indicates that LoRA will be applied to the attention layers (queries, keys, and values) which are crucial for transformer models.\n",
        "- `lora_dropout=0.05` introduces dropout in the LoRA layers for regularization, reducing overfitting.\n",
        "- `bias=\"none\"` avoids adding a bias term in the LoRA layers to make the training even more efficient.\n",
        "\n",
        "This setup is optimized for training with less memory while maintaining high performance, which is essential given the large model size of T5 and the constraints of Colab."
      ],
      "metadata": {
        "id": "QfM4aP0zeAm-"
      }
    },
    {
      "cell_type": "code",
      "execution_count": 91,
      "metadata": {
        "colab": {
          "base_uri": "https://localhost:8080/",
          "height": 212,
          "referenced_widgets": [
            "1300e75ec3b044e1802cd08e6436d58c",
            "8d31804c9cc64ee4ba9f240ba7b25fa8",
            "be954f67e67c4f0cb574675da5fb4aec",
            "9b8acd41fec440b1be7073867f6c2e3b",
            "751cedb3ad434a30957281ef2f45cdc6",
            "45994bb4bb0c40f5ab2e988729ac94da",
            "b842cbcefaa343d78ae3bd647b387763",
            "58bc8c8b99914157b916dbec8a9643a0",
            "e0c388aba8c94ec89efa32ea4f116b3b",
            "3c3a7910f76b4baea36b6b7804516434",
            "fb3365f6c0c642389050576c97393855",
            "29889bdda2d243d79740ae8b55bdb87a",
            "97fdd1daf6f140448884b19305d290ea",
            "70f0cdab6f4d49a8954e8ac38a0d6619",
            "e6205f1532a345929f74aea28170fb17",
            "640ad5ca1c514af0ba2e2bf6418594b6",
            "78d894d4ff17417394f7106b827024ce",
            "838356e555104933822950637b83afb9",
            "857ff087e0f44e6e89b4189be718d339",
            "361336ff7e504cfaab5d5af9d1c2e6b7",
            "d8777ab3da5e4dc6ba9b9a78e2d76ba5",
            "3511c45d5e2645e5b2eeaa664f7621c6",
            "9e966fe1dc6a440b9aec97b32fcb4415",
            "acede41ea0ab476890a991562218a9c2",
            "74271b9325894492b82f38fb39bbf700",
            "a9a8cbfe53b543a3ae7e1b15d29d8b95",
            "0402b2380f1f46ebbc075c57078de311",
            "2d11c14c07b1492eac48315176579486",
            "2a40fbb8d9a64938b23fe96d17e10fd0",
            "4dbcc9f307fa458b9d3553e87cf61bfd",
            "b54c6084617c4cb7846e8afb89e7b58f",
            "87d8ba78bee3426c82623fae951cb6e8",
            "826abf20652743428a0cff1ca68e87e5",
            "2b35bc55880147e38605be15f17f5bfc",
            "7ac677cd6ac742fb99ca73b83c9c06d7",
            "5a2a323862244a83bfa636579e773d80",
            "fd7246f6239f48999208c57b77b3bce1",
            "fd2a6cdbf5af43a8902b808588f3aa84",
            "c027f2d67cea41bc82bef06c68379b3a",
            "2b8e0adc762a4d4c9194ddb21bef1fee",
            "f22e7df82efe4941b6b119e2590c9fd9",
            "abef88a754224b3f98aa3ae4324905f4",
            "809e3fc07bf24360a3f96bdc9f2de128",
            "c93b18374fbb4911b3a1a1cda8aba5d9",
            "ced93732e6ec4b0abef9b0057a5d137a",
            "7c42f44a549b4ed5b2b5da1ad6e0916c",
            "af76a30efe1141779ac9981db2e5ca4a",
            "777c2136f08e43f8a0e8c5176816b74b",
            "d527850657344966a7301971d62878e9",
            "7e00e9524924489f9bd045be7e29eddf",
            "9f14104b5fd84435bee51bfd440465f9",
            "a8414e33e2e34d4ca8d393eb2be97fc8",
            "f9cde68b615a409e990bb097d3533fbc",
            "85705ff95cd84fd19bbdee23dc7eaa5d",
            "2bfd64daf2874edd9c6a45b6bbf07e1e"
          ]
        },
        "id": "7AIZkCiMW1A9",
        "outputId": "5b494f83-fbfc-49af-c0c5-534ec4877cfe"
      },
      "outputs": [
        {
          "output_type": "display_data",
          "data": {
            "text/plain": [
              "tokenizer_config.json:   0%|          | 0.00/43.0 [00:00<?, ?B/s]"
            ],
            "application/vnd.jupyter.widget-view+json": {
              "version_major": 2,
              "version_minor": 0,
              "model_id": "1300e75ec3b044e1802cd08e6436d58c"
            }
          },
          "metadata": {}
        },
        {
          "output_type": "display_data",
          "data": {
            "text/plain": [
              "spiece.model:   0%|          | 0.00/792k [00:00<?, ?B/s]"
            ],
            "application/vnd.jupyter.widget-view+json": {
              "version_major": 2,
              "version_minor": 0,
              "model_id": "29889bdda2d243d79740ae8b55bdb87a"
            }
          },
          "metadata": {}
        },
        {
          "output_type": "display_data",
          "data": {
            "text/plain": [
              "special_tokens_map.json:   0%|          | 0.00/1.79k [00:00<?, ?B/s]"
            ],
            "application/vnd.jupyter.widget-view+json": {
              "version_major": 2,
              "version_minor": 0,
              "model_id": "9e966fe1dc6a440b9aec97b32fcb4415"
            }
          },
          "metadata": {}
        },
        {
          "output_type": "display_data",
          "data": {
            "text/plain": [
              "config.json:   0%|          | 0.00/1.24k [00:00<?, ?B/s]"
            ],
            "application/vnd.jupyter.widget-view+json": {
              "version_major": 2,
              "version_minor": 0,
              "model_id": "2b35bc55880147e38605be15f17f5bfc"
            }
          },
          "metadata": {}
        },
        {
          "output_type": "stream",
          "name": "stderr",
          "text": [
            "`low_cpu_mem_usage` was None, now default to True since model is quantized.\n"
          ]
        },
        {
          "output_type": "display_data",
          "data": {
            "text/plain": [
              "pytorch_model.bin:   0%|          | 0.00/892M [00:00<?, ?B/s]"
            ],
            "application/vnd.jupyter.widget-view+json": {
              "version_major": 2,
              "version_minor": 0,
              "model_id": "ced93732e6ec4b0abef9b0057a5d137a"
            }
          },
          "metadata": {}
        },
        {
          "output_type": "stream",
          "name": "stdout",
          "text": [
            "trainable params: 663,552 || all params: 223,567,104 || trainable%: 0.2968\n"
          ]
        }
      ],
      "source": [
        "from transformers import T5Tokenizer, T5ForConditionalGeneration\n",
        "#applying qlora\n",
        "bnb_config = BitsAndBytesConfig(\n",
        "    load_in_4bit=True,\n",
        "    bnb_4bit_use_double_quant=True,\n",
        "    bnb_4bit_quant_type=\"nf4\",\n",
        "    bnb_4bit_compute_dtype=torch.float16\n",
        ")\n",
        "\n",
        "t5_tokenizer = T5Tokenizer.from_pretrained(\"Michau/t5-base-en-generate-headline\")\n",
        "\n",
        "t5_model = T5ForConditionalGeneration.from_pretrained(\"Michau/t5-base-en-generate-headline\",quantization_config=bnb_config)\n",
        "# t5_model.gradient_checkpointing_enable()\n",
        "# t5_model.gradient_checkpointing_disable()\n",
        "t5_model=prepare_model_for_kbit_training(t5_model)\n",
        "config = LoraConfig(\n",
        "    r=4,\n",
        "    lora_alpha=16,\n",
        "    target_modules=['q','k','v'],\n",
        "    lora_dropout=0.05,\n",
        "    bias=\"none\",\n",
        "    task_type=\"CAUSAL_LM\"\n",
        ")\n",
        "\n",
        "t5_model = get_peft_model(t5_model, config)\n",
        "\n",
        "# t5_model= get_peft_model(t5_model, peft_config)\n",
        "t5_model.print_trainable_parameters()"
      ]
    },
    {
      "cell_type": "markdown",
      "source": [
        " **Model Parameters with QLoRA**\n",
        "\n",
        "After applying QLoRA, the model has:\n",
        "\n",
        "- **Trainable Parameters**: 663,552 (0.2968% of total parameters)\n",
        "- **Total Parameters**: 223,567,104\n",
        "\n",
        "QLoRA helps optimize memory usage by quantizing the model, which reduces the need to update all parameters. Only a small fraction of task-specific parameters are trained, making the process more efficient and suitable for resource-limited environments like Colab. This approach allows us to work with a large model without overwhelming system memory."
      ],
      "metadata": {
        "id": "xwxySbX9gnzI"
      }
    },
    {
      "cell_type": "markdown",
      "source": [
        "### Tokenization and Preprocessing"
      ],
      "metadata": {
        "id": "nT-E_tsQgv34"
      }
    },
    {
      "cell_type": "markdown",
      "source": [
        "set the `t5_max_input_length` to the model’s max input length to avoid exceeding the sequence limit. The `preprocess_function` is applied to tokenize and process the datasets, removing unnecessary columns. Finally, we use `DataCollatorWithPadding` to dynamically pad batches, optimizing memory usage and training efficiency."
      ],
      "metadata": {
        "id": "ONGYfzllg1Xj"
      }
    },
    {
      "cell_type": "code",
      "execution_count": 92,
      "metadata": {
        "id": "APUP6kMlW8LU",
        "colab": {
          "base_uri": "https://localhost:8080/",
          "height": 81,
          "referenced_widgets": [
            "acef5fd560c4473a853436d20a4aa30b",
            "0c4499faf4d145b88947b10b53d60afe",
            "aecde5e6e4704ba09af335021fc5050c",
            "6a25f47b5fec4508aca4b50d5e55a44f",
            "df09eec7721349d7b90e6d2dcc4c22db",
            "3d4dd34d3b4843738b9d8ef2b40f0906",
            "474cca65d03248f5bf7a48dc23f90c05",
            "5d9bf78b93334db89d9126632cc2e7ac",
            "99e63185542f4f04aeac3fcc95be6954",
            "c78500696f6b411f86ef6a190ac0d633",
            "80a3338372c44a2b88b2d27e8f80d21a",
            "3d8999ee6a0c4558886ce36c2f50ad67",
            "81e6b4a2dd4a4f71882d14f287434478",
            "304ecd250fac44c8878c931504c8bb2d",
            "833038c99a974679b2c1d3069cb46158",
            "f0ee255fcbd54282965c1c9f145a93b0",
            "2d6c47a57e724153a7e42debc4371790",
            "be86c7f8b15d492e8be7ac5e201ad8c0",
            "a835126490154a3cb74bb6d6561f5b42",
            "88e2f8e347f740bda01b7e16cb17da92",
            "f568478886c04be999fd70cba8f703bb",
            "a4cc11dd245741598ad0d9b1fc03a071"
          ]
        },
        "outputId": "b84e6c29-d892-4284-8d19-36a3a734ecec"
      },
      "outputs": [
        {
          "output_type": "display_data",
          "data": {
            "text/plain": [
              "Map:   0%|          | 0/3000 [00:00<?, ? examples/s]"
            ],
            "application/vnd.jupyter.widget-view+json": {
              "version_major": 2,
              "version_minor": 0,
              "model_id": "acef5fd560c4473a853436d20a4aa30b"
            }
          },
          "metadata": {}
        },
        {
          "output_type": "display_data",
          "data": {
            "text/plain": [
              "Map:   0%|          | 0/1000 [00:00<?, ? examples/s]"
            ],
            "application/vnd.jupyter.widget-view+json": {
              "version_major": 2,
              "version_minor": 0,
              "model_id": "3d8999ee6a0c4558886ce36c2f50ad67"
            }
          },
          "metadata": {}
        }
      ],
      "source": [
        "t5_max_input_length = t5_tokenizer.model_max_length\n",
        "#apply the preprocessing function to the dataswt\n",
        "preprocess_with_params=partial(preprocess_function, tokenizer=t5_tokenizer)\n",
        "tokenized_train_ds = train_ds.map(preprocess_with_params, batched=True,remove_columns=[\"ID\", \"News Article\", \"Caption\"])\n",
        "tokenized_val_ds=val_ds.map(preprocess_with_params,batched=True,remove_columns=[\"ID\", \"News Article\", \"Caption\"])\n",
        "\n",
        "#data collator for dynamic padding\n",
        "data_collator = DataCollatorWithPadding(tokenizer=t5_tokenizer)\n"
      ]
    },
    {
      "cell_type": "code",
      "execution_count": 93,
      "metadata": {
        "colab": {
          "base_uri": "https://localhost:8080/"
        },
        "id": "zPXnmKOItl3J",
        "outputId": "281a3f07-904f-4c03-d62c-716328f0fc77"
      },
      "outputs": [
        {
          "output_type": "stream",
          "name": "stdout",
          "text": [
            "Model is placed on: cuda\n"
          ]
        }
      ],
      "source": [
        "import torch\n",
        "\n",
        "# Check if a GPU is available, otherwise use CPU\n",
        "device = torch.device(\"cuda\" if torch.cuda.is_available() else \"cpu\")\n",
        "\n",
        "# Move the model to the chosen device\n",
        "t5_model.to(device)\n",
        "\n",
        "# Print the device to confirm\n",
        "print(f\"Model is placed on: {device}\")"
      ]
    },
    {
      "cell_type": "markdown",
      "source": [
        "### Trainer Configuration\n",
        "\n",
        "The `TrainingArguments` are set to control various aspects of the training process. This includes saving results, evaluating after each epoch, setting the learning rate, batch sizes for training and evaluation, and controlling the frequency of logging and saving checkpoints. Additionally, we specify the `Trainer` to use the preloaded model, tokenized datasets, and necessary components like the tokenizer and metrics."
      ],
      "metadata": {
        "id": "GgMPCj_Gg8sX"
      }
    },
    {
      "cell_type": "markdown",
      "source": [
        "### Hyperparameter Justification\n",
        "\n",
        "1. **Evaluation Strategy (`\"epoch\"`)**: Evaluates the model after each epoch to track progress and avoid overfitting.\n",
        "2. **Learning Rate (`5e-5`)**: A common choice for fine-tuning T5 models, balancing convergence and stability.\n",
        "3. **Batch Size (`4` for training, `2` for evaluation)**: Chosen to fit within GPU memory limits in Colab, allowing frequent updates.\n",
        "4. **Epochs (`1`)**: A quick starting point for experimentation, adjusting if necessary.\n",
        "5. **Weight Decay (`0.01`)**: Regularization to prevent overfitting by penalizing large weights.\n",
        "6. **Logging & Saving (`10` steps)**: Logs and saves every 10 steps to monitor progress and store recent checkpoints.\n",
        "7. **Accumulation Steps (`4`)**: Reduces evaluation frequency for faster training while still tracking performance.\n",
        "\n",
        "These choices balance performance and computational efficiency for quick experimentation."
      ],
      "metadata": {
        "id": "CAVxfPIphEr4"
      }
    },
    {
      "cell_type": "code",
      "execution_count": 101,
      "metadata": {
        "id": "PebOPjJit_im",
        "colab": {
          "base_uri": "https://localhost:8080/"
        },
        "outputId": "0d09c2ac-f5ff-4b07-87f2-752a1e6b4db5"
      },
      "outputs": [
        {
          "output_type": "stream",
          "name": "stderr",
          "text": [
            "/usr/local/lib/python3.10/dist-packages/transformers/training_args.py:1575: FutureWarning: `evaluation_strategy` is deprecated and will be removed in version 4.46 of 🤗 Transformers. Use `eval_strategy` instead\n",
            "  warnings.warn(\n",
            "<ipython-input-101-c4ebb0d013d3>:18: FutureWarning: `tokenizer` is deprecated and will be removed in version 5.0.0 for `Trainer.__init__`. Use `processing_class` instead.\n",
            "  trainer = Trainer(\n"
          ]
        }
      ],
      "source": [
        "training_args = TrainingArguments(\n",
        "    output_dir='./results',  # where to save the results\n",
        "    evaluation_strategy=\"epoch\",  # evaluate after each epoch\n",
        "    learning_rate=5e-5,  # learning rate\n",
        "    per_device_train_batch_size=4,  # batch size for training\n",
        "    per_device_eval_batch_size=2,  # batch size for evaluation\n",
        "    num_train_epochs=1,\n",
        "    report_to=\"none\" ,# number of training epochs\n",
        "    weight_decay=0.01,  # weight decay for regularization\n",
        "    logging_dir='./logs',  # where to store logs\n",
        "    logging_steps=10,  # log every 10 steps\n",
        "    save_steps=10,  # save model every 10 steps\n",
        "    save_total_limit=2,\n",
        "    eval_accumulation_steps=4\n",
        "    # no_cuda=False# keep only the 2 most recent checkpoints\n",
        "\n",
        ")\n",
        "trainer = Trainer(\n",
        "    model=t5_model,  # your preloaded model\n",
        "    args=training_args,\n",
        "    train_dataset=tokenized_train_ds,\n",
        "    eval_dataset=tokenized_val_ds,\n",
        "    tokenizer=t5_tokenizer,\n",
        "    data_collator=data_collator,\n",
        "    compute_metrics=compute_metrics,  # optional: if you want to add metrics\n",
        ")"
      ]
    },
    {
      "cell_type": "markdown",
      "source": [
        "\n",
        "\n",
        "> **Note on Trainer Choice** 🔴 🔴 🔴 🔴 🔴\n",
        "While we initially set up the `Trainer` for model fine-tuning, we opted for **Supervised Fine-Tuning (SFT)** with `SFTConfig` instead. This decision was made because **SFT** provides more flexibility and efficiency for fine-tuning tasks, especially when working with specific datasets and model configurations like QLoRA. Using `SFTConfig` allows for more control over the training process, such as customized loss functions and better management of computational resources.\n",
        "\n",
        "\n",
        "\n"
      ],
      "metadata": {
        "id": "yU7ipY3dhTr4"
      }
    },
    {
      "cell_type": "markdown",
      "source": [
        "## Supervised finetuning"
      ],
      "metadata": {
        "id": "fck-UcuBjZ3p"
      }
    },
    {
      "cell_type": "code",
      "source": [
        "tokenized_train_ds.set_format(type='torch')\n",
        "tokenized_val_ds.set_format(type='torch')"
      ],
      "metadata": {
        "id": "mkZtdzKop0Gm"
      },
      "execution_count": 102,
      "outputs": []
    },
    {
      "cell_type": "code",
      "execution_count": 103,
      "metadata": {
        "id": "lk7dN4zL8r14"
      },
      "outputs": [],
      "source": [
        "import torch\n",
        "torch.cuda.empty_cache()"
      ]
    },
    {
      "cell_type": "markdown",
      "source": [
        "### SFT Configuration and Training Setup\n",
        "\n",
        "We have set up the **Supervised Fine-Tuning (SFT)** configuration using `SFTConfig` with the following parameters:\n",
        "\n",
        "- **Learning Rate**: `5e-5` — A balanced learning rate to ensure gradual model fine-tuning.\n",
        "- **Batch Size**: `4` for training and `2` for evaluation — Set based on memory constraints and dataset size.\n",
        "- **Number of Epochs**: `20` — Sufficient epochs for effective fine-tuning on the dataset.\n",
        "- **Save and Log Configurations**: Models and logs are saved every epoch and after 10 steps for better tracking and model recovery.\n",
        "- **Best Model Selection**: `load_best_model_at_end` is enabled to load the best performing model based on evaluation metrics.\n",
        "\n",
        "We also use **early stopping** with a patience of `3`, meaning training will stop if there's no improvement in the model for 3 consecutive evaluation steps. The metric for best model selection is **BLEU score** (`eval_bleu`), which is well-suited for text generation tasks like headline generation.\n",
        "\n",
        "This setup, using **SFTTrainer**, ensures a well-rounded fine-tuning process with model monitoring and early stopping for efficiency."
      ],
      "metadata": {
        "id": "sgtqOUo7hpF-"
      }
    },
    {
      "cell_type": "code",
      "execution_count": 151,
      "metadata": {
        "id": "7Hih6dubBnlv",
        "colab": {
          "base_uri": "https://localhost:8080/"
        },
        "outputId": "7a43d9a2-852b-48a3-836d-eb2d21dab745"
      },
      "outputs": [
        {
          "output_type": "stream",
          "name": "stderr",
          "text": [
            "/usr/local/lib/python3.10/dist-packages/transformers/training_args.py:1575: FutureWarning: `evaluation_strategy` is deprecated and will be removed in version 4.46 of 🤗 Transformers. Use `eval_strategy` instead\n",
            "  warnings.warn(\n",
            "<ipython-input-151-9153edbca574>:19: FutureWarning: `tokenizer` is deprecated and removed starting from version 0.16.0 for `SFTTrainer.__init__`. Use `processing_class` instead.\n",
            "  trainer = SFTTrainer(\n"
          ]
        }
      ],
      "source": [
        "training_args = SFTConfig(\n",
        "    output_dir='./results',\n",
        "    evaluation_strategy=\"epoch\",\n",
        "    learning_rate=5e-5,\n",
        "    per_device_train_batch_size=4,\n",
        "    per_device_eval_batch_size=2,\n",
        "    num_train_epochs=20,\n",
        "    save_total_limit=2,\n",
        "    weight_decay=0.01,\n",
        "    logging_dir='./logs',\n",
        "    logging_steps=10,\n",
        "    save_strategy=\"epoch\",\n",
        "    save_steps=10,\n",
        "    eval_accumulation_steps=4,\n",
        "    load_best_model_at_end=True,\n",
        "    metric_for_best_model=\"eval_bleu\",\n",
        ")\n",
        "\n",
        "trainer = SFTTrainer(\n",
        "    model=t5_model,  # preloaded model\n",
        "    args=training_args,\n",
        "    train_dataset=tokenized_train_ds[\"train\"],\n",
        "    eval_dataset=tokenized_val_ds[\"train\"],\n",
        "    tokenizer=t5_tokenizer,\n",
        "    data_collator=data_collator,\n",
        "    compute_metrics=partial(compute_metrics, tokenizer=t5_tokenizer),\n",
        "    callbacks=[EarlyStoppingCallback(early_stopping_patience=3)],\n",
        "    preprocess_logits_for_metrics=preprocess_logits_for_metrics#early stopping\n",
        ")"
      ]
    },
    {
      "cell_type": "code",
      "execution_count": 105,
      "metadata": {
        "colab": {
          "base_uri": "https://localhost:8080/",
          "height": 549
        },
        "id": "9BDZ-KQHvH3K",
        "outputId": "20faf2b8-3fe6-4ce4-bc3d-98437d6a1433"
      },
      "outputs": [
        {
          "output_type": "stream",
          "name": "stderr",
          "text": [
            "/usr/local/lib/python3.10/dist-packages/torch/_dynamo/eval_frame.py:632: UserWarning: torch.utils.checkpoint: the use_reentrant parameter should be passed explicitly. In version 2.5 we will raise an exception if use_reentrant is not passed. use_reentrant=False is recommended, but if you need to preserve the current default behavior, you can pass use_reentrant=True. Refer to docs for more details on the differences between the two variants.\n",
            "  return fn(*args, **kwargs)\n"
          ]
        },
        {
          "output_type": "display_data",
          "data": {
            "text/plain": [
              "<IPython.core.display.HTML object>"
            ],
            "text/html": [
              "\n",
              "    <div>\n",
              "      \n",
              "      <progress value='1851' max='15000' style='width:300px; height:20px; vertical-align: middle;'></progress>\n",
              "      [ 1851/15000 19:30 < 2:18:42, 1.58 it/s, Epoch 2.47/20]\n",
              "    </div>\n",
              "    <table border=\"1\" class=\"dataframe\">\n",
              "  <thead>\n",
              " <tr style=\"text-align: left;\">\n",
              "      <th>Epoch</th>\n",
              "      <th>Training Loss</th>\n",
              "      <th>Validation Loss</th>\n",
              "      <th>Rouge1</th>\n",
              "      <th>Rouge2</th>\n",
              "      <th>Rougel</th>\n",
              "      <th>Bleu</th>\n",
              "    </tr>\n",
              "  </thead>\n",
              "  <tbody>\n",
              "    <tr>\n",
              "      <td>1</td>\n",
              "      <td>0.631300</td>\n",
              "      <td>0.677785</td>\n",
              "      <td>0.389100</td>\n",
              "      <td>0.151200</td>\n",
              "      <td>0.381100</td>\n",
              "      <td>0.092400</td>\n",
              "    </tr>\n",
              "    <tr>\n",
              "      <td>2</td>\n",
              "      <td>0.670600</td>\n",
              "      <td>0.668465</td>\n",
              "      <td>0.394400</td>\n",
              "      <td>0.152800</td>\n",
              "      <td>0.386400</td>\n",
              "      <td>0.091600</td>\n",
              "    </tr>\n",
              "  </tbody>\n",
              "</table><p>"
            ]
          },
          "metadata": {}
        },
        {
          "output_type": "stream",
          "name": "stderr",
          "text": [
            "/usr/local/lib/python3.10/dist-packages/torch/_dynamo/eval_frame.py:632: UserWarning: torch.utils.checkpoint: the use_reentrant parameter should be passed explicitly. In version 2.5 we will raise an exception if use_reentrant is not passed. use_reentrant=False is recommended, but if you need to preserve the current default behavior, you can pass use_reentrant=True. Refer to docs for more details on the differences between the two variants.\n",
            "  return fn(*args, **kwargs)\n",
            "/usr/local/lib/python3.10/dist-packages/torch/_dynamo/eval_frame.py:632: UserWarning: torch.utils.checkpoint: the use_reentrant parameter should be passed explicitly. In version 2.5 we will raise an exception if use_reentrant is not passed. use_reentrant=False is recommended, but if you need to preserve the current default behavior, you can pass use_reentrant=True. Refer to docs for more details on the differences between the two variants.\n",
            "  return fn(*args, **kwargs)\n"
          ]
        },
        {
          "output_type": "error",
          "ename": "KeyboardInterrupt",
          "evalue": "",
          "traceback": [
            "\u001b[0;31m---------------------------------------------------------------------------\u001b[0m",
            "\u001b[0;31mKeyboardInterrupt\u001b[0m                         Traceback (most recent call last)",
            "\u001b[0;32m<ipython-input-105-3435b262f1ae>\u001b[0m in \u001b[0;36m<cell line: 1>\u001b[0;34m()\u001b[0m\n\u001b[0;32m----> 1\u001b[0;31m \u001b[0mtrainer\u001b[0m\u001b[0;34m.\u001b[0m\u001b[0mtrain\u001b[0m\u001b[0;34m(\u001b[0m\u001b[0;34m)\u001b[0m\u001b[0;34m\u001b[0m\u001b[0;34m\u001b[0m\u001b[0m\n\u001b[0m",
            "\u001b[0;32m/usr/local/lib/python3.10/dist-packages/transformers/trainer.py\u001b[0m in \u001b[0;36mtrain\u001b[0;34m(self, resume_from_checkpoint, trial, ignore_keys_for_eval, **kwargs)\u001b[0m\n\u001b[1;32m   2162\u001b[0m                 \u001b[0mhf_hub_utils\u001b[0m\u001b[0;34m.\u001b[0m\u001b[0menable_progress_bars\u001b[0m\u001b[0;34m(\u001b[0m\u001b[0;34m)\u001b[0m\u001b[0;34m\u001b[0m\u001b[0;34m\u001b[0m\u001b[0m\n\u001b[1;32m   2163\u001b[0m         \u001b[0;32melse\u001b[0m\u001b[0;34m:\u001b[0m\u001b[0;34m\u001b[0m\u001b[0;34m\u001b[0m\u001b[0m\n\u001b[0;32m-> 2164\u001b[0;31m             return inner_training_loop(\n\u001b[0m\u001b[1;32m   2165\u001b[0m                 \u001b[0margs\u001b[0m\u001b[0;34m=\u001b[0m\u001b[0margs\u001b[0m\u001b[0;34m,\u001b[0m\u001b[0;34m\u001b[0m\u001b[0;34m\u001b[0m\u001b[0m\n\u001b[1;32m   2166\u001b[0m                 \u001b[0mresume_from_checkpoint\u001b[0m\u001b[0;34m=\u001b[0m\u001b[0mresume_from_checkpoint\u001b[0m\u001b[0;34m,\u001b[0m\u001b[0;34m\u001b[0m\u001b[0;34m\u001b[0m\u001b[0m\n",
            "\u001b[0;32m/usr/local/lib/python3.10/dist-packages/transformers/trainer.py\u001b[0m in \u001b[0;36m_inner_training_loop\u001b[0;34m(self, batch_size, args, resume_from_checkpoint, trial, ignore_keys_for_eval)\u001b[0m\n\u001b[1;32m   2527\u001b[0m                         \u001b[0margs\u001b[0m\u001b[0;34m.\u001b[0m\u001b[0mlogging_nan_inf_filter\u001b[0m\u001b[0;34m\u001b[0m\u001b[0;34m\u001b[0m\u001b[0m\n\u001b[1;32m   2528\u001b[0m                         \u001b[0;32mand\u001b[0m \u001b[0;32mnot\u001b[0m \u001b[0mis_torch_xla_available\u001b[0m\u001b[0;34m(\u001b[0m\u001b[0;34m)\u001b[0m\u001b[0;34m\u001b[0m\u001b[0;34m\u001b[0m\u001b[0m\n\u001b[0;32m-> 2529\u001b[0;31m                         \u001b[0;32mand\u001b[0m \u001b[0;34m(\u001b[0m\u001b[0mtorch\u001b[0m\u001b[0;34m.\u001b[0m\u001b[0misnan\u001b[0m\u001b[0;34m(\u001b[0m\u001b[0mtr_loss_step\u001b[0m\u001b[0;34m)\u001b[0m \u001b[0;32mor\u001b[0m \u001b[0mtorch\u001b[0m\u001b[0;34m.\u001b[0m\u001b[0misinf\u001b[0m\u001b[0;34m(\u001b[0m\u001b[0mtr_loss_step\u001b[0m\u001b[0;34m)\u001b[0m\u001b[0;34m)\u001b[0m\u001b[0;34m\u001b[0m\u001b[0;34m\u001b[0m\u001b[0m\n\u001b[0m\u001b[1;32m   2530\u001b[0m                     ):\n\u001b[1;32m   2531\u001b[0m                         \u001b[0;31m# if loss is nan or inf simply add the average of previous logged losses\u001b[0m\u001b[0;34m\u001b[0m\u001b[0;34m\u001b[0m\u001b[0m\n",
            "\u001b[0;31mKeyboardInterrupt\u001b[0m: "
          ]
        }
      ],
      "source": [
        "trainer.train()"
      ]
    },
    {
      "cell_type": "markdown",
      "source": [
        "### Training Duration and Results\n",
        "\n",
        "Due to **time and GPU constraints**, we could only run the model for **14 epochs**, which took approximately **2 hours** for training. Below are the results:\n",
        "\n",
        "| Epoch | Training Loss | Validation Loss | RL  | BLEU |\n",
        "|-------|---------------|-----------------|-----|------|\n",
        "| 1     | 0.622900      | 0.668581        | 0.3883 | 0.0944 |\n",
        "| 2     | 0.658800      | 0.660973        | 0.3922 | 0.0972 |\n",
        "| 3     | 0.621300      | 0.655607        | 0.3955 | 0.0989 |\n",
        "| 4     | 0.573300      | 0.649013        | 0.3972 | 0.0970 |\n",
        "| 5     | 0.567900      | 0.648848        | 0.3989 | 0.1002 |\n",
        "| 6     | 0.599700      | 0.643754        | 0.4018 | 0.1022 |\n",
        "| 7     | 0.536600      | 0.642526        | 0.4045 | 0.1051 |\n",
        "| 8     | 0.571300      | 0.643984        | 0.4029 | 0.1044 |\n",
        "| 9     | 0.576200      | 0.641517        | 0.4052 | 0.1062 |\n",
        "| 10    | 0.544300      | 0.638496        | 0.4072 | 0.1093 |\n",
        "| 11    | 0.545100      | 0.638023        | 0.4087 | 0.1094 |\n",
        "| 12    | 0.666700      | 0.638624        | 0.4086 | 0.1110 |\n",
        "| 13    | 0.518900      | 0.637369        | 0.4071 | 0.1139 |\n",
        "| 14    | 0.593200      | 0.637359        | 0.4089 | 0.1134 |\n",
        "\n",
        "- **Training Loss**: Decreased over the epochs, indicating that the model was learning effectively.\n",
        "- **Validation Loss**: Stays relatively stable, suggesting that the model is not overfitting during the limited training duration.\n",
        "- **RL and BLEU Scores**: Show gradual improvement, with the BLEU score reaching approximately **0.1134** by the end of the 14th epoch.\n",
        "\n",
        "These results are promising but could improve with further training and tuning."
      ],
      "metadata": {
        "id": "4WQuXnsGh7pd"
      }
    },
    {
      "cell_type": "code",
      "execution_count": 106,
      "metadata": {
        "colab": {
          "base_uri": "https://localhost:8080/",
          "height": 224
        },
        "id": "636YByXzw-W8",
        "outputId": "a2da5d59-dac4-4b1b-e4dc-a09ec989f66a"
      },
      "outputs": [
        {
          "output_type": "display_data",
          "data": {
            "text/plain": [
              "<IPython.core.display.HTML object>"
            ],
            "text/html": [
              "\n",
              "    <div>\n",
              "      \n",
              "      <progress value='1851' max='15000' style='width:300px; height:20px; vertical-align: middle;'></progress>\n",
              "      [ 1851/15000 19:30 < 2:18:42, 1.58 it/s, Epoch 2.47/20]\n",
              "    </div>\n",
              "    <table border=\"1\" class=\"dataframe\">\n",
              "  <thead>\n",
              " <tr style=\"text-align: left;\">\n",
              "      <th>Epoch</th>\n",
              "      <th>Training Loss</th>\n",
              "      <th>Validation Loss</th>\n",
              "      <th>Rouge1</th>\n",
              "      <th>Rouge2</th>\n",
              "      <th>Rougel</th>\n",
              "      <th>Bleu</th>\n",
              "    </tr>\n",
              "  </thead>\n",
              "  <tbody>\n",
              "    <tr>\n",
              "      <td>1</td>\n",
              "      <td>0.631300</td>\n",
              "      <td>0.677785</td>\n",
              "      <td>0.389100</td>\n",
              "      <td>0.151200</td>\n",
              "      <td>0.381100</td>\n",
              "      <td>0.092400</td>\n",
              "    </tr>\n",
              "    <tr>\n",
              "      <td>2</td>\n",
              "      <td>0.665600</td>\n",
              "      <td>0.663890</td>\n",
              "      <td>0.395300</td>\n",
              "      <td>0.154600</td>\n",
              "      <td>0.387100</td>\n",
              "      <td>0.093900</td>\n",
              "    </tr>\n",
              "  </tbody>\n",
              "</table><p>"
            ]
          },
          "metadata": {}
        },
        {
          "output_type": "execute_result",
          "data": {
            "text/plain": [
              "{'eval_loss': 0.6638903617858887,\n",
              " 'eval_rouge1': 0.3953,\n",
              " 'eval_rouge2': 0.1546,\n",
              " 'eval_rougeL': 0.3871,\n",
              " 'eval_bleu': 0.0939}"
            ]
          },
          "metadata": {},
          "execution_count": 106
        }
      ],
      "source": [
        "trainer.evaluate()"
      ]
    },
    {
      "cell_type": "markdown",
      "source": [
        "### Model Checkpoint and Saving\n",
        "\n",
        "After training for 14 epochs, we loaded the model from the **latest checkpoint** at `./results/checkpoint-10500` to ensure we continue from the best performing state. The model and tokenizer were then saved for future use and deployment to the following directories:\n",
        "\n",
        "- **Model**: `./t5_ch_model`\n",
        "- **Tokenizer**: `./t5_ch_tokenizer`\n",
        "\n",
        "This ensures that we can reuse the trained model for inference without retraining it from scratch."
      ],
      "metadata": {
        "id": "Ab3epwMZiAfk"
      }
    },
    {
      "cell_type": "code",
      "source": [
        "import os\n",
        "from transformers import T5ForConditionalGeneration, T5Tokenizer\n",
        "\n",
        "# Find the latest checkpoint|\n",
        "checkpoint_dir = \"./results\"\n",
        "latest_checkpoint = max([os.path.join(checkpoint_dir, d) for d in os.listdir(checkpoint_dir)], key=os.path.getmtime)\n",
        "\n",
        "# Load the model and tokenizer from the latest checkpoint\n",
        "t5_ch_model = T5ForConditionalGeneration.from_pretrained(latest_checkpoint)\n",
        "t5_ch_tokenizer = T5Tokenizer.from_pretrained(latest_checkpoint)\n",
        "\n",
        "# Save the model and tokenizer to a new directory\n",
        "t5_ch_model.save_pretrained(\"./t5_ch_model\")\n",
        "t5_ch_tokenizer.save_pretrained(\"./t5_ch_tokenizer\")"
      ],
      "metadata": {
        "colab": {
          "base_uri": "https://localhost:8080/"
        },
        "id": "fJ_LqFTWYVcD",
        "outputId": "13b55c92-cfe7-4daa-946f-43a76ee41bd3"
      },
      "execution_count": 107,
      "outputs": [
        {
          "output_type": "execute_result",
          "data": {
            "text/plain": [
              "('./t5_ch_tokenizer/tokenizer_config.json',\n",
              " './t5_ch_tokenizer/special_tokens_map.json',\n",
              " './t5_ch_tokenizer/spiece.model',\n",
              " './t5_ch_tokenizer/added_tokens.json')"
            ]
          },
          "metadata": {},
          "execution_count": 107
        }
      ]
    },
    {
      "cell_type": "markdown",
      "source": [
        "## results for t5"
      ],
      "metadata": {
        "id": "OIzEJm0Ybtek"
      }
    },
    {
      "cell_type": "markdown",
      "source": [
        "[Click here to view the wandb dashboard for t5_base](https://api.wandb.ai/links/kabirj2505-none/7o0csfm0)"
      ],
      "metadata": {
        "id": "alyUx__vbv7d"
      }
    },
    {
      "cell_type": "code",
      "source": [
        "from IPython.display import IFrame\n",
        "\n",
        "# Provide the URL of your WandB report\n",
        "wandb_report_url = \"https://wandb.ai/kabirj2505-none/huggingface/reports/t5_logicloom--VmlldzoxMDgxNTI1NA?accessToken=p6q5pczkqusn4s7n41sdwybhpaqly68w5m2i3tc7q5fhw1wisssadexsi2dvfrlc\"\n",
        "\n",
        "# Use IFrame to embed the report in the notebook\n",
        "IFrame(wandb_report_url, width=2000, height=800)"
      ],
      "metadata": {
        "colab": {
          "base_uri": "https://localhost:8080/",
          "height": 841
        },
        "id": "co7ppLhlhVt6",
        "outputId": "696d38a8-2d5e-443f-e656-3641d48df4b5"
      },
      "execution_count": null,
      "outputs": [
        {
          "output_type": "execute_result",
          "data": {
            "text/plain": [
              "<IPython.lib.display.IFrame at 0x7bea55c32d70>"
            ],
            "text/html": [
              "\n",
              "        <iframe\n",
              "            width=\"2000\"\n",
              "            height=\"800\"\n",
              "            src=\"https://wandb.ai/kabirj2505-none/huggingface/reports/t5_logicloom--VmlldzoxMDgxNTI1NA?accessToken=p6q5pczkqusn4s7n41sdwybhpaqly68w5m2i3tc7q5fhw1wisssadexsi2dvfrlc\"\n",
              "            frameborder=\"0\"\n",
              "            allowfullscreen\n",
              "            \n",
              "        ></iframe>\n",
              "        "
            ]
          },
          "metadata": {},
          "execution_count": 34
        }
      ]
    },
    {
      "cell_type": "markdown",
      "source": [
        "#Bart ⚾"
      ],
      "metadata": {
        "id": "i8bMKCh2ksVJ"
      }
    },
    {
      "cell_type": "code",
      "source": [
        "def get_device_map() -> str:\n",
        "    return 'cuda' if torch.cuda.is_available() else 'cpu'\n",
        "device = get_device_map()\n",
        "device"
      ],
      "metadata": {
        "colab": {
          "base_uri": "https://localhost:8080/",
          "height": 35
        },
        "id": "pQmFFITTpzJE",
        "outputId": "5395185a-3c1d-4805-99be-7e7e749758f7"
      },
      "execution_count": 111,
      "outputs": [
        {
          "output_type": "execute_result",
          "data": {
            "text/plain": [
              "'cuda'"
            ],
            "application/vnd.google.colaboratory.intrinsic+json": {
              "type": "string"
            }
          },
          "metadata": {},
          "execution_count": 111
        }
      ]
    },
    {
      "cell_type": "markdown",
      "source": [
        "\n",
        "\n",
        "## 1. Model Choice (2):\n",
        "- **Model**: `facebook/bart-large-cnn`\n",
        "- **Reasoning**: We selected `facebook/bart-large-cnn` because it is a pre-trained model on a large corpus suitable for text generation tasks. It's especially effective for tasks like summarization, which aligns with headline generation.\n",
        "\n",
        "## 2. LoRA Configuration:\n",
        "- **`r = 8`**:\n",
        "  - **Reasoning**: The rank of the low-rank matrices used in LoRA. A smaller rank reduces the number of trainable parameters, making the model more efficient during fine-tuning. `r = 8` was chosen to balance parameter reduction and the model’s ability to fine-tune effectively.\n",
        "\n",
        "- **`lora_alpha = 4`**:\n",
        "  - **Reasoning**: `alpha` is a scaling factor for LoRA updates. A value of `4` was selected to provide an appropriate trade-off between model expressiveness and overfitting, ensuring efficiency without underfitting.\n",
        "\n",
        "- **`lora_dropout = 0.1`**:\n",
        "  - **Reasoning**: Dropout helps prevent overfitting by randomly setting a fraction of weights to zero during training. A value of `0.1` was chosen to maintain model capacity and stability during training.\n",
        "\n",
        "- **`target_modules = ['q_proj', 'k_proj']`**:\n",
        "  - **Reasoning**: LoRA is applied only to the query (`q_proj`) and key (`k_proj`) layers. The value projection (`v_proj`) layer was omitted to avoid increasing the number of parameters, which could counteract the purpose of LoRA. This choice helps reduce the number of trainable parameters while maintaining performance.\n",
        "\n",
        "## 3. Model Size:\n",
        "- **BART Parameter Count**:\n",
        "  - **Reasoning**: DistilBART has around **406 million parameters**, which is nearly double the number of parameters in T5. This makes DistilBART computationally more expensive but could potentially offer better results at the cost of requiring more resources."
      ],
      "metadata": {
        "id": "WbjNi-9CEoGe"
      }
    },
    {
      "cell_type": "code",
      "source": [
        "from transformers import BartForConditionalGeneration, BartTokenizer\n",
        "dbart_model = BartForConditionalGeneration.from_pretrained(\"facebook/bart-large-cnn\")\n",
        "dbart_tokenizer = BartTokenizer.from_pretrained(\"facebook/bart-large-cnn\")\n",
        "\n",
        "peft_config = LoraConfig(\n",
        "    task_type=TaskType.CAUSAL_LM, inference_mode=False, r=8, lora_alpha=4, lora_dropout=0.1,\n",
        "    target_modules=['q_proj','k_proj']\n",
        ") # create LoRA config for the finetuning\n",
        "\n",
        "\n",
        "dbart_model = get_peft_model(dbart_model, peft_config) # create a model ready for LoRA finetuning\n",
        "\n",
        "dbart_model.print_trainable_parameters()\n"
      ],
      "metadata": {
        "colab": {
          "base_uri": "https://localhost:8080/"
        },
        "id": "Rjv20TXIk24R",
        "outputId": "26d6a4f8-6c25-4029-a7ce-da82a11050f6"
      },
      "execution_count": 138,
      "outputs": [
        {
          "output_type": "stream",
          "name": "stdout",
          "text": [
            "trainable params: 1,179,648 || all params: 407,470,080 || trainable%: 0.2895\n"
          ]
        }
      ]
    },
    {
      "cell_type": "markdown",
      "source": [
        "### tokenization and preprocessing dbart"
      ],
      "metadata": {
        "id": "EV6J_uWHtHab"
      }
    },
    {
      "cell_type": "code",
      "source": [
        "\n",
        "preprocess_with_params=partial(preprocess_function, tokenizer=dbart_tokenizer)\n",
        "tokenized_train_ds = train_ds.map(preprocess_with_params, batched=True,remove_columns=[\"ID\", \"News Article\", \"Caption\"])\n",
        "tokenized_val_ds=val_ds.map(preprocess_with_params,batched=True,remove_columns=[\"ID\", \"News Article\", \"Caption\"])\n",
        "\n",
        "#data collator for dynamic padding\n",
        "data_collator = DataCollatorWithPadding(tokenizer=dbart_tokenizer)\n"
      ],
      "metadata": {
        "colab": {
          "base_uri": "https://localhost:8080/",
          "height": 86,
          "referenced_widgets": [
            "b68e0fb97bf948c0b7abadc36153e9cb",
            "d9e3b53d06fd49daa03269fdac2dece9",
            "b3b1a4b964a44dafba941c2ccf709fd0",
            "b6f6cd91aec34920ad6f021e3157d062",
            "f328e8591b714ce89bd87007dee8c9c6",
            "45657281a98649e6868a2b4e6d299b49",
            "995729547b9d463c9744651586c000d6",
            "86a6584f0f0e4b2caef8760504234f17",
            "d5fd706f72fe4423a19e6dc53ab6a088",
            "bc5ea2f30de0417282549f5d98a2eba1",
            "4682d4a5cff64f42b845eb27905590c2"
          ]
        },
        "id": "Sd2hCcJUtP9t",
        "outputId": "eaabf169-b253-4754-ebb6-c4c7dfd8a32e"
      },
      "execution_count": 139,
      "outputs": [
        {
          "output_type": "display_data",
          "data": {
            "text/plain": [
              "Map:   0%|          | 0/1000 [00:00<?, ? examples/s]"
            ],
            "application/vnd.jupyter.widget-view+json": {
              "version_major": 2,
              "version_minor": 0,
              "model_id": "b68e0fb97bf948c0b7abadc36153e9cb"
            }
          },
          "metadata": {}
        },
        {
          "output_type": "stream",
          "name": "stderr",
          "text": [
            "Asking to truncate to max_length but no maximum length is provided and the model has no predefined maximum length. Default to no truncation.\n"
          ]
        }
      ]
    },
    {
      "cell_type": "code",
      "source": [
        "tokenized_train_ds.set_format(type='torch')\n",
        "tokenized_val_ds.set_format(type='torch')"
      ],
      "metadata": {
        "id": "xbZb-PMuvI7L"
      },
      "execution_count": 140,
      "outputs": []
    },
    {
      "cell_type": "markdown",
      "source": [
        "## Hyperparameter Choices and Reasoning\n",
        "\n",
        "- **Output Directory** (`output_dir='./dbart_results'`): Saves model results like checkpoints and logs.\n",
        "- **Evaluation Strategy** (`evaluation_strategy=\"epoch\"`): Evaluates model performance after each epoch for regular feedback.\n",
        "- **Learning Rate** (`learning_rate=5e-5`): Standard value to balance stable learning and effective training.\n",
        "- **Batch Size** (`per_device_train_batch_size=4`, `per_device_eval_batch_size=2`): Small batch size to manage memory on large models.\n",
        "- **Number of Epochs** (`num_train_epochs=10`): Chosen to allow sufficient learning without overfitting.\n",
        "- **Save Strategy** (`save_strategy=\"epoch\"`, `save_steps=10`): Saves model at regular intervals to avoid losing progress.\n",
        "- **Weight Decay** (`weight_decay=0.01`): Prevents overfitting by penalizing large weights.\n",
        "- **Logging** (`logging_steps=10`, `logging_dir='./dbart_logs'`): Regular logging for monitoring progress.\n",
        "- **Evaluation Accumulation Steps** (`eval_accumulation_steps=4`): Optimizes memory usage during evaluation.\n",
        "- **Load Best Model at End** (`load_best_model_at_end=True`): Loads the best model based on evaluation metric.\n",
        "- **Metric for Best Model** (`metric_for_best_model=\"eval_rougeL\"`): Uses ROUGE-L to measure text generation quality."
      ],
      "metadata": {
        "id": "F_PErrEaEzVe"
      }
    },
    {
      "cell_type": "code",
      "source": [
        "training_args = SFTConfig(\n",
        "    output_dir='./dbart_results',\n",
        "    evaluation_strategy=\"epoch\",\n",
        "    learning_rate=5e-5,\n",
        "    per_device_train_batch_size=4,\n",
        "    per_device_eval_batch_size=2,\n",
        "    num_train_epochs=10,\n",
        "    save_total_limit=2,\n",
        "    weight_decay=0.01,\n",
        "    logging_dir='./dbart_logs',\n",
        "    logging_steps=10,\n",
        "    save_strategy=\"epoch\",\n",
        "    save_steps=10,\n",
        "    eval_accumulation_steps=4,\n",
        "    load_best_model_at_end=True,\n",
        "    metric_for_best_model=\"eval_rougeL\",\n",
        ")\n",
        "\n",
        "trainer = SFTTrainer(\n",
        "    model=dbart_model,  # preloaded model\n",
        "    args=training_args,\n",
        "    train_dataset=tokenized_train_ds[\"train\"],\n",
        "    eval_dataset=tokenized_val_ds[\"train\"],\n",
        "    tokenizer=dbart_tokenizer,\n",
        "    data_collator=data_collator,\n",
        "    compute_metrics=partial(compute_metrics, tokenizer=dbart_tokenizer),\n",
        "    callbacks=[EarlyStoppingCallback(early_stopping_patience=3)],\n",
        "    preprocess_logits_for_metrics=preprocess_logits_for_metrics#early stopping\n",
        ")"
      ],
      "metadata": {
        "colab": {
          "base_uri": "https://localhost:8080/"
        },
        "id": "0k06LUiwtYCP",
        "outputId": "8e3d1210-fbe2-495f-cbc5-296bc3c8ea7b"
      },
      "execution_count": 142,
      "outputs": [
        {
          "output_type": "stream",
          "name": "stderr",
          "text": [
            "/usr/local/lib/python3.10/dist-packages/transformers/training_args.py:1575: FutureWarning: `evaluation_strategy` is deprecated and will be removed in version 4.46 of 🤗 Transformers. Use `eval_strategy` instead\n",
            "  warnings.warn(\n",
            "<ipython-input-142-935536c78375>:19: FutureWarning: `tokenizer` is deprecated and removed starting from version 0.16.0 for `SFTTrainer.__init__`. Use `processing_class` instead.\n",
            "  trainer = SFTTrainer(\n"
          ]
        }
      ]
    },
    {
      "cell_type": "code",
      "source": [
        "trainer.train()"
      ],
      "metadata": {
        "colab": {
          "base_uri": "https://localhost:8080/",
          "height": 423
        },
        "id": "9IZ1IkCXtsQs",
        "outputId": "18bf6256-b5ac-4b38-d8ab-b06916f66b70"
      },
      "execution_count": 143,
      "outputs": [
        {
          "output_type": "display_data",
          "data": {
            "text/plain": [
              "<IPython.core.display.HTML object>"
            ],
            "text/html": [
              "\n",
              "    <div>\n",
              "      \n",
              "      <progress value='7500' max='7500' style='width:300px; height:20px; vertical-align: middle;'></progress>\n",
              "      [7500/7500 1:01:17, Epoch 10/10]\n",
              "    </div>\n",
              "    <table border=\"1\" class=\"dataframe\">\n",
              "  <thead>\n",
              " <tr style=\"text-align: left;\">\n",
              "      <th>Epoch</th>\n",
              "      <th>Training Loss</th>\n",
              "      <th>Validation Loss</th>\n",
              "      <th>Rouge1</th>\n",
              "      <th>Rouge2</th>\n",
              "      <th>Rougel</th>\n",
              "      <th>Bleu</th>\n",
              "    </tr>\n",
              "  </thead>\n",
              "  <tbody>\n",
              "    <tr>\n",
              "      <td>1</td>\n",
              "      <td>5.382700</td>\n",
              "      <td>4.645350</td>\n",
              "      <td>0.196800</td>\n",
              "      <td>0.073900</td>\n",
              "      <td>0.192800</td>\n",
              "      <td>0.017900</td>\n",
              "    </tr>\n",
              "    <tr>\n",
              "      <td>2</td>\n",
              "      <td>4.034400</td>\n",
              "      <td>3.257308</td>\n",
              "      <td>0.408400</td>\n",
              "      <td>0.171200</td>\n",
              "      <td>0.400500</td>\n",
              "      <td>0.088000</td>\n",
              "    </tr>\n",
              "    <tr>\n",
              "      <td>3</td>\n",
              "      <td>3.621900</td>\n",
              "      <td>2.793726</td>\n",
              "      <td>0.426900</td>\n",
              "      <td>0.183800</td>\n",
              "      <td>0.418600</td>\n",
              "      <td>0.097800</td>\n",
              "    </tr>\n",
              "    <tr>\n",
              "      <td>4</td>\n",
              "      <td>3.239200</td>\n",
              "      <td>2.557085</td>\n",
              "      <td>0.429200</td>\n",
              "      <td>0.186100</td>\n",
              "      <td>0.421500</td>\n",
              "      <td>0.102700</td>\n",
              "    </tr>\n",
              "    <tr>\n",
              "      <td>5</td>\n",
              "      <td>3.137300</td>\n",
              "      <td>2.428076</td>\n",
              "      <td>0.435000</td>\n",
              "      <td>0.191800</td>\n",
              "      <td>0.427100</td>\n",
              "      <td>0.109800</td>\n",
              "    </tr>\n",
              "    <tr>\n",
              "      <td>6</td>\n",
              "      <td>3.095300</td>\n",
              "      <td>2.346195</td>\n",
              "      <td>0.437600</td>\n",
              "      <td>0.194400</td>\n",
              "      <td>0.430100</td>\n",
              "      <td>0.111200</td>\n",
              "    </tr>\n",
              "    <tr>\n",
              "      <td>7</td>\n",
              "      <td>3.001700</td>\n",
              "      <td>2.292832</td>\n",
              "      <td>0.441600</td>\n",
              "      <td>0.199400</td>\n",
              "      <td>0.434600</td>\n",
              "      <td>0.114600</td>\n",
              "    </tr>\n",
              "    <tr>\n",
              "      <td>8</td>\n",
              "      <td>3.000500</td>\n",
              "      <td>2.254009</td>\n",
              "      <td>0.444000</td>\n",
              "      <td>0.200900</td>\n",
              "      <td>0.436800</td>\n",
              "      <td>0.117200</td>\n",
              "    </tr>\n",
              "    <tr>\n",
              "      <td>9</td>\n",
              "      <td>2.916400</td>\n",
              "      <td>2.234267</td>\n",
              "      <td>0.444000</td>\n",
              "      <td>0.201500</td>\n",
              "      <td>0.437200</td>\n",
              "      <td>0.119000</td>\n",
              "    </tr>\n",
              "    <tr>\n",
              "      <td>10</td>\n",
              "      <td>2.943500</td>\n",
              "      <td>2.227767</td>\n",
              "      <td>0.444300</td>\n",
              "      <td>0.201400</td>\n",
              "      <td>0.437400</td>\n",
              "      <td>0.118900</td>\n",
              "    </tr>\n",
              "  </tbody>\n",
              "</table><p>"
            ]
          },
          "metadata": {}
        },
        {
          "output_type": "execute_result",
          "data": {
            "text/plain": [
              "TrainOutput(global_step=7500, training_loss=3.7538461471557616, metrics={'train_runtime': 3677.8872, 'train_samples_per_second': 8.157, 'train_steps_per_second': 2.039, 'total_flos': 2.043294969672499e+16, 'train_loss': 3.7538461471557616, 'epoch': 10.0})"
            ]
          },
          "metadata": {},
          "execution_count": 143
        }
      ]
    },
    {
      "cell_type": "code",
      "source": [
        "\n",
        "# Find the latest checkpoint|\n",
        "checkpoint_dir = \"./dbart_results\"\n",
        "latest_checkpoint = max([os.path.join(checkpoint_dir, d) for d in os.listdir(checkpoint_dir)], key=os.path.getmtime)\n",
        "\n",
        "# Load the model and tokenizer from the latest checkpoint\n",
        "db_ch_model = BartForConditionalGeneration.from_pretrained(latest_checkpoint)\n",
        "db_ch_tokenizer = BartTokenizer.from_pretrained(latest_checkpoint)\n",
        "\n",
        "# Save the model and tokenizer to a new directory\n",
        "db_ch_model.save_pretrained(\"./db_ch_model\")\n",
        "db_ch_tokenizer.save_pretrained(\"./db_ch_tokenizer\")"
      ],
      "metadata": {
        "colab": {
          "base_uri": "https://localhost:8080/"
        },
        "id": "b7iuZIF_NSCe",
        "outputId": "9b9d7301-b04e-4c9a-c32f-a56ccf332f20"
      },
      "execution_count": 144,
      "outputs": [
        {
          "output_type": "execute_result",
          "data": {
            "text/plain": [
              "('./db_ch_tokenizer/tokenizer_config.json',\n",
              " './db_ch_tokenizer/special_tokens_map.json',\n",
              " './db_ch_tokenizer/vocab.json',\n",
              " './db_ch_tokenizer/merges.txt',\n",
              " './db_ch_tokenizer/added_tokens.json')"
            ]
          },
          "metadata": {},
          "execution_count": 144
        }
      ]
    },
    {
      "cell_type": "markdown",
      "source": [
        "https://wandb.ai/kabirj2505-none/huggingface/reports/Bart-logicloom--VmlldzoxMDgxODU0OA?accessToken=lvhbe1svzojdypxk1kvhbfz0q2dq3zbf5xi7m5utp8dh796faoct4ipywh09ynep"
      ],
      "metadata": {
        "id": "yWXqqQqPUR3B"
      }
    },
    {
      "cell_type": "code",
      "source": [
        "from IPython.display import IFrame\n",
        "\n",
        "# Provide the URL of your WandB report\n",
        "wandb_report_url = \"https://wandb.ai/kabirj2505-none/huggingface/reports/Bart-logicloom--VmlldzoxMDgxODU0OA?accessToken=lvhbe1svzojdypxk1kvhbfz0q2dq3zbf5xi7m5utp8dh796faoct4ipywh09ynep\"\n",
        "\n",
        "# Use IFrame to embed the report in the notebook\n",
        "IFrame(wandb_report_url, width=2000, height=800)"
      ],
      "metadata": {
        "id": "2Hr5_Ma2Ueex",
        "outputId": "211ad9c9-447c-4521-dfbc-aa41850d61d9",
        "colab": {
          "base_uri": "https://localhost:8080/",
          "height": 841
        }
      },
      "execution_count": 157,
      "outputs": [
        {
          "output_type": "execute_result",
          "data": {
            "text/plain": [
              "<IPython.lib.display.IFrame at 0x7f22e0739660>"
            ],
            "text/html": [
              "\n",
              "        <iframe\n",
              "            width=\"2000\"\n",
              "            height=\"800\"\n",
              "            src=\"https://wandb.ai/kabirj2505-none/huggingface/reports/Bart-logicloom--VmlldzoxMDgxODU0OA?accessToken=lvhbe1svzojdypxk1kvhbfz0q2dq3zbf5xi7m5utp8dh796faoct4ipywh09ynep\"\n",
              "            frameborder=\"0\"\n",
              "            allowfullscreen\n",
              "            \n",
              "        ></iframe>\n",
              "        "
            ]
          },
          "metadata": {},
          "execution_count": 157
        }
      ]
    },
    {
      "cell_type": "markdown",
      "source": [
        "# test"
      ],
      "metadata": {
        "id": "nZso3vZwY_hy"
      }
    },
    {
      "cell_type": "markdown",
      "source": [
        "### Generating Headlines Using the Model\n",
        "\n",
        "Once the model was loaded and transferred to the available device (GPU or CPU), we proceeded to generate headlines for articles in the **unlabelled test dataset**. The function `generate_headline()`:\n",
        "\n",
        "- Takes an article, preprocesses it, and formats it for input to the T5 model.\n",
        "- Uses **beam search** for better headline generation quality by specifying `num_beams=5`.\n",
        "- Decodes the generated token sequence into a human-readable headline.\n",
        "\n",
        "The headlines for all articles in the **UNLABELLED_TEST.csv** dataset are then collected in the `predictions` list.\n",
        "\n",
        "#### Key Decisions:\n",
        "- **Max Length**: Set to 50 to ensure concise and relevant headline generation.\n",
        "- **Beam Search**: Helps improve output quality by considering multiple possibilities.\n",
        "- **Device**: The model and data are moved to the appropriate device (GPU or CPU) for efficient computation."
      ],
      "metadata": {
        "id": "isS6UJb_iPqb"
      }
    },
    {
      "cell_type": "code",
      "source": [
        "db_ch_model.to(device)\n",
        "\n",
        "test_ds = load_dataset(\"csv\", data_files=\"./data/UNLABELLED_TEST.csv\")\n"
      ],
      "metadata": {
        "id": "7vKm13bYZZDT"
      },
      "execution_count": 145,
      "outputs": []
    },
    {
      "cell_type": "code",
      "source": [
        "def generate_headline(article,model,tokenizer):\n",
        "    # Preprocess the input for the T5 model\n",
        "    input_text = f\"headline: {article}\"\n",
        "    inputs = tokenizer.encode(input_text, return_tensors=\"pt\", max_length=512, truncation=True).to(device)\n",
        "\n",
        "    # Generate predictions\n",
        "    outputs = model.generate(\n",
        "        inputs,\n",
        "        max_length=80,  # Adjust this value for desired headline length\n",
        "        num_beams=5,    # Beam search for better results\n",
        "        early_stopping=True\n",
        "    )\n",
        "\n",
        "    # Decode the output\n",
        "    predicted_headline = tokenizer.decode(outputs[0], skip_special_tokens=True)\n",
        "    return predicted_headline\n"
      ],
      "metadata": {
        "id": "dXNdpiUVZ3CK"
      },
      "execution_count": 152,
      "outputs": []
    },
    {
      "cell_type": "code",
      "source": [
        "predictions = []\n",
        "for article in test_ds[\"train\"][\"News Article\"]:\n",
        "    headline = generate_headline(article,db_ch_model,db_ch_tokenizer)\n",
        "    predictions.append(headline)\n"
      ],
      "metadata": {
        "id": "bK35hO74aBU7"
      },
      "execution_count": 153,
      "outputs": []
    },
    {
      "cell_type": "code",
      "source": [
        "import pandas as pd\n",
        "output_df = pd.DataFrame({\n",
        "    \"ID\": test_ds[\"train\"][\"ID\"],\n",
        "    \"Prediction\": predictions\n",
        "})"
      ],
      "metadata": {
        "id": "gO12KLlKaLhX"
      },
      "execution_count": 155,
      "outputs": []
    },
    {
      "cell_type": "code",
      "source": [
        "output_df.to_csv(\"predicted_headlines.csv\", index=False)\n",
        "print(\"Headlines generated and saved to predicted_headlines.csv.\")"
      ],
      "metadata": {
        "colab": {
          "base_uri": "https://localhost:8080/"
        },
        "id": "0gbSj2dVbUep",
        "outputId": "b265126d-12b5-450e-edca-68ba57261511"
      },
      "execution_count": 156,
      "outputs": [
        {
          "output_type": "stream",
          "name": "stdout",
          "text": [
            "Headlines generated and saved to predicted_headlines.csv.\n"
          ]
        }
      ]
    },
    {
      "cell_type": "markdown",
      "source": [
        "## Comparison Between T5 and BART-CNN for Text Generation\n",
        "\n",
        "### T5 (Text-to-Text Transfer Transformer)\n",
        "- **Model**: `t5-base`\n",
        "- **Pretrained on**: C4 dataset\n",
        "- **Number of Parameters**: 220 million\n",
        "- **Architecture**: Encoder-decoder architecture.\n",
        "- **Use Case**: T5 is a general-purpose model that treats all NLP tasks as text-to-text transformations, where both input and output are always text.\n",
        "\n",
        "#### Hyperparameters:\n",
        "- **Learning Rate**: 5e-5\n",
        "- **Batch Size**: 4 (train), 2 (eval)\n",
        "- **Epochs**: 10\n",
        "- **Evaluation Metric**: ROUGE-L\n",
        "- **Save Strategy**: Save model after each epoch\n",
        "\n",
        "---\n",
        "\n",
        "### BART-CNN (BART with CNN for summarization)\n",
        "- **Model**: `facebook/bart-large-cnn`\n",
        "- **Pretrained on**: CNN/Daily Mail dataset\n",
        "- **Number of Parameters**: 406 million\n",
        "- **Architecture**: Encoder-decoder architecture with a denoising autoencoder approach.\n",
        "- **Use Case**: BART is a sequence-to-sequence model that excels in text generation and summarization tasks. It leverages both reconstruction and generation tasks to learn robust representations.\n",
        "\n",
        "#### Hyperparameters:\n",
        "- **Learning Rate**: 5e-5\n",
        "- **Batch Size**: 4 (train), 2 (eval)\n",
        "- **Epochs**: 10\n",
        "- **Evaluation Metric**: ROUGE-L\n",
        "- **Save Strategy**: Save model after each epoch\n",
        "\n",
        "---\n",
        "\n",
        "### Reasons Why BART-CNN May Perform Better Than T5-Base\n",
        "\n",
        "1. **Larger Number of Parameters**:\n",
        "   - **T5-Base** has 220 million parameters, whereas **BART-CNN** has 406 million. The larger number of parameters in BART-CNN allows it to capture more intricate relationships in data and provides greater expressiveness, making it more capable of handling complex text generation tasks.\n",
        "\n",
        "2. **Specialized Pretraining on Summarization Tasks**:\n",
        "   - BART-CNN is specifically pretrained on the CNN/Daily Mail dataset for summarization, which aligns more closely with headline generation tasks. This specialized pretraining gives BART-CNN an edge when tasked with generating concise summaries or headlines, whereas T5 is a more general-purpose model.\n",
        "\n",
        "3. **Denoising Autoencoder Approach**:\n",
        "   - BART uses a denoising autoencoder approach, where parts of the input are corrupted and the model is trained to predict the missing parts. This makes BART especially strong in generative tasks like headline generation, as it has learned to deal with incomplete or noisy inputs, similar to how headlines need to summarize and capture key details from longer articles.\n",
        "\n",
        "4. **Higher Capacity for Learning Complex Representations**:\n",
        "   - With BART-CNN’s larger capacity (406M params vs. 220M in T5-Base), it is able to learn more complex representations of the input text. This helps it produce more nuanced and accurate outputs, particularly for tasks requiring high-level abstraction, such as summarizing news articles into concise headlines.\n",
        "\n",
        "5. **Superior Performance on Sequence-to-Sequence Tasks**:\n",
        "   - BART-CNN has shown superior performance on text generation tasks, especially in summarization, due to its denoising pretraining and large parameter size. These advantages translate well into tasks like headline generation where the model needs to condense large amounts of information into a succinct form.\n",
        "\n",
        "6. **Greater Fine-tuning Potential**:\n",
        "   - With more parameters and a more specialized architecture, BART-CNN can benefit more from fine-tuning on specific datasets. This means that with proper fine-tuning, BART-CNN can outperform T5-Base in headline generation and similar tasks where summarization and condensation of information are crucial.\n",
        "\n",
        "### Conclusion\n",
        "Given the larger number of parameters, specialized pretraining on summarization tasks, and a more suitable architecture for text generation, BART-CNN is expected to outperform T5-Base in headline generation tasks. The model's ability to generate more precise and coherent summaries makes it a better candidate for tasks like this."
      ],
      "metadata": {
        "id": "y0H_M2fjbaCZ"
      }
    }
  ],
  "metadata": {
    "accelerator": "GPU",
    "colab": {
      "gpuType": "T4",
      "provenance": []
    },
    "kernelspec": {
      "display_name": "Python 3",
      "name": "python3"
    },
    "language_info": {
      "name": "python"
    },
    "widgets": {
      "application/vnd.jupyter.widget-state+json": {
        "2a765c96bf254da392260265d59b2a8c": {
          "model_module": "@jupyter-widgets/controls",
          "model_name": "HBoxModel",
          "model_module_version": "1.5.0",
          "state": {
            "_dom_classes": [],
            "_model_module": "@jupyter-widgets/controls",
            "_model_module_version": "1.5.0",
            "_model_name": "HBoxModel",
            "_view_count": null,
            "_view_module": "@jupyter-widgets/controls",
            "_view_module_version": "1.5.0",
            "_view_name": "HBoxView",
            "box_style": "",
            "children": [
              "IPY_MODEL_c28326d13067470880bb1cc228fdef61",
              "IPY_MODEL_6b34d5a258ce4821a933f296f152fa1f",
              "IPY_MODEL_666cda237e73437a9708fd8da9c8c61e"
            ],
            "layout": "IPY_MODEL_e06d66de59224eabae68f8c9ccd56a28"
          }
        },
        "c28326d13067470880bb1cc228fdef61": {
          "model_module": "@jupyter-widgets/controls",
          "model_name": "HTMLModel",
          "model_module_version": "1.5.0",
          "state": {
            "_dom_classes": [],
            "_model_module": "@jupyter-widgets/controls",
            "_model_module_version": "1.5.0",
            "_model_name": "HTMLModel",
            "_view_count": null,
            "_view_module": "@jupyter-widgets/controls",
            "_view_module_version": "1.5.0",
            "_view_name": "HTMLView",
            "description": "",
            "description_tooltip": null,
            "layout": "IPY_MODEL_4a85e46ff49a43b29e061140d31e0bd7",
            "placeholder": "​",
            "style": "IPY_MODEL_ba365e50df3e44ae987dab0686e7ca88",
            "value": "Generating train split: "
          }
        },
        "6b34d5a258ce4821a933f296f152fa1f": {
          "model_module": "@jupyter-widgets/controls",
          "model_name": "FloatProgressModel",
          "model_module_version": "1.5.0",
          "state": {
            "_dom_classes": [],
            "_model_module": "@jupyter-widgets/controls",
            "_model_module_version": "1.5.0",
            "_model_name": "FloatProgressModel",
            "_view_count": null,
            "_view_module": "@jupyter-widgets/controls",
            "_view_module_version": "1.5.0",
            "_view_name": "ProgressView",
            "bar_style": "success",
            "description": "",
            "description_tooltip": null,
            "layout": "IPY_MODEL_5079b75ae3dd4994a76a6616f8d2a378",
            "max": 1,
            "min": 0,
            "orientation": "horizontal",
            "style": "IPY_MODEL_4c237c96a34340be9f413b463cbd33ee",
            "value": 1
          }
        },
        "666cda237e73437a9708fd8da9c8c61e": {
          "model_module": "@jupyter-widgets/controls",
          "model_name": "HTMLModel",
          "model_module_version": "1.5.0",
          "state": {
            "_dom_classes": [],
            "_model_module": "@jupyter-widgets/controls",
            "_model_module_version": "1.5.0",
            "_model_name": "HTMLModel",
            "_view_count": null,
            "_view_module": "@jupyter-widgets/controls",
            "_view_module_version": "1.5.0",
            "_view_name": "HTMLView",
            "description": "",
            "description_tooltip": null,
            "layout": "IPY_MODEL_8334ff06df05497799460d48f8c9c4c6",
            "placeholder": "​",
            "style": "IPY_MODEL_314bbac46d2e4bc3bbc79df164bb7204",
            "value": " 3000/0 [00:00&lt;00:00, 20545.61 examples/s]"
          }
        },
        "e06d66de59224eabae68f8c9ccd56a28": {
          "model_module": "@jupyter-widgets/base",
          "model_name": "LayoutModel",
          "model_module_version": "1.2.0",
          "state": {
            "_model_module": "@jupyter-widgets/base",
            "_model_module_version": "1.2.0",
            "_model_name": "LayoutModel",
            "_view_count": null,
            "_view_module": "@jupyter-widgets/base",
            "_view_module_version": "1.2.0",
            "_view_name": "LayoutView",
            "align_content": null,
            "align_items": null,
            "align_self": null,
            "border": null,
            "bottom": null,
            "display": null,
            "flex": null,
            "flex_flow": null,
            "grid_area": null,
            "grid_auto_columns": null,
            "grid_auto_flow": null,
            "grid_auto_rows": null,
            "grid_column": null,
            "grid_gap": null,
            "grid_row": null,
            "grid_template_areas": null,
            "grid_template_columns": null,
            "grid_template_rows": null,
            "height": null,
            "justify_content": null,
            "justify_items": null,
            "left": null,
            "margin": null,
            "max_height": null,
            "max_width": null,
            "min_height": null,
            "min_width": null,
            "object_fit": null,
            "object_position": null,
            "order": null,
            "overflow": null,
            "overflow_x": null,
            "overflow_y": null,
            "padding": null,
            "right": null,
            "top": null,
            "visibility": null,
            "width": null
          }
        },
        "4a85e46ff49a43b29e061140d31e0bd7": {
          "model_module": "@jupyter-widgets/base",
          "model_name": "LayoutModel",
          "model_module_version": "1.2.0",
          "state": {
            "_model_module": "@jupyter-widgets/base",
            "_model_module_version": "1.2.0",
            "_model_name": "LayoutModel",
            "_view_count": null,
            "_view_module": "@jupyter-widgets/base",
            "_view_module_version": "1.2.0",
            "_view_name": "LayoutView",
            "align_content": null,
            "align_items": null,
            "align_self": null,
            "border": null,
            "bottom": null,
            "display": null,
            "flex": null,
            "flex_flow": null,
            "grid_area": null,
            "grid_auto_columns": null,
            "grid_auto_flow": null,
            "grid_auto_rows": null,
            "grid_column": null,
            "grid_gap": null,
            "grid_row": null,
            "grid_template_areas": null,
            "grid_template_columns": null,
            "grid_template_rows": null,
            "height": null,
            "justify_content": null,
            "justify_items": null,
            "left": null,
            "margin": null,
            "max_height": null,
            "max_width": null,
            "min_height": null,
            "min_width": null,
            "object_fit": null,
            "object_position": null,
            "order": null,
            "overflow": null,
            "overflow_x": null,
            "overflow_y": null,
            "padding": null,
            "right": null,
            "top": null,
            "visibility": null,
            "width": null
          }
        },
        "ba365e50df3e44ae987dab0686e7ca88": {
          "model_module": "@jupyter-widgets/controls",
          "model_name": "DescriptionStyleModel",
          "model_module_version": "1.5.0",
          "state": {
            "_model_module": "@jupyter-widgets/controls",
            "_model_module_version": "1.5.0",
            "_model_name": "DescriptionStyleModel",
            "_view_count": null,
            "_view_module": "@jupyter-widgets/base",
            "_view_module_version": "1.2.0",
            "_view_name": "StyleView",
            "description_width": ""
          }
        },
        "5079b75ae3dd4994a76a6616f8d2a378": {
          "model_module": "@jupyter-widgets/base",
          "model_name": "LayoutModel",
          "model_module_version": "1.2.0",
          "state": {
            "_model_module": "@jupyter-widgets/base",
            "_model_module_version": "1.2.0",
            "_model_name": "LayoutModel",
            "_view_count": null,
            "_view_module": "@jupyter-widgets/base",
            "_view_module_version": "1.2.0",
            "_view_name": "LayoutView",
            "align_content": null,
            "align_items": null,
            "align_self": null,
            "border": null,
            "bottom": null,
            "display": null,
            "flex": null,
            "flex_flow": null,
            "grid_area": null,
            "grid_auto_columns": null,
            "grid_auto_flow": null,
            "grid_auto_rows": null,
            "grid_column": null,
            "grid_gap": null,
            "grid_row": null,
            "grid_template_areas": null,
            "grid_template_columns": null,
            "grid_template_rows": null,
            "height": null,
            "justify_content": null,
            "justify_items": null,
            "left": null,
            "margin": null,
            "max_height": null,
            "max_width": null,
            "min_height": null,
            "min_width": null,
            "object_fit": null,
            "object_position": null,
            "order": null,
            "overflow": null,
            "overflow_x": null,
            "overflow_y": null,
            "padding": null,
            "right": null,
            "top": null,
            "visibility": null,
            "width": "20px"
          }
        },
        "4c237c96a34340be9f413b463cbd33ee": {
          "model_module": "@jupyter-widgets/controls",
          "model_name": "ProgressStyleModel",
          "model_module_version": "1.5.0",
          "state": {
            "_model_module": "@jupyter-widgets/controls",
            "_model_module_version": "1.5.0",
            "_model_name": "ProgressStyleModel",
            "_view_count": null,
            "_view_module": "@jupyter-widgets/base",
            "_view_module_version": "1.2.0",
            "_view_name": "StyleView",
            "bar_color": null,
            "description_width": ""
          }
        },
        "8334ff06df05497799460d48f8c9c4c6": {
          "model_module": "@jupyter-widgets/base",
          "model_name": "LayoutModel",
          "model_module_version": "1.2.0",
          "state": {
            "_model_module": "@jupyter-widgets/base",
            "_model_module_version": "1.2.0",
            "_model_name": "LayoutModel",
            "_view_count": null,
            "_view_module": "@jupyter-widgets/base",
            "_view_module_version": "1.2.0",
            "_view_name": "LayoutView",
            "align_content": null,
            "align_items": null,
            "align_self": null,
            "border": null,
            "bottom": null,
            "display": null,
            "flex": null,
            "flex_flow": null,
            "grid_area": null,
            "grid_auto_columns": null,
            "grid_auto_flow": null,
            "grid_auto_rows": null,
            "grid_column": null,
            "grid_gap": null,
            "grid_row": null,
            "grid_template_areas": null,
            "grid_template_columns": null,
            "grid_template_rows": null,
            "height": null,
            "justify_content": null,
            "justify_items": null,
            "left": null,
            "margin": null,
            "max_height": null,
            "max_width": null,
            "min_height": null,
            "min_width": null,
            "object_fit": null,
            "object_position": null,
            "order": null,
            "overflow": null,
            "overflow_x": null,
            "overflow_y": null,
            "padding": null,
            "right": null,
            "top": null,
            "visibility": null,
            "width": null
          }
        },
        "314bbac46d2e4bc3bbc79df164bb7204": {
          "model_module": "@jupyter-widgets/controls",
          "model_name": "DescriptionStyleModel",
          "model_module_version": "1.5.0",
          "state": {
            "_model_module": "@jupyter-widgets/controls",
            "_model_module_version": "1.5.0",
            "_model_name": "DescriptionStyleModel",
            "_view_count": null,
            "_view_module": "@jupyter-widgets/base",
            "_view_module_version": "1.2.0",
            "_view_name": "StyleView",
            "description_width": ""
          }
        },
        "fb96dd36bae64c8ba122483d0c3e1945": {
          "model_module": "@jupyter-widgets/controls",
          "model_name": "HBoxModel",
          "model_module_version": "1.5.0",
          "state": {
            "_dom_classes": [],
            "_model_module": "@jupyter-widgets/controls",
            "_model_module_version": "1.5.0",
            "_model_name": "HBoxModel",
            "_view_count": null,
            "_view_module": "@jupyter-widgets/controls",
            "_view_module_version": "1.5.0",
            "_view_name": "HBoxView",
            "box_style": "",
            "children": [
              "IPY_MODEL_eee995f8350a42fcbb60ba9381774a71",
              "IPY_MODEL_34537fd3a61b4018bc3e90a2195187ec",
              "IPY_MODEL_b26e6fa998af462b84c676fe8bbdeb3f"
            ],
            "layout": "IPY_MODEL_748b75f1ea8742758fb2bd14a0347dd7"
          }
        },
        "eee995f8350a42fcbb60ba9381774a71": {
          "model_module": "@jupyter-widgets/controls",
          "model_name": "HTMLModel",
          "model_module_version": "1.5.0",
          "state": {
            "_dom_classes": [],
            "_model_module": "@jupyter-widgets/controls",
            "_model_module_version": "1.5.0",
            "_model_name": "HTMLModel",
            "_view_count": null,
            "_view_module": "@jupyter-widgets/controls",
            "_view_module_version": "1.5.0",
            "_view_name": "HTMLView",
            "description": "",
            "description_tooltip": null,
            "layout": "IPY_MODEL_d969fb9b2df749e3a43cf97c3f735b04",
            "placeholder": "​",
            "style": "IPY_MODEL_537af754f4dc4c62b2929858047f4441",
            "value": "Generating train split: "
          }
        },
        "34537fd3a61b4018bc3e90a2195187ec": {
          "model_module": "@jupyter-widgets/controls",
          "model_name": "FloatProgressModel",
          "model_module_version": "1.5.0",
          "state": {
            "_dom_classes": [],
            "_model_module": "@jupyter-widgets/controls",
            "_model_module_version": "1.5.0",
            "_model_name": "FloatProgressModel",
            "_view_count": null,
            "_view_module": "@jupyter-widgets/controls",
            "_view_module_version": "1.5.0",
            "_view_name": "ProgressView",
            "bar_style": "success",
            "description": "",
            "description_tooltip": null,
            "layout": "IPY_MODEL_b82ed96e10674d1abf3b6654a650d255",
            "max": 1,
            "min": 0,
            "orientation": "horizontal",
            "style": "IPY_MODEL_801c65a014294f1d852b4870626c048e",
            "value": 1
          }
        },
        "b26e6fa998af462b84c676fe8bbdeb3f": {
          "model_module": "@jupyter-widgets/controls",
          "model_name": "HTMLModel",
          "model_module_version": "1.5.0",
          "state": {
            "_dom_classes": [],
            "_model_module": "@jupyter-widgets/controls",
            "_model_module_version": "1.5.0",
            "_model_name": "HTMLModel",
            "_view_count": null,
            "_view_module": "@jupyter-widgets/controls",
            "_view_module_version": "1.5.0",
            "_view_name": "HTMLView",
            "description": "",
            "description_tooltip": null,
            "layout": "IPY_MODEL_ff64ea99b1404539bf6cb1b5ef6c4217",
            "placeholder": "​",
            "style": "IPY_MODEL_f7404fe2c018424db527841edadba9bc",
            "value": " 1000/0 [00:00&lt;00:00, 11967.96 examples/s]"
          }
        },
        "748b75f1ea8742758fb2bd14a0347dd7": {
          "model_module": "@jupyter-widgets/base",
          "model_name": "LayoutModel",
          "model_module_version": "1.2.0",
          "state": {
            "_model_module": "@jupyter-widgets/base",
            "_model_module_version": "1.2.0",
            "_model_name": "LayoutModel",
            "_view_count": null,
            "_view_module": "@jupyter-widgets/base",
            "_view_module_version": "1.2.0",
            "_view_name": "LayoutView",
            "align_content": null,
            "align_items": null,
            "align_self": null,
            "border": null,
            "bottom": null,
            "display": null,
            "flex": null,
            "flex_flow": null,
            "grid_area": null,
            "grid_auto_columns": null,
            "grid_auto_flow": null,
            "grid_auto_rows": null,
            "grid_column": null,
            "grid_gap": null,
            "grid_row": null,
            "grid_template_areas": null,
            "grid_template_columns": null,
            "grid_template_rows": null,
            "height": null,
            "justify_content": null,
            "justify_items": null,
            "left": null,
            "margin": null,
            "max_height": null,
            "max_width": null,
            "min_height": null,
            "min_width": null,
            "object_fit": null,
            "object_position": null,
            "order": null,
            "overflow": null,
            "overflow_x": null,
            "overflow_y": null,
            "padding": null,
            "right": null,
            "top": null,
            "visibility": null,
            "width": null
          }
        },
        "d969fb9b2df749e3a43cf97c3f735b04": {
          "model_module": "@jupyter-widgets/base",
          "model_name": "LayoutModel",
          "model_module_version": "1.2.0",
          "state": {
            "_model_module": "@jupyter-widgets/base",
            "_model_module_version": "1.2.0",
            "_model_name": "LayoutModel",
            "_view_count": null,
            "_view_module": "@jupyter-widgets/base",
            "_view_module_version": "1.2.0",
            "_view_name": "LayoutView",
            "align_content": null,
            "align_items": null,
            "align_self": null,
            "border": null,
            "bottom": null,
            "display": null,
            "flex": null,
            "flex_flow": null,
            "grid_area": null,
            "grid_auto_columns": null,
            "grid_auto_flow": null,
            "grid_auto_rows": null,
            "grid_column": null,
            "grid_gap": null,
            "grid_row": null,
            "grid_template_areas": null,
            "grid_template_columns": null,
            "grid_template_rows": null,
            "height": null,
            "justify_content": null,
            "justify_items": null,
            "left": null,
            "margin": null,
            "max_height": null,
            "max_width": null,
            "min_height": null,
            "min_width": null,
            "object_fit": null,
            "object_position": null,
            "order": null,
            "overflow": null,
            "overflow_x": null,
            "overflow_y": null,
            "padding": null,
            "right": null,
            "top": null,
            "visibility": null,
            "width": null
          }
        },
        "537af754f4dc4c62b2929858047f4441": {
          "model_module": "@jupyter-widgets/controls",
          "model_name": "DescriptionStyleModel",
          "model_module_version": "1.5.0",
          "state": {
            "_model_module": "@jupyter-widgets/controls",
            "_model_module_version": "1.5.0",
            "_model_name": "DescriptionStyleModel",
            "_view_count": null,
            "_view_module": "@jupyter-widgets/base",
            "_view_module_version": "1.2.0",
            "_view_name": "StyleView",
            "description_width": ""
          }
        },
        "b82ed96e10674d1abf3b6654a650d255": {
          "model_module": "@jupyter-widgets/base",
          "model_name": "LayoutModel",
          "model_module_version": "1.2.0",
          "state": {
            "_model_module": "@jupyter-widgets/base",
            "_model_module_version": "1.2.0",
            "_model_name": "LayoutModel",
            "_view_count": null,
            "_view_module": "@jupyter-widgets/base",
            "_view_module_version": "1.2.0",
            "_view_name": "LayoutView",
            "align_content": null,
            "align_items": null,
            "align_self": null,
            "border": null,
            "bottom": null,
            "display": null,
            "flex": null,
            "flex_flow": null,
            "grid_area": null,
            "grid_auto_columns": null,
            "grid_auto_flow": null,
            "grid_auto_rows": null,
            "grid_column": null,
            "grid_gap": null,
            "grid_row": null,
            "grid_template_areas": null,
            "grid_template_columns": null,
            "grid_template_rows": null,
            "height": null,
            "justify_content": null,
            "justify_items": null,
            "left": null,
            "margin": null,
            "max_height": null,
            "max_width": null,
            "min_height": null,
            "min_width": null,
            "object_fit": null,
            "object_position": null,
            "order": null,
            "overflow": null,
            "overflow_x": null,
            "overflow_y": null,
            "padding": null,
            "right": null,
            "top": null,
            "visibility": null,
            "width": "20px"
          }
        },
        "801c65a014294f1d852b4870626c048e": {
          "model_module": "@jupyter-widgets/controls",
          "model_name": "ProgressStyleModel",
          "model_module_version": "1.5.0",
          "state": {
            "_model_module": "@jupyter-widgets/controls",
            "_model_module_version": "1.5.0",
            "_model_name": "ProgressStyleModel",
            "_view_count": null,
            "_view_module": "@jupyter-widgets/base",
            "_view_module_version": "1.2.0",
            "_view_name": "StyleView",
            "bar_color": null,
            "description_width": ""
          }
        },
        "ff64ea99b1404539bf6cb1b5ef6c4217": {
          "model_module": "@jupyter-widgets/base",
          "model_name": "LayoutModel",
          "model_module_version": "1.2.0",
          "state": {
            "_model_module": "@jupyter-widgets/base",
            "_model_module_version": "1.2.0",
            "_model_name": "LayoutModel",
            "_view_count": null,
            "_view_module": "@jupyter-widgets/base",
            "_view_module_version": "1.2.0",
            "_view_name": "LayoutView",
            "align_content": null,
            "align_items": null,
            "align_self": null,
            "border": null,
            "bottom": null,
            "display": null,
            "flex": null,
            "flex_flow": null,
            "grid_area": null,
            "grid_auto_columns": null,
            "grid_auto_flow": null,
            "grid_auto_rows": null,
            "grid_column": null,
            "grid_gap": null,
            "grid_row": null,
            "grid_template_areas": null,
            "grid_template_columns": null,
            "grid_template_rows": null,
            "height": null,
            "justify_content": null,
            "justify_items": null,
            "left": null,
            "margin": null,
            "max_height": null,
            "max_width": null,
            "min_height": null,
            "min_width": null,
            "object_fit": null,
            "object_position": null,
            "order": null,
            "overflow": null,
            "overflow_x": null,
            "overflow_y": null,
            "padding": null,
            "right": null,
            "top": null,
            "visibility": null,
            "width": null
          }
        },
        "f7404fe2c018424db527841edadba9bc": {
          "model_module": "@jupyter-widgets/controls",
          "model_name": "DescriptionStyleModel",
          "model_module_version": "1.5.0",
          "state": {
            "_model_module": "@jupyter-widgets/controls",
            "_model_module_version": "1.5.0",
            "_model_name": "DescriptionStyleModel",
            "_view_count": null,
            "_view_module": "@jupyter-widgets/base",
            "_view_module_version": "1.2.0",
            "_view_name": "StyleView",
            "description_width": ""
          }
        },
        "eaa44637a08840628ddad3e0e96bc478": {
          "model_module": "@jupyter-widgets/controls",
          "model_name": "HBoxModel",
          "model_module_version": "1.5.0",
          "state": {
            "_dom_classes": [],
            "_model_module": "@jupyter-widgets/controls",
            "_model_module_version": "1.5.0",
            "_model_name": "HBoxModel",
            "_view_count": null,
            "_view_module": "@jupyter-widgets/controls",
            "_view_module_version": "1.5.0",
            "_view_name": "HBoxView",
            "box_style": "",
            "children": [
              "IPY_MODEL_65cac246fb764b5a9332767b85138937",
              "IPY_MODEL_300c3ace730146dd91ad773d6712f1d0",
              "IPY_MODEL_9c13819cb6d04ab0a4d27750bf53c002"
            ],
            "layout": "IPY_MODEL_cd201831b8bf40668f792dd072c7afb9"
          }
        },
        "65cac246fb764b5a9332767b85138937": {
          "model_module": "@jupyter-widgets/controls",
          "model_name": "HTMLModel",
          "model_module_version": "1.5.0",
          "state": {
            "_dom_classes": [],
            "_model_module": "@jupyter-widgets/controls",
            "_model_module_version": "1.5.0",
            "_model_name": "HTMLModel",
            "_view_count": null,
            "_view_module": "@jupyter-widgets/controls",
            "_view_module_version": "1.5.0",
            "_view_name": "HTMLView",
            "description": "",
            "description_tooltip": null,
            "layout": "IPY_MODEL_67d5ff1ff84c4de0bb08cb14f399ffe9",
            "placeholder": "​",
            "style": "IPY_MODEL_8f8fbad9ca584dec918d34cb74a0943c",
            "value": "tokenizer_config.json: 100%"
          }
        },
        "300c3ace730146dd91ad773d6712f1d0": {
          "model_module": "@jupyter-widgets/controls",
          "model_name": "FloatProgressModel",
          "model_module_version": "1.5.0",
          "state": {
            "_dom_classes": [],
            "_model_module": "@jupyter-widgets/controls",
            "_model_module_version": "1.5.0",
            "_model_name": "FloatProgressModel",
            "_view_count": null,
            "_view_module": "@jupyter-widgets/controls",
            "_view_module_version": "1.5.0",
            "_view_name": "ProgressView",
            "bar_style": "success",
            "description": "",
            "description_tooltip": null,
            "layout": "IPY_MODEL_2473634f066f44f8ae8fdb61d055bb3b",
            "max": 2324,
            "min": 0,
            "orientation": "horizontal",
            "style": "IPY_MODEL_fb44fa4944c444488856967d9d6c9621",
            "value": 2324
          }
        },
        "9c13819cb6d04ab0a4d27750bf53c002": {
          "model_module": "@jupyter-widgets/controls",
          "model_name": "HTMLModel",
          "model_module_version": "1.5.0",
          "state": {
            "_dom_classes": [],
            "_model_module": "@jupyter-widgets/controls",
            "_model_module_version": "1.5.0",
            "_model_name": "HTMLModel",
            "_view_count": null,
            "_view_module": "@jupyter-widgets/controls",
            "_view_module_version": "1.5.0",
            "_view_name": "HTMLView",
            "description": "",
            "description_tooltip": null,
            "layout": "IPY_MODEL_21595ff5d7d54f78ac0316bb4bea351e",
            "placeholder": "​",
            "style": "IPY_MODEL_d195e13f7a57403384821e732227a730",
            "value": " 2.32k/2.32k [00:00&lt;00:00, 43.9kB/s]"
          }
        },
        "cd201831b8bf40668f792dd072c7afb9": {
          "model_module": "@jupyter-widgets/base",
          "model_name": "LayoutModel",
          "model_module_version": "1.2.0",
          "state": {
            "_model_module": "@jupyter-widgets/base",
            "_model_module_version": "1.2.0",
            "_model_name": "LayoutModel",
            "_view_count": null,
            "_view_module": "@jupyter-widgets/base",
            "_view_module_version": "1.2.0",
            "_view_name": "LayoutView",
            "align_content": null,
            "align_items": null,
            "align_self": null,
            "border": null,
            "bottom": null,
            "display": null,
            "flex": null,
            "flex_flow": null,
            "grid_area": null,
            "grid_auto_columns": null,
            "grid_auto_flow": null,
            "grid_auto_rows": null,
            "grid_column": null,
            "grid_gap": null,
            "grid_row": null,
            "grid_template_areas": null,
            "grid_template_columns": null,
            "grid_template_rows": null,
            "height": null,
            "justify_content": null,
            "justify_items": null,
            "left": null,
            "margin": null,
            "max_height": null,
            "max_width": null,
            "min_height": null,
            "min_width": null,
            "object_fit": null,
            "object_position": null,
            "order": null,
            "overflow": null,
            "overflow_x": null,
            "overflow_y": null,
            "padding": null,
            "right": null,
            "top": null,
            "visibility": null,
            "width": null
          }
        },
        "67d5ff1ff84c4de0bb08cb14f399ffe9": {
          "model_module": "@jupyter-widgets/base",
          "model_name": "LayoutModel",
          "model_module_version": "1.2.0",
          "state": {
            "_model_module": "@jupyter-widgets/base",
            "_model_module_version": "1.2.0",
            "_model_name": "LayoutModel",
            "_view_count": null,
            "_view_module": "@jupyter-widgets/base",
            "_view_module_version": "1.2.0",
            "_view_name": "LayoutView",
            "align_content": null,
            "align_items": null,
            "align_self": null,
            "border": null,
            "bottom": null,
            "display": null,
            "flex": null,
            "flex_flow": null,
            "grid_area": null,
            "grid_auto_columns": null,
            "grid_auto_flow": null,
            "grid_auto_rows": null,
            "grid_column": null,
            "grid_gap": null,
            "grid_row": null,
            "grid_template_areas": null,
            "grid_template_columns": null,
            "grid_template_rows": null,
            "height": null,
            "justify_content": null,
            "justify_items": null,
            "left": null,
            "margin": null,
            "max_height": null,
            "max_width": null,
            "min_height": null,
            "min_width": null,
            "object_fit": null,
            "object_position": null,
            "order": null,
            "overflow": null,
            "overflow_x": null,
            "overflow_y": null,
            "padding": null,
            "right": null,
            "top": null,
            "visibility": null,
            "width": null
          }
        },
        "8f8fbad9ca584dec918d34cb74a0943c": {
          "model_module": "@jupyter-widgets/controls",
          "model_name": "DescriptionStyleModel",
          "model_module_version": "1.5.0",
          "state": {
            "_model_module": "@jupyter-widgets/controls",
            "_model_module_version": "1.5.0",
            "_model_name": "DescriptionStyleModel",
            "_view_count": null,
            "_view_module": "@jupyter-widgets/base",
            "_view_module_version": "1.2.0",
            "_view_name": "StyleView",
            "description_width": ""
          }
        },
        "2473634f066f44f8ae8fdb61d055bb3b": {
          "model_module": "@jupyter-widgets/base",
          "model_name": "LayoutModel",
          "model_module_version": "1.2.0",
          "state": {
            "_model_module": "@jupyter-widgets/base",
            "_model_module_version": "1.2.0",
            "_model_name": "LayoutModel",
            "_view_count": null,
            "_view_module": "@jupyter-widgets/base",
            "_view_module_version": "1.2.0",
            "_view_name": "LayoutView",
            "align_content": null,
            "align_items": null,
            "align_self": null,
            "border": null,
            "bottom": null,
            "display": null,
            "flex": null,
            "flex_flow": null,
            "grid_area": null,
            "grid_auto_columns": null,
            "grid_auto_flow": null,
            "grid_auto_rows": null,
            "grid_column": null,
            "grid_gap": null,
            "grid_row": null,
            "grid_template_areas": null,
            "grid_template_columns": null,
            "grid_template_rows": null,
            "height": null,
            "justify_content": null,
            "justify_items": null,
            "left": null,
            "margin": null,
            "max_height": null,
            "max_width": null,
            "min_height": null,
            "min_width": null,
            "object_fit": null,
            "object_position": null,
            "order": null,
            "overflow": null,
            "overflow_x": null,
            "overflow_y": null,
            "padding": null,
            "right": null,
            "top": null,
            "visibility": null,
            "width": null
          }
        },
        "fb44fa4944c444488856967d9d6c9621": {
          "model_module": "@jupyter-widgets/controls",
          "model_name": "ProgressStyleModel",
          "model_module_version": "1.5.0",
          "state": {
            "_model_module": "@jupyter-widgets/controls",
            "_model_module_version": "1.5.0",
            "_model_name": "ProgressStyleModel",
            "_view_count": null,
            "_view_module": "@jupyter-widgets/base",
            "_view_module_version": "1.2.0",
            "_view_name": "StyleView",
            "bar_color": null,
            "description_width": ""
          }
        },
        "21595ff5d7d54f78ac0316bb4bea351e": {
          "model_module": "@jupyter-widgets/base",
          "model_name": "LayoutModel",
          "model_module_version": "1.2.0",
          "state": {
            "_model_module": "@jupyter-widgets/base",
            "_model_module_version": "1.2.0",
            "_model_name": "LayoutModel",
            "_view_count": null,
            "_view_module": "@jupyter-widgets/base",
            "_view_module_version": "1.2.0",
            "_view_name": "LayoutView",
            "align_content": null,
            "align_items": null,
            "align_self": null,
            "border": null,
            "bottom": null,
            "display": null,
            "flex": null,
            "flex_flow": null,
            "grid_area": null,
            "grid_auto_columns": null,
            "grid_auto_flow": null,
            "grid_auto_rows": null,
            "grid_column": null,
            "grid_gap": null,
            "grid_row": null,
            "grid_template_areas": null,
            "grid_template_columns": null,
            "grid_template_rows": null,
            "height": null,
            "justify_content": null,
            "justify_items": null,
            "left": null,
            "margin": null,
            "max_height": null,
            "max_width": null,
            "min_height": null,
            "min_width": null,
            "object_fit": null,
            "object_position": null,
            "order": null,
            "overflow": null,
            "overflow_x": null,
            "overflow_y": null,
            "padding": null,
            "right": null,
            "top": null,
            "visibility": null,
            "width": null
          }
        },
        "d195e13f7a57403384821e732227a730": {
          "model_module": "@jupyter-widgets/controls",
          "model_name": "DescriptionStyleModel",
          "model_module_version": "1.5.0",
          "state": {
            "_model_module": "@jupyter-widgets/controls",
            "_model_module_version": "1.5.0",
            "_model_name": "DescriptionStyleModel",
            "_view_count": null,
            "_view_module": "@jupyter-widgets/base",
            "_view_module_version": "1.2.0",
            "_view_name": "StyleView",
            "description_width": ""
          }
        },
        "c056c3d73c9b48a19fb654b5f5386ba0": {
          "model_module": "@jupyter-widgets/controls",
          "model_name": "HBoxModel",
          "model_module_version": "1.5.0",
          "state": {
            "_dom_classes": [],
            "_model_module": "@jupyter-widgets/controls",
            "_model_module_version": "1.5.0",
            "_model_name": "HBoxModel",
            "_view_count": null,
            "_view_module": "@jupyter-widgets/controls",
            "_view_module_version": "1.5.0",
            "_view_name": "HBoxView",
            "box_style": "",
            "children": [
              "IPY_MODEL_72abf60b253e498996544ae2c03f3d74",
              "IPY_MODEL_414a0b0fac7049c6a19d5c05169aa035",
              "IPY_MODEL_431462f2ad5f4541aa5b6309010ddea8"
            ],
            "layout": "IPY_MODEL_509ea1f3b52548e386ea0a85899e7b45"
          }
        },
        "72abf60b253e498996544ae2c03f3d74": {
          "model_module": "@jupyter-widgets/controls",
          "model_name": "HTMLModel",
          "model_module_version": "1.5.0",
          "state": {
            "_dom_classes": [],
            "_model_module": "@jupyter-widgets/controls",
            "_model_module_version": "1.5.0",
            "_model_name": "HTMLModel",
            "_view_count": null,
            "_view_module": "@jupyter-widgets/controls",
            "_view_module_version": "1.5.0",
            "_view_name": "HTMLView",
            "description": "",
            "description_tooltip": null,
            "layout": "IPY_MODEL_7cc3e8c504b54677b9daa250ef5183cb",
            "placeholder": "​",
            "style": "IPY_MODEL_c89da056f16d4b038067074430ec9460",
            "value": "spiece.model: 100%"
          }
        },
        "414a0b0fac7049c6a19d5c05169aa035": {
          "model_module": "@jupyter-widgets/controls",
          "model_name": "FloatProgressModel",
          "model_module_version": "1.5.0",
          "state": {
            "_dom_classes": [],
            "_model_module": "@jupyter-widgets/controls",
            "_model_module_version": "1.5.0",
            "_model_name": "FloatProgressModel",
            "_view_count": null,
            "_view_module": "@jupyter-widgets/controls",
            "_view_module_version": "1.5.0",
            "_view_name": "ProgressView",
            "bar_style": "success",
            "description": "",
            "description_tooltip": null,
            "layout": "IPY_MODEL_07bf8fe25614436aa133d78a3179afeb",
            "max": 791656,
            "min": 0,
            "orientation": "horizontal",
            "style": "IPY_MODEL_417750313f5a424ebd863e4c0f41c3fe",
            "value": 791656
          }
        },
        "431462f2ad5f4541aa5b6309010ddea8": {
          "model_module": "@jupyter-widgets/controls",
          "model_name": "HTMLModel",
          "model_module_version": "1.5.0",
          "state": {
            "_dom_classes": [],
            "_model_module": "@jupyter-widgets/controls",
            "_model_module_version": "1.5.0",
            "_model_name": "HTMLModel",
            "_view_count": null,
            "_view_module": "@jupyter-widgets/controls",
            "_view_module_version": "1.5.0",
            "_view_name": "HTMLView",
            "description": "",
            "description_tooltip": null,
            "layout": "IPY_MODEL_12ae491872174cc29a9f2a55cac938ad",
            "placeholder": "​",
            "style": "IPY_MODEL_e9b77288da9e45ffa8890718a6202702",
            "value": " 792k/792k [00:00&lt;00:00, 11.6MB/s]"
          }
        },
        "509ea1f3b52548e386ea0a85899e7b45": {
          "model_module": "@jupyter-widgets/base",
          "model_name": "LayoutModel",
          "model_module_version": "1.2.0",
          "state": {
            "_model_module": "@jupyter-widgets/base",
            "_model_module_version": "1.2.0",
            "_model_name": "LayoutModel",
            "_view_count": null,
            "_view_module": "@jupyter-widgets/base",
            "_view_module_version": "1.2.0",
            "_view_name": "LayoutView",
            "align_content": null,
            "align_items": null,
            "align_self": null,
            "border": null,
            "bottom": null,
            "display": null,
            "flex": null,
            "flex_flow": null,
            "grid_area": null,
            "grid_auto_columns": null,
            "grid_auto_flow": null,
            "grid_auto_rows": null,
            "grid_column": null,
            "grid_gap": null,
            "grid_row": null,
            "grid_template_areas": null,
            "grid_template_columns": null,
            "grid_template_rows": null,
            "height": null,
            "justify_content": null,
            "justify_items": null,
            "left": null,
            "margin": null,
            "max_height": null,
            "max_width": null,
            "min_height": null,
            "min_width": null,
            "object_fit": null,
            "object_position": null,
            "order": null,
            "overflow": null,
            "overflow_x": null,
            "overflow_y": null,
            "padding": null,
            "right": null,
            "top": null,
            "visibility": null,
            "width": null
          }
        },
        "7cc3e8c504b54677b9daa250ef5183cb": {
          "model_module": "@jupyter-widgets/base",
          "model_name": "LayoutModel",
          "model_module_version": "1.2.0",
          "state": {
            "_model_module": "@jupyter-widgets/base",
            "_model_module_version": "1.2.0",
            "_model_name": "LayoutModel",
            "_view_count": null,
            "_view_module": "@jupyter-widgets/base",
            "_view_module_version": "1.2.0",
            "_view_name": "LayoutView",
            "align_content": null,
            "align_items": null,
            "align_self": null,
            "border": null,
            "bottom": null,
            "display": null,
            "flex": null,
            "flex_flow": null,
            "grid_area": null,
            "grid_auto_columns": null,
            "grid_auto_flow": null,
            "grid_auto_rows": null,
            "grid_column": null,
            "grid_gap": null,
            "grid_row": null,
            "grid_template_areas": null,
            "grid_template_columns": null,
            "grid_template_rows": null,
            "height": null,
            "justify_content": null,
            "justify_items": null,
            "left": null,
            "margin": null,
            "max_height": null,
            "max_width": null,
            "min_height": null,
            "min_width": null,
            "object_fit": null,
            "object_position": null,
            "order": null,
            "overflow": null,
            "overflow_x": null,
            "overflow_y": null,
            "padding": null,
            "right": null,
            "top": null,
            "visibility": null,
            "width": null
          }
        },
        "c89da056f16d4b038067074430ec9460": {
          "model_module": "@jupyter-widgets/controls",
          "model_name": "DescriptionStyleModel",
          "model_module_version": "1.5.0",
          "state": {
            "_model_module": "@jupyter-widgets/controls",
            "_model_module_version": "1.5.0",
            "_model_name": "DescriptionStyleModel",
            "_view_count": null,
            "_view_module": "@jupyter-widgets/base",
            "_view_module_version": "1.2.0",
            "_view_name": "StyleView",
            "description_width": ""
          }
        },
        "07bf8fe25614436aa133d78a3179afeb": {
          "model_module": "@jupyter-widgets/base",
          "model_name": "LayoutModel",
          "model_module_version": "1.2.0",
          "state": {
            "_model_module": "@jupyter-widgets/base",
            "_model_module_version": "1.2.0",
            "_model_name": "LayoutModel",
            "_view_count": null,
            "_view_module": "@jupyter-widgets/base",
            "_view_module_version": "1.2.0",
            "_view_name": "LayoutView",
            "align_content": null,
            "align_items": null,
            "align_self": null,
            "border": null,
            "bottom": null,
            "display": null,
            "flex": null,
            "flex_flow": null,
            "grid_area": null,
            "grid_auto_columns": null,
            "grid_auto_flow": null,
            "grid_auto_rows": null,
            "grid_column": null,
            "grid_gap": null,
            "grid_row": null,
            "grid_template_areas": null,
            "grid_template_columns": null,
            "grid_template_rows": null,
            "height": null,
            "justify_content": null,
            "justify_items": null,
            "left": null,
            "margin": null,
            "max_height": null,
            "max_width": null,
            "min_height": null,
            "min_width": null,
            "object_fit": null,
            "object_position": null,
            "order": null,
            "overflow": null,
            "overflow_x": null,
            "overflow_y": null,
            "padding": null,
            "right": null,
            "top": null,
            "visibility": null,
            "width": null
          }
        },
        "417750313f5a424ebd863e4c0f41c3fe": {
          "model_module": "@jupyter-widgets/controls",
          "model_name": "ProgressStyleModel",
          "model_module_version": "1.5.0",
          "state": {
            "_model_module": "@jupyter-widgets/controls",
            "_model_module_version": "1.5.0",
            "_model_name": "ProgressStyleModel",
            "_view_count": null,
            "_view_module": "@jupyter-widgets/base",
            "_view_module_version": "1.2.0",
            "_view_name": "StyleView",
            "bar_color": null,
            "description_width": ""
          }
        },
        "12ae491872174cc29a9f2a55cac938ad": {
          "model_module": "@jupyter-widgets/base",
          "model_name": "LayoutModel",
          "model_module_version": "1.2.0",
          "state": {
            "_model_module": "@jupyter-widgets/base",
            "_model_module_version": "1.2.0",
            "_model_name": "LayoutModel",
            "_view_count": null,
            "_view_module": "@jupyter-widgets/base",
            "_view_module_version": "1.2.0",
            "_view_name": "LayoutView",
            "align_content": null,
            "align_items": null,
            "align_self": null,
            "border": null,
            "bottom": null,
            "display": null,
            "flex": null,
            "flex_flow": null,
            "grid_area": null,
            "grid_auto_columns": null,
            "grid_auto_flow": null,
            "grid_auto_rows": null,
            "grid_column": null,
            "grid_gap": null,
            "grid_row": null,
            "grid_template_areas": null,
            "grid_template_columns": null,
            "grid_template_rows": null,
            "height": null,
            "justify_content": null,
            "justify_items": null,
            "left": null,
            "margin": null,
            "max_height": null,
            "max_width": null,
            "min_height": null,
            "min_width": null,
            "object_fit": null,
            "object_position": null,
            "order": null,
            "overflow": null,
            "overflow_x": null,
            "overflow_y": null,
            "padding": null,
            "right": null,
            "top": null,
            "visibility": null,
            "width": null
          }
        },
        "e9b77288da9e45ffa8890718a6202702": {
          "model_module": "@jupyter-widgets/controls",
          "model_name": "DescriptionStyleModel",
          "model_module_version": "1.5.0",
          "state": {
            "_model_module": "@jupyter-widgets/controls",
            "_model_module_version": "1.5.0",
            "_model_name": "DescriptionStyleModel",
            "_view_count": null,
            "_view_module": "@jupyter-widgets/base",
            "_view_module_version": "1.2.0",
            "_view_name": "StyleView",
            "description_width": ""
          }
        },
        "1020c46ac5464d96b019a87dcab7d8ca": {
          "model_module": "@jupyter-widgets/controls",
          "model_name": "HBoxModel",
          "model_module_version": "1.5.0",
          "state": {
            "_dom_classes": [],
            "_model_module": "@jupyter-widgets/controls",
            "_model_module_version": "1.5.0",
            "_model_name": "HBoxModel",
            "_view_count": null,
            "_view_module": "@jupyter-widgets/controls",
            "_view_module_version": "1.5.0",
            "_view_name": "HBoxView",
            "box_style": "",
            "children": [
              "IPY_MODEL_581871cc399b42afb4712c1a801a2a7b",
              "IPY_MODEL_3abb953d1a6145e2b6a52857bf8faa24",
              "IPY_MODEL_8108748552e64077bf4afc61ba6d8e47"
            ],
            "layout": "IPY_MODEL_5359810acd844b0da5894a8cd2e81181"
          }
        },
        "581871cc399b42afb4712c1a801a2a7b": {
          "model_module": "@jupyter-widgets/controls",
          "model_name": "HTMLModel",
          "model_module_version": "1.5.0",
          "state": {
            "_dom_classes": [],
            "_model_module": "@jupyter-widgets/controls",
            "_model_module_version": "1.5.0",
            "_model_name": "HTMLModel",
            "_view_count": null,
            "_view_module": "@jupyter-widgets/controls",
            "_view_module_version": "1.5.0",
            "_view_name": "HTMLView",
            "description": "",
            "description_tooltip": null,
            "layout": "IPY_MODEL_1dc21b1340c24930b825fd0ad0b3f90d",
            "placeholder": "​",
            "style": "IPY_MODEL_eb35bffec7dd49ffa36f605a68f06599",
            "value": "tokenizer.json: 100%"
          }
        },
        "3abb953d1a6145e2b6a52857bf8faa24": {
          "model_module": "@jupyter-widgets/controls",
          "model_name": "FloatProgressModel",
          "model_module_version": "1.5.0",
          "state": {
            "_dom_classes": [],
            "_model_module": "@jupyter-widgets/controls",
            "_model_module_version": "1.5.0",
            "_model_name": "FloatProgressModel",
            "_view_count": null,
            "_view_module": "@jupyter-widgets/controls",
            "_view_module_version": "1.5.0",
            "_view_name": "ProgressView",
            "bar_style": "success",
            "description": "",
            "description_tooltip": null,
            "layout": "IPY_MODEL_0c7d5bd6aeef4443a624f58aae194a94",
            "max": 1389353,
            "min": 0,
            "orientation": "horizontal",
            "style": "IPY_MODEL_29299ee399f8452bb132bf77826b3161",
            "value": 1389353
          }
        },
        "8108748552e64077bf4afc61ba6d8e47": {
          "model_module": "@jupyter-widgets/controls",
          "model_name": "HTMLModel",
          "model_module_version": "1.5.0",
          "state": {
            "_dom_classes": [],
            "_model_module": "@jupyter-widgets/controls",
            "_model_module_version": "1.5.0",
            "_model_name": "HTMLModel",
            "_view_count": null,
            "_view_module": "@jupyter-widgets/controls",
            "_view_module_version": "1.5.0",
            "_view_name": "HTMLView",
            "description": "",
            "description_tooltip": null,
            "layout": "IPY_MODEL_844ad86fae574725b8d1b3ad6eb29c23",
            "placeholder": "​",
            "style": "IPY_MODEL_2e8138f5a458411faeb2456dea4dd65f",
            "value": " 1.39M/1.39M [00:00&lt;00:00, 1.50MB/s]"
          }
        },
        "5359810acd844b0da5894a8cd2e81181": {
          "model_module": "@jupyter-widgets/base",
          "model_name": "LayoutModel",
          "model_module_version": "1.2.0",
          "state": {
            "_model_module": "@jupyter-widgets/base",
            "_model_module_version": "1.2.0",
            "_model_name": "LayoutModel",
            "_view_count": null,
            "_view_module": "@jupyter-widgets/base",
            "_view_module_version": "1.2.0",
            "_view_name": "LayoutView",
            "align_content": null,
            "align_items": null,
            "align_self": null,
            "border": null,
            "bottom": null,
            "display": null,
            "flex": null,
            "flex_flow": null,
            "grid_area": null,
            "grid_auto_columns": null,
            "grid_auto_flow": null,
            "grid_auto_rows": null,
            "grid_column": null,
            "grid_gap": null,
            "grid_row": null,
            "grid_template_areas": null,
            "grid_template_columns": null,
            "grid_template_rows": null,
            "height": null,
            "justify_content": null,
            "justify_items": null,
            "left": null,
            "margin": null,
            "max_height": null,
            "max_width": null,
            "min_height": null,
            "min_width": null,
            "object_fit": null,
            "object_position": null,
            "order": null,
            "overflow": null,
            "overflow_x": null,
            "overflow_y": null,
            "padding": null,
            "right": null,
            "top": null,
            "visibility": null,
            "width": null
          }
        },
        "1dc21b1340c24930b825fd0ad0b3f90d": {
          "model_module": "@jupyter-widgets/base",
          "model_name": "LayoutModel",
          "model_module_version": "1.2.0",
          "state": {
            "_model_module": "@jupyter-widgets/base",
            "_model_module_version": "1.2.0",
            "_model_name": "LayoutModel",
            "_view_count": null,
            "_view_module": "@jupyter-widgets/base",
            "_view_module_version": "1.2.0",
            "_view_name": "LayoutView",
            "align_content": null,
            "align_items": null,
            "align_self": null,
            "border": null,
            "bottom": null,
            "display": null,
            "flex": null,
            "flex_flow": null,
            "grid_area": null,
            "grid_auto_columns": null,
            "grid_auto_flow": null,
            "grid_auto_rows": null,
            "grid_column": null,
            "grid_gap": null,
            "grid_row": null,
            "grid_template_areas": null,
            "grid_template_columns": null,
            "grid_template_rows": null,
            "height": null,
            "justify_content": null,
            "justify_items": null,
            "left": null,
            "margin": null,
            "max_height": null,
            "max_width": null,
            "min_height": null,
            "min_width": null,
            "object_fit": null,
            "object_position": null,
            "order": null,
            "overflow": null,
            "overflow_x": null,
            "overflow_y": null,
            "padding": null,
            "right": null,
            "top": null,
            "visibility": null,
            "width": null
          }
        },
        "eb35bffec7dd49ffa36f605a68f06599": {
          "model_module": "@jupyter-widgets/controls",
          "model_name": "DescriptionStyleModel",
          "model_module_version": "1.5.0",
          "state": {
            "_model_module": "@jupyter-widgets/controls",
            "_model_module_version": "1.5.0",
            "_model_name": "DescriptionStyleModel",
            "_view_count": null,
            "_view_module": "@jupyter-widgets/base",
            "_view_module_version": "1.2.0",
            "_view_name": "StyleView",
            "description_width": ""
          }
        },
        "0c7d5bd6aeef4443a624f58aae194a94": {
          "model_module": "@jupyter-widgets/base",
          "model_name": "LayoutModel",
          "model_module_version": "1.2.0",
          "state": {
            "_model_module": "@jupyter-widgets/base",
            "_model_module_version": "1.2.0",
            "_model_name": "LayoutModel",
            "_view_count": null,
            "_view_module": "@jupyter-widgets/base",
            "_view_module_version": "1.2.0",
            "_view_name": "LayoutView",
            "align_content": null,
            "align_items": null,
            "align_self": null,
            "border": null,
            "bottom": null,
            "display": null,
            "flex": null,
            "flex_flow": null,
            "grid_area": null,
            "grid_auto_columns": null,
            "grid_auto_flow": null,
            "grid_auto_rows": null,
            "grid_column": null,
            "grid_gap": null,
            "grid_row": null,
            "grid_template_areas": null,
            "grid_template_columns": null,
            "grid_template_rows": null,
            "height": null,
            "justify_content": null,
            "justify_items": null,
            "left": null,
            "margin": null,
            "max_height": null,
            "max_width": null,
            "min_height": null,
            "min_width": null,
            "object_fit": null,
            "object_position": null,
            "order": null,
            "overflow": null,
            "overflow_x": null,
            "overflow_y": null,
            "padding": null,
            "right": null,
            "top": null,
            "visibility": null,
            "width": null
          }
        },
        "29299ee399f8452bb132bf77826b3161": {
          "model_module": "@jupyter-widgets/controls",
          "model_name": "ProgressStyleModel",
          "model_module_version": "1.5.0",
          "state": {
            "_model_module": "@jupyter-widgets/controls",
            "_model_module_version": "1.5.0",
            "_model_name": "ProgressStyleModel",
            "_view_count": null,
            "_view_module": "@jupyter-widgets/base",
            "_view_module_version": "1.2.0",
            "_view_name": "StyleView",
            "bar_color": null,
            "description_width": ""
          }
        },
        "844ad86fae574725b8d1b3ad6eb29c23": {
          "model_module": "@jupyter-widgets/base",
          "model_name": "LayoutModel",
          "model_module_version": "1.2.0",
          "state": {
            "_model_module": "@jupyter-widgets/base",
            "_model_module_version": "1.2.0",
            "_model_name": "LayoutModel",
            "_view_count": null,
            "_view_module": "@jupyter-widgets/base",
            "_view_module_version": "1.2.0",
            "_view_name": "LayoutView",
            "align_content": null,
            "align_items": null,
            "align_self": null,
            "border": null,
            "bottom": null,
            "display": null,
            "flex": null,
            "flex_flow": null,
            "grid_area": null,
            "grid_auto_columns": null,
            "grid_auto_flow": null,
            "grid_auto_rows": null,
            "grid_column": null,
            "grid_gap": null,
            "grid_row": null,
            "grid_template_areas": null,
            "grid_template_columns": null,
            "grid_template_rows": null,
            "height": null,
            "justify_content": null,
            "justify_items": null,
            "left": null,
            "margin": null,
            "max_height": null,
            "max_width": null,
            "min_height": null,
            "min_width": null,
            "object_fit": null,
            "object_position": null,
            "order": null,
            "overflow": null,
            "overflow_x": null,
            "overflow_y": null,
            "padding": null,
            "right": null,
            "top": null,
            "visibility": null,
            "width": null
          }
        },
        "2e8138f5a458411faeb2456dea4dd65f": {
          "model_module": "@jupyter-widgets/controls",
          "model_name": "DescriptionStyleModel",
          "model_module_version": "1.5.0",
          "state": {
            "_model_module": "@jupyter-widgets/controls",
            "_model_module_version": "1.5.0",
            "_model_name": "DescriptionStyleModel",
            "_view_count": null,
            "_view_module": "@jupyter-widgets/base",
            "_view_module_version": "1.2.0",
            "_view_name": "StyleView",
            "description_width": ""
          }
        },
        "1300e75ec3b044e1802cd08e6436d58c": {
          "model_module": "@jupyter-widgets/controls",
          "model_name": "HBoxModel",
          "model_module_version": "1.5.0",
          "state": {
            "_dom_classes": [],
            "_model_module": "@jupyter-widgets/controls",
            "_model_module_version": "1.5.0",
            "_model_name": "HBoxModel",
            "_view_count": null,
            "_view_module": "@jupyter-widgets/controls",
            "_view_module_version": "1.5.0",
            "_view_name": "HBoxView",
            "box_style": "",
            "children": [
              "IPY_MODEL_8d31804c9cc64ee4ba9f240ba7b25fa8",
              "IPY_MODEL_be954f67e67c4f0cb574675da5fb4aec",
              "IPY_MODEL_9b8acd41fec440b1be7073867f6c2e3b"
            ],
            "layout": "IPY_MODEL_751cedb3ad434a30957281ef2f45cdc6"
          }
        },
        "8d31804c9cc64ee4ba9f240ba7b25fa8": {
          "model_module": "@jupyter-widgets/controls",
          "model_name": "HTMLModel",
          "model_module_version": "1.5.0",
          "state": {
            "_dom_classes": [],
            "_model_module": "@jupyter-widgets/controls",
            "_model_module_version": "1.5.0",
            "_model_name": "HTMLModel",
            "_view_count": null,
            "_view_module": "@jupyter-widgets/controls",
            "_view_module_version": "1.5.0",
            "_view_name": "HTMLView",
            "description": "",
            "description_tooltip": null,
            "layout": "IPY_MODEL_45994bb4bb0c40f5ab2e988729ac94da",
            "placeholder": "​",
            "style": "IPY_MODEL_b842cbcefaa343d78ae3bd647b387763",
            "value": "tokenizer_config.json: 100%"
          }
        },
        "be954f67e67c4f0cb574675da5fb4aec": {
          "model_module": "@jupyter-widgets/controls",
          "model_name": "FloatProgressModel",
          "model_module_version": "1.5.0",
          "state": {
            "_dom_classes": [],
            "_model_module": "@jupyter-widgets/controls",
            "_model_module_version": "1.5.0",
            "_model_name": "FloatProgressModel",
            "_view_count": null,
            "_view_module": "@jupyter-widgets/controls",
            "_view_module_version": "1.5.0",
            "_view_name": "ProgressView",
            "bar_style": "success",
            "description": "",
            "description_tooltip": null,
            "layout": "IPY_MODEL_58bc8c8b99914157b916dbec8a9643a0",
            "max": 43,
            "min": 0,
            "orientation": "horizontal",
            "style": "IPY_MODEL_e0c388aba8c94ec89efa32ea4f116b3b",
            "value": 43
          }
        },
        "9b8acd41fec440b1be7073867f6c2e3b": {
          "model_module": "@jupyter-widgets/controls",
          "model_name": "HTMLModel",
          "model_module_version": "1.5.0",
          "state": {
            "_dom_classes": [],
            "_model_module": "@jupyter-widgets/controls",
            "_model_module_version": "1.5.0",
            "_model_name": "HTMLModel",
            "_view_count": null,
            "_view_module": "@jupyter-widgets/controls",
            "_view_module_version": "1.5.0",
            "_view_name": "HTMLView",
            "description": "",
            "description_tooltip": null,
            "layout": "IPY_MODEL_3c3a7910f76b4baea36b6b7804516434",
            "placeholder": "​",
            "style": "IPY_MODEL_fb3365f6c0c642389050576c97393855",
            "value": " 43.0/43.0 [00:00&lt;00:00, 2.68kB/s]"
          }
        },
        "751cedb3ad434a30957281ef2f45cdc6": {
          "model_module": "@jupyter-widgets/base",
          "model_name": "LayoutModel",
          "model_module_version": "1.2.0",
          "state": {
            "_model_module": "@jupyter-widgets/base",
            "_model_module_version": "1.2.0",
            "_model_name": "LayoutModel",
            "_view_count": null,
            "_view_module": "@jupyter-widgets/base",
            "_view_module_version": "1.2.0",
            "_view_name": "LayoutView",
            "align_content": null,
            "align_items": null,
            "align_self": null,
            "border": null,
            "bottom": null,
            "display": null,
            "flex": null,
            "flex_flow": null,
            "grid_area": null,
            "grid_auto_columns": null,
            "grid_auto_flow": null,
            "grid_auto_rows": null,
            "grid_column": null,
            "grid_gap": null,
            "grid_row": null,
            "grid_template_areas": null,
            "grid_template_columns": null,
            "grid_template_rows": null,
            "height": null,
            "justify_content": null,
            "justify_items": null,
            "left": null,
            "margin": null,
            "max_height": null,
            "max_width": null,
            "min_height": null,
            "min_width": null,
            "object_fit": null,
            "object_position": null,
            "order": null,
            "overflow": null,
            "overflow_x": null,
            "overflow_y": null,
            "padding": null,
            "right": null,
            "top": null,
            "visibility": null,
            "width": null
          }
        },
        "45994bb4bb0c40f5ab2e988729ac94da": {
          "model_module": "@jupyter-widgets/base",
          "model_name": "LayoutModel",
          "model_module_version": "1.2.0",
          "state": {
            "_model_module": "@jupyter-widgets/base",
            "_model_module_version": "1.2.0",
            "_model_name": "LayoutModel",
            "_view_count": null,
            "_view_module": "@jupyter-widgets/base",
            "_view_module_version": "1.2.0",
            "_view_name": "LayoutView",
            "align_content": null,
            "align_items": null,
            "align_self": null,
            "border": null,
            "bottom": null,
            "display": null,
            "flex": null,
            "flex_flow": null,
            "grid_area": null,
            "grid_auto_columns": null,
            "grid_auto_flow": null,
            "grid_auto_rows": null,
            "grid_column": null,
            "grid_gap": null,
            "grid_row": null,
            "grid_template_areas": null,
            "grid_template_columns": null,
            "grid_template_rows": null,
            "height": null,
            "justify_content": null,
            "justify_items": null,
            "left": null,
            "margin": null,
            "max_height": null,
            "max_width": null,
            "min_height": null,
            "min_width": null,
            "object_fit": null,
            "object_position": null,
            "order": null,
            "overflow": null,
            "overflow_x": null,
            "overflow_y": null,
            "padding": null,
            "right": null,
            "top": null,
            "visibility": null,
            "width": null
          }
        },
        "b842cbcefaa343d78ae3bd647b387763": {
          "model_module": "@jupyter-widgets/controls",
          "model_name": "DescriptionStyleModel",
          "model_module_version": "1.5.0",
          "state": {
            "_model_module": "@jupyter-widgets/controls",
            "_model_module_version": "1.5.0",
            "_model_name": "DescriptionStyleModel",
            "_view_count": null,
            "_view_module": "@jupyter-widgets/base",
            "_view_module_version": "1.2.0",
            "_view_name": "StyleView",
            "description_width": ""
          }
        },
        "58bc8c8b99914157b916dbec8a9643a0": {
          "model_module": "@jupyter-widgets/base",
          "model_name": "LayoutModel",
          "model_module_version": "1.2.0",
          "state": {
            "_model_module": "@jupyter-widgets/base",
            "_model_module_version": "1.2.0",
            "_model_name": "LayoutModel",
            "_view_count": null,
            "_view_module": "@jupyter-widgets/base",
            "_view_module_version": "1.2.0",
            "_view_name": "LayoutView",
            "align_content": null,
            "align_items": null,
            "align_self": null,
            "border": null,
            "bottom": null,
            "display": null,
            "flex": null,
            "flex_flow": null,
            "grid_area": null,
            "grid_auto_columns": null,
            "grid_auto_flow": null,
            "grid_auto_rows": null,
            "grid_column": null,
            "grid_gap": null,
            "grid_row": null,
            "grid_template_areas": null,
            "grid_template_columns": null,
            "grid_template_rows": null,
            "height": null,
            "justify_content": null,
            "justify_items": null,
            "left": null,
            "margin": null,
            "max_height": null,
            "max_width": null,
            "min_height": null,
            "min_width": null,
            "object_fit": null,
            "object_position": null,
            "order": null,
            "overflow": null,
            "overflow_x": null,
            "overflow_y": null,
            "padding": null,
            "right": null,
            "top": null,
            "visibility": null,
            "width": null
          }
        },
        "e0c388aba8c94ec89efa32ea4f116b3b": {
          "model_module": "@jupyter-widgets/controls",
          "model_name": "ProgressStyleModel",
          "model_module_version": "1.5.0",
          "state": {
            "_model_module": "@jupyter-widgets/controls",
            "_model_module_version": "1.5.0",
            "_model_name": "ProgressStyleModel",
            "_view_count": null,
            "_view_module": "@jupyter-widgets/base",
            "_view_module_version": "1.2.0",
            "_view_name": "StyleView",
            "bar_color": null,
            "description_width": ""
          }
        },
        "3c3a7910f76b4baea36b6b7804516434": {
          "model_module": "@jupyter-widgets/base",
          "model_name": "LayoutModel",
          "model_module_version": "1.2.0",
          "state": {
            "_model_module": "@jupyter-widgets/base",
            "_model_module_version": "1.2.0",
            "_model_name": "LayoutModel",
            "_view_count": null,
            "_view_module": "@jupyter-widgets/base",
            "_view_module_version": "1.2.0",
            "_view_name": "LayoutView",
            "align_content": null,
            "align_items": null,
            "align_self": null,
            "border": null,
            "bottom": null,
            "display": null,
            "flex": null,
            "flex_flow": null,
            "grid_area": null,
            "grid_auto_columns": null,
            "grid_auto_flow": null,
            "grid_auto_rows": null,
            "grid_column": null,
            "grid_gap": null,
            "grid_row": null,
            "grid_template_areas": null,
            "grid_template_columns": null,
            "grid_template_rows": null,
            "height": null,
            "justify_content": null,
            "justify_items": null,
            "left": null,
            "margin": null,
            "max_height": null,
            "max_width": null,
            "min_height": null,
            "min_width": null,
            "object_fit": null,
            "object_position": null,
            "order": null,
            "overflow": null,
            "overflow_x": null,
            "overflow_y": null,
            "padding": null,
            "right": null,
            "top": null,
            "visibility": null,
            "width": null
          }
        },
        "fb3365f6c0c642389050576c97393855": {
          "model_module": "@jupyter-widgets/controls",
          "model_name": "DescriptionStyleModel",
          "model_module_version": "1.5.0",
          "state": {
            "_model_module": "@jupyter-widgets/controls",
            "_model_module_version": "1.5.0",
            "_model_name": "DescriptionStyleModel",
            "_view_count": null,
            "_view_module": "@jupyter-widgets/base",
            "_view_module_version": "1.2.0",
            "_view_name": "StyleView",
            "description_width": ""
          }
        },
        "29889bdda2d243d79740ae8b55bdb87a": {
          "model_module": "@jupyter-widgets/controls",
          "model_name": "HBoxModel",
          "model_module_version": "1.5.0",
          "state": {
            "_dom_classes": [],
            "_model_module": "@jupyter-widgets/controls",
            "_model_module_version": "1.5.0",
            "_model_name": "HBoxModel",
            "_view_count": null,
            "_view_module": "@jupyter-widgets/controls",
            "_view_module_version": "1.5.0",
            "_view_name": "HBoxView",
            "box_style": "",
            "children": [
              "IPY_MODEL_97fdd1daf6f140448884b19305d290ea",
              "IPY_MODEL_70f0cdab6f4d49a8954e8ac38a0d6619",
              "IPY_MODEL_e6205f1532a345929f74aea28170fb17"
            ],
            "layout": "IPY_MODEL_640ad5ca1c514af0ba2e2bf6418594b6"
          }
        },
        "97fdd1daf6f140448884b19305d290ea": {
          "model_module": "@jupyter-widgets/controls",
          "model_name": "HTMLModel",
          "model_module_version": "1.5.0",
          "state": {
            "_dom_classes": [],
            "_model_module": "@jupyter-widgets/controls",
            "_model_module_version": "1.5.0",
            "_model_name": "HTMLModel",
            "_view_count": null,
            "_view_module": "@jupyter-widgets/controls",
            "_view_module_version": "1.5.0",
            "_view_name": "HTMLView",
            "description": "",
            "description_tooltip": null,
            "layout": "IPY_MODEL_78d894d4ff17417394f7106b827024ce",
            "placeholder": "​",
            "style": "IPY_MODEL_838356e555104933822950637b83afb9",
            "value": "spiece.model: 100%"
          }
        },
        "70f0cdab6f4d49a8954e8ac38a0d6619": {
          "model_module": "@jupyter-widgets/controls",
          "model_name": "FloatProgressModel",
          "model_module_version": "1.5.0",
          "state": {
            "_dom_classes": [],
            "_model_module": "@jupyter-widgets/controls",
            "_model_module_version": "1.5.0",
            "_model_name": "FloatProgressModel",
            "_view_count": null,
            "_view_module": "@jupyter-widgets/controls",
            "_view_module_version": "1.5.0",
            "_view_name": "ProgressView",
            "bar_style": "success",
            "description": "",
            "description_tooltip": null,
            "layout": "IPY_MODEL_857ff087e0f44e6e89b4189be718d339",
            "max": 791656,
            "min": 0,
            "orientation": "horizontal",
            "style": "IPY_MODEL_361336ff7e504cfaab5d5af9d1c2e6b7",
            "value": 791656
          }
        },
        "e6205f1532a345929f74aea28170fb17": {
          "model_module": "@jupyter-widgets/controls",
          "model_name": "HTMLModel",
          "model_module_version": "1.5.0",
          "state": {
            "_dom_classes": [],
            "_model_module": "@jupyter-widgets/controls",
            "_model_module_version": "1.5.0",
            "_model_name": "HTMLModel",
            "_view_count": null,
            "_view_module": "@jupyter-widgets/controls",
            "_view_module_version": "1.5.0",
            "_view_name": "HTMLView",
            "description": "",
            "description_tooltip": null,
            "layout": "IPY_MODEL_d8777ab3da5e4dc6ba9b9a78e2d76ba5",
            "placeholder": "​",
            "style": "IPY_MODEL_3511c45d5e2645e5b2eeaa664f7621c6",
            "value": " 792k/792k [00:00&lt;00:00, 3.14MB/s]"
          }
        },
        "640ad5ca1c514af0ba2e2bf6418594b6": {
          "model_module": "@jupyter-widgets/base",
          "model_name": "LayoutModel",
          "model_module_version": "1.2.0",
          "state": {
            "_model_module": "@jupyter-widgets/base",
            "_model_module_version": "1.2.0",
            "_model_name": "LayoutModel",
            "_view_count": null,
            "_view_module": "@jupyter-widgets/base",
            "_view_module_version": "1.2.0",
            "_view_name": "LayoutView",
            "align_content": null,
            "align_items": null,
            "align_self": null,
            "border": null,
            "bottom": null,
            "display": null,
            "flex": null,
            "flex_flow": null,
            "grid_area": null,
            "grid_auto_columns": null,
            "grid_auto_flow": null,
            "grid_auto_rows": null,
            "grid_column": null,
            "grid_gap": null,
            "grid_row": null,
            "grid_template_areas": null,
            "grid_template_columns": null,
            "grid_template_rows": null,
            "height": null,
            "justify_content": null,
            "justify_items": null,
            "left": null,
            "margin": null,
            "max_height": null,
            "max_width": null,
            "min_height": null,
            "min_width": null,
            "object_fit": null,
            "object_position": null,
            "order": null,
            "overflow": null,
            "overflow_x": null,
            "overflow_y": null,
            "padding": null,
            "right": null,
            "top": null,
            "visibility": null,
            "width": null
          }
        },
        "78d894d4ff17417394f7106b827024ce": {
          "model_module": "@jupyter-widgets/base",
          "model_name": "LayoutModel",
          "model_module_version": "1.2.0",
          "state": {
            "_model_module": "@jupyter-widgets/base",
            "_model_module_version": "1.2.0",
            "_model_name": "LayoutModel",
            "_view_count": null,
            "_view_module": "@jupyter-widgets/base",
            "_view_module_version": "1.2.0",
            "_view_name": "LayoutView",
            "align_content": null,
            "align_items": null,
            "align_self": null,
            "border": null,
            "bottom": null,
            "display": null,
            "flex": null,
            "flex_flow": null,
            "grid_area": null,
            "grid_auto_columns": null,
            "grid_auto_flow": null,
            "grid_auto_rows": null,
            "grid_column": null,
            "grid_gap": null,
            "grid_row": null,
            "grid_template_areas": null,
            "grid_template_columns": null,
            "grid_template_rows": null,
            "height": null,
            "justify_content": null,
            "justify_items": null,
            "left": null,
            "margin": null,
            "max_height": null,
            "max_width": null,
            "min_height": null,
            "min_width": null,
            "object_fit": null,
            "object_position": null,
            "order": null,
            "overflow": null,
            "overflow_x": null,
            "overflow_y": null,
            "padding": null,
            "right": null,
            "top": null,
            "visibility": null,
            "width": null
          }
        },
        "838356e555104933822950637b83afb9": {
          "model_module": "@jupyter-widgets/controls",
          "model_name": "DescriptionStyleModel",
          "model_module_version": "1.5.0",
          "state": {
            "_model_module": "@jupyter-widgets/controls",
            "_model_module_version": "1.5.0",
            "_model_name": "DescriptionStyleModel",
            "_view_count": null,
            "_view_module": "@jupyter-widgets/base",
            "_view_module_version": "1.2.0",
            "_view_name": "StyleView",
            "description_width": ""
          }
        },
        "857ff087e0f44e6e89b4189be718d339": {
          "model_module": "@jupyter-widgets/base",
          "model_name": "LayoutModel",
          "model_module_version": "1.2.0",
          "state": {
            "_model_module": "@jupyter-widgets/base",
            "_model_module_version": "1.2.0",
            "_model_name": "LayoutModel",
            "_view_count": null,
            "_view_module": "@jupyter-widgets/base",
            "_view_module_version": "1.2.0",
            "_view_name": "LayoutView",
            "align_content": null,
            "align_items": null,
            "align_self": null,
            "border": null,
            "bottom": null,
            "display": null,
            "flex": null,
            "flex_flow": null,
            "grid_area": null,
            "grid_auto_columns": null,
            "grid_auto_flow": null,
            "grid_auto_rows": null,
            "grid_column": null,
            "grid_gap": null,
            "grid_row": null,
            "grid_template_areas": null,
            "grid_template_columns": null,
            "grid_template_rows": null,
            "height": null,
            "justify_content": null,
            "justify_items": null,
            "left": null,
            "margin": null,
            "max_height": null,
            "max_width": null,
            "min_height": null,
            "min_width": null,
            "object_fit": null,
            "object_position": null,
            "order": null,
            "overflow": null,
            "overflow_x": null,
            "overflow_y": null,
            "padding": null,
            "right": null,
            "top": null,
            "visibility": null,
            "width": null
          }
        },
        "361336ff7e504cfaab5d5af9d1c2e6b7": {
          "model_module": "@jupyter-widgets/controls",
          "model_name": "ProgressStyleModel",
          "model_module_version": "1.5.0",
          "state": {
            "_model_module": "@jupyter-widgets/controls",
            "_model_module_version": "1.5.0",
            "_model_name": "ProgressStyleModel",
            "_view_count": null,
            "_view_module": "@jupyter-widgets/base",
            "_view_module_version": "1.2.0",
            "_view_name": "StyleView",
            "bar_color": null,
            "description_width": ""
          }
        },
        "d8777ab3da5e4dc6ba9b9a78e2d76ba5": {
          "model_module": "@jupyter-widgets/base",
          "model_name": "LayoutModel",
          "model_module_version": "1.2.0",
          "state": {
            "_model_module": "@jupyter-widgets/base",
            "_model_module_version": "1.2.0",
            "_model_name": "LayoutModel",
            "_view_count": null,
            "_view_module": "@jupyter-widgets/base",
            "_view_module_version": "1.2.0",
            "_view_name": "LayoutView",
            "align_content": null,
            "align_items": null,
            "align_self": null,
            "border": null,
            "bottom": null,
            "display": null,
            "flex": null,
            "flex_flow": null,
            "grid_area": null,
            "grid_auto_columns": null,
            "grid_auto_flow": null,
            "grid_auto_rows": null,
            "grid_column": null,
            "grid_gap": null,
            "grid_row": null,
            "grid_template_areas": null,
            "grid_template_columns": null,
            "grid_template_rows": null,
            "height": null,
            "justify_content": null,
            "justify_items": null,
            "left": null,
            "margin": null,
            "max_height": null,
            "max_width": null,
            "min_height": null,
            "min_width": null,
            "object_fit": null,
            "object_position": null,
            "order": null,
            "overflow": null,
            "overflow_x": null,
            "overflow_y": null,
            "padding": null,
            "right": null,
            "top": null,
            "visibility": null,
            "width": null
          }
        },
        "3511c45d5e2645e5b2eeaa664f7621c6": {
          "model_module": "@jupyter-widgets/controls",
          "model_name": "DescriptionStyleModel",
          "model_module_version": "1.5.0",
          "state": {
            "_model_module": "@jupyter-widgets/controls",
            "_model_module_version": "1.5.0",
            "_model_name": "DescriptionStyleModel",
            "_view_count": null,
            "_view_module": "@jupyter-widgets/base",
            "_view_module_version": "1.2.0",
            "_view_name": "StyleView",
            "description_width": ""
          }
        },
        "9e966fe1dc6a440b9aec97b32fcb4415": {
          "model_module": "@jupyter-widgets/controls",
          "model_name": "HBoxModel",
          "model_module_version": "1.5.0",
          "state": {
            "_dom_classes": [],
            "_model_module": "@jupyter-widgets/controls",
            "_model_module_version": "1.5.0",
            "_model_name": "HBoxModel",
            "_view_count": null,
            "_view_module": "@jupyter-widgets/controls",
            "_view_module_version": "1.5.0",
            "_view_name": "HBoxView",
            "box_style": "",
            "children": [
              "IPY_MODEL_acede41ea0ab476890a991562218a9c2",
              "IPY_MODEL_74271b9325894492b82f38fb39bbf700",
              "IPY_MODEL_a9a8cbfe53b543a3ae7e1b15d29d8b95"
            ],
            "layout": "IPY_MODEL_0402b2380f1f46ebbc075c57078de311"
          }
        },
        "acede41ea0ab476890a991562218a9c2": {
          "model_module": "@jupyter-widgets/controls",
          "model_name": "HTMLModel",
          "model_module_version": "1.5.0",
          "state": {
            "_dom_classes": [],
            "_model_module": "@jupyter-widgets/controls",
            "_model_module_version": "1.5.0",
            "_model_name": "HTMLModel",
            "_view_count": null,
            "_view_module": "@jupyter-widgets/controls",
            "_view_module_version": "1.5.0",
            "_view_name": "HTMLView",
            "description": "",
            "description_tooltip": null,
            "layout": "IPY_MODEL_2d11c14c07b1492eac48315176579486",
            "placeholder": "​",
            "style": "IPY_MODEL_2a40fbb8d9a64938b23fe96d17e10fd0",
            "value": "special_tokens_map.json: 100%"
          }
        },
        "74271b9325894492b82f38fb39bbf700": {
          "model_module": "@jupyter-widgets/controls",
          "model_name": "FloatProgressModel",
          "model_module_version": "1.5.0",
          "state": {
            "_dom_classes": [],
            "_model_module": "@jupyter-widgets/controls",
            "_model_module_version": "1.5.0",
            "_model_name": "FloatProgressModel",
            "_view_count": null,
            "_view_module": "@jupyter-widgets/controls",
            "_view_module_version": "1.5.0",
            "_view_name": "ProgressView",
            "bar_style": "success",
            "description": "",
            "description_tooltip": null,
            "layout": "IPY_MODEL_4dbcc9f307fa458b9d3553e87cf61bfd",
            "max": 1786,
            "min": 0,
            "orientation": "horizontal",
            "style": "IPY_MODEL_b54c6084617c4cb7846e8afb89e7b58f",
            "value": 1786
          }
        },
        "a9a8cbfe53b543a3ae7e1b15d29d8b95": {
          "model_module": "@jupyter-widgets/controls",
          "model_name": "HTMLModel",
          "model_module_version": "1.5.0",
          "state": {
            "_dom_classes": [],
            "_model_module": "@jupyter-widgets/controls",
            "_model_module_version": "1.5.0",
            "_model_name": "HTMLModel",
            "_view_count": null,
            "_view_module": "@jupyter-widgets/controls",
            "_view_module_version": "1.5.0",
            "_view_name": "HTMLView",
            "description": "",
            "description_tooltip": null,
            "layout": "IPY_MODEL_87d8ba78bee3426c82623fae951cb6e8",
            "placeholder": "​",
            "style": "IPY_MODEL_826abf20652743428a0cff1ca68e87e5",
            "value": " 1.79k/1.79k [00:00&lt;00:00, 77.8kB/s]"
          }
        },
        "0402b2380f1f46ebbc075c57078de311": {
          "model_module": "@jupyter-widgets/base",
          "model_name": "LayoutModel",
          "model_module_version": "1.2.0",
          "state": {
            "_model_module": "@jupyter-widgets/base",
            "_model_module_version": "1.2.0",
            "_model_name": "LayoutModel",
            "_view_count": null,
            "_view_module": "@jupyter-widgets/base",
            "_view_module_version": "1.2.0",
            "_view_name": "LayoutView",
            "align_content": null,
            "align_items": null,
            "align_self": null,
            "border": null,
            "bottom": null,
            "display": null,
            "flex": null,
            "flex_flow": null,
            "grid_area": null,
            "grid_auto_columns": null,
            "grid_auto_flow": null,
            "grid_auto_rows": null,
            "grid_column": null,
            "grid_gap": null,
            "grid_row": null,
            "grid_template_areas": null,
            "grid_template_columns": null,
            "grid_template_rows": null,
            "height": null,
            "justify_content": null,
            "justify_items": null,
            "left": null,
            "margin": null,
            "max_height": null,
            "max_width": null,
            "min_height": null,
            "min_width": null,
            "object_fit": null,
            "object_position": null,
            "order": null,
            "overflow": null,
            "overflow_x": null,
            "overflow_y": null,
            "padding": null,
            "right": null,
            "top": null,
            "visibility": null,
            "width": null
          }
        },
        "2d11c14c07b1492eac48315176579486": {
          "model_module": "@jupyter-widgets/base",
          "model_name": "LayoutModel",
          "model_module_version": "1.2.0",
          "state": {
            "_model_module": "@jupyter-widgets/base",
            "_model_module_version": "1.2.0",
            "_model_name": "LayoutModel",
            "_view_count": null,
            "_view_module": "@jupyter-widgets/base",
            "_view_module_version": "1.2.0",
            "_view_name": "LayoutView",
            "align_content": null,
            "align_items": null,
            "align_self": null,
            "border": null,
            "bottom": null,
            "display": null,
            "flex": null,
            "flex_flow": null,
            "grid_area": null,
            "grid_auto_columns": null,
            "grid_auto_flow": null,
            "grid_auto_rows": null,
            "grid_column": null,
            "grid_gap": null,
            "grid_row": null,
            "grid_template_areas": null,
            "grid_template_columns": null,
            "grid_template_rows": null,
            "height": null,
            "justify_content": null,
            "justify_items": null,
            "left": null,
            "margin": null,
            "max_height": null,
            "max_width": null,
            "min_height": null,
            "min_width": null,
            "object_fit": null,
            "object_position": null,
            "order": null,
            "overflow": null,
            "overflow_x": null,
            "overflow_y": null,
            "padding": null,
            "right": null,
            "top": null,
            "visibility": null,
            "width": null
          }
        },
        "2a40fbb8d9a64938b23fe96d17e10fd0": {
          "model_module": "@jupyter-widgets/controls",
          "model_name": "DescriptionStyleModel",
          "model_module_version": "1.5.0",
          "state": {
            "_model_module": "@jupyter-widgets/controls",
            "_model_module_version": "1.5.0",
            "_model_name": "DescriptionStyleModel",
            "_view_count": null,
            "_view_module": "@jupyter-widgets/base",
            "_view_module_version": "1.2.0",
            "_view_name": "StyleView",
            "description_width": ""
          }
        },
        "4dbcc9f307fa458b9d3553e87cf61bfd": {
          "model_module": "@jupyter-widgets/base",
          "model_name": "LayoutModel",
          "model_module_version": "1.2.0",
          "state": {
            "_model_module": "@jupyter-widgets/base",
            "_model_module_version": "1.2.0",
            "_model_name": "LayoutModel",
            "_view_count": null,
            "_view_module": "@jupyter-widgets/base",
            "_view_module_version": "1.2.0",
            "_view_name": "LayoutView",
            "align_content": null,
            "align_items": null,
            "align_self": null,
            "border": null,
            "bottom": null,
            "display": null,
            "flex": null,
            "flex_flow": null,
            "grid_area": null,
            "grid_auto_columns": null,
            "grid_auto_flow": null,
            "grid_auto_rows": null,
            "grid_column": null,
            "grid_gap": null,
            "grid_row": null,
            "grid_template_areas": null,
            "grid_template_columns": null,
            "grid_template_rows": null,
            "height": null,
            "justify_content": null,
            "justify_items": null,
            "left": null,
            "margin": null,
            "max_height": null,
            "max_width": null,
            "min_height": null,
            "min_width": null,
            "object_fit": null,
            "object_position": null,
            "order": null,
            "overflow": null,
            "overflow_x": null,
            "overflow_y": null,
            "padding": null,
            "right": null,
            "top": null,
            "visibility": null,
            "width": null
          }
        },
        "b54c6084617c4cb7846e8afb89e7b58f": {
          "model_module": "@jupyter-widgets/controls",
          "model_name": "ProgressStyleModel",
          "model_module_version": "1.5.0",
          "state": {
            "_model_module": "@jupyter-widgets/controls",
            "_model_module_version": "1.5.0",
            "_model_name": "ProgressStyleModel",
            "_view_count": null,
            "_view_module": "@jupyter-widgets/base",
            "_view_module_version": "1.2.0",
            "_view_name": "StyleView",
            "bar_color": null,
            "description_width": ""
          }
        },
        "87d8ba78bee3426c82623fae951cb6e8": {
          "model_module": "@jupyter-widgets/base",
          "model_name": "LayoutModel",
          "model_module_version": "1.2.0",
          "state": {
            "_model_module": "@jupyter-widgets/base",
            "_model_module_version": "1.2.0",
            "_model_name": "LayoutModel",
            "_view_count": null,
            "_view_module": "@jupyter-widgets/base",
            "_view_module_version": "1.2.0",
            "_view_name": "LayoutView",
            "align_content": null,
            "align_items": null,
            "align_self": null,
            "border": null,
            "bottom": null,
            "display": null,
            "flex": null,
            "flex_flow": null,
            "grid_area": null,
            "grid_auto_columns": null,
            "grid_auto_flow": null,
            "grid_auto_rows": null,
            "grid_column": null,
            "grid_gap": null,
            "grid_row": null,
            "grid_template_areas": null,
            "grid_template_columns": null,
            "grid_template_rows": null,
            "height": null,
            "justify_content": null,
            "justify_items": null,
            "left": null,
            "margin": null,
            "max_height": null,
            "max_width": null,
            "min_height": null,
            "min_width": null,
            "object_fit": null,
            "object_position": null,
            "order": null,
            "overflow": null,
            "overflow_x": null,
            "overflow_y": null,
            "padding": null,
            "right": null,
            "top": null,
            "visibility": null,
            "width": null
          }
        },
        "826abf20652743428a0cff1ca68e87e5": {
          "model_module": "@jupyter-widgets/controls",
          "model_name": "DescriptionStyleModel",
          "model_module_version": "1.5.0",
          "state": {
            "_model_module": "@jupyter-widgets/controls",
            "_model_module_version": "1.5.0",
            "_model_name": "DescriptionStyleModel",
            "_view_count": null,
            "_view_module": "@jupyter-widgets/base",
            "_view_module_version": "1.2.0",
            "_view_name": "StyleView",
            "description_width": ""
          }
        },
        "2b35bc55880147e38605be15f17f5bfc": {
          "model_module": "@jupyter-widgets/controls",
          "model_name": "HBoxModel",
          "model_module_version": "1.5.0",
          "state": {
            "_dom_classes": [],
            "_model_module": "@jupyter-widgets/controls",
            "_model_module_version": "1.5.0",
            "_model_name": "HBoxModel",
            "_view_count": null,
            "_view_module": "@jupyter-widgets/controls",
            "_view_module_version": "1.5.0",
            "_view_name": "HBoxView",
            "box_style": "",
            "children": [
              "IPY_MODEL_7ac677cd6ac742fb99ca73b83c9c06d7",
              "IPY_MODEL_5a2a323862244a83bfa636579e773d80",
              "IPY_MODEL_fd7246f6239f48999208c57b77b3bce1"
            ],
            "layout": "IPY_MODEL_fd2a6cdbf5af43a8902b808588f3aa84"
          }
        },
        "7ac677cd6ac742fb99ca73b83c9c06d7": {
          "model_module": "@jupyter-widgets/controls",
          "model_name": "HTMLModel",
          "model_module_version": "1.5.0",
          "state": {
            "_dom_classes": [],
            "_model_module": "@jupyter-widgets/controls",
            "_model_module_version": "1.5.0",
            "_model_name": "HTMLModel",
            "_view_count": null,
            "_view_module": "@jupyter-widgets/controls",
            "_view_module_version": "1.5.0",
            "_view_name": "HTMLView",
            "description": "",
            "description_tooltip": null,
            "layout": "IPY_MODEL_c027f2d67cea41bc82bef06c68379b3a",
            "placeholder": "​",
            "style": "IPY_MODEL_2b8e0adc762a4d4c9194ddb21bef1fee",
            "value": "config.json: 100%"
          }
        },
        "5a2a323862244a83bfa636579e773d80": {
          "model_module": "@jupyter-widgets/controls",
          "model_name": "FloatProgressModel",
          "model_module_version": "1.5.0",
          "state": {
            "_dom_classes": [],
            "_model_module": "@jupyter-widgets/controls",
            "_model_module_version": "1.5.0",
            "_model_name": "FloatProgressModel",
            "_view_count": null,
            "_view_module": "@jupyter-widgets/controls",
            "_view_module_version": "1.5.0",
            "_view_name": "ProgressView",
            "bar_style": "success",
            "description": "",
            "description_tooltip": null,
            "layout": "IPY_MODEL_f22e7df82efe4941b6b119e2590c9fd9",
            "max": 1236,
            "min": 0,
            "orientation": "horizontal",
            "style": "IPY_MODEL_abef88a754224b3f98aa3ae4324905f4",
            "value": 1236
          }
        },
        "fd7246f6239f48999208c57b77b3bce1": {
          "model_module": "@jupyter-widgets/controls",
          "model_name": "HTMLModel",
          "model_module_version": "1.5.0",
          "state": {
            "_dom_classes": [],
            "_model_module": "@jupyter-widgets/controls",
            "_model_module_version": "1.5.0",
            "_model_name": "HTMLModel",
            "_view_count": null,
            "_view_module": "@jupyter-widgets/controls",
            "_view_module_version": "1.5.0",
            "_view_name": "HTMLView",
            "description": "",
            "description_tooltip": null,
            "layout": "IPY_MODEL_809e3fc07bf24360a3f96bdc9f2de128",
            "placeholder": "​",
            "style": "IPY_MODEL_c93b18374fbb4911b3a1a1cda8aba5d9",
            "value": " 1.24k/1.24k [00:00&lt;00:00, 52.4kB/s]"
          }
        },
        "fd2a6cdbf5af43a8902b808588f3aa84": {
          "model_module": "@jupyter-widgets/base",
          "model_name": "LayoutModel",
          "model_module_version": "1.2.0",
          "state": {
            "_model_module": "@jupyter-widgets/base",
            "_model_module_version": "1.2.0",
            "_model_name": "LayoutModel",
            "_view_count": null,
            "_view_module": "@jupyter-widgets/base",
            "_view_module_version": "1.2.0",
            "_view_name": "LayoutView",
            "align_content": null,
            "align_items": null,
            "align_self": null,
            "border": null,
            "bottom": null,
            "display": null,
            "flex": null,
            "flex_flow": null,
            "grid_area": null,
            "grid_auto_columns": null,
            "grid_auto_flow": null,
            "grid_auto_rows": null,
            "grid_column": null,
            "grid_gap": null,
            "grid_row": null,
            "grid_template_areas": null,
            "grid_template_columns": null,
            "grid_template_rows": null,
            "height": null,
            "justify_content": null,
            "justify_items": null,
            "left": null,
            "margin": null,
            "max_height": null,
            "max_width": null,
            "min_height": null,
            "min_width": null,
            "object_fit": null,
            "object_position": null,
            "order": null,
            "overflow": null,
            "overflow_x": null,
            "overflow_y": null,
            "padding": null,
            "right": null,
            "top": null,
            "visibility": null,
            "width": null
          }
        },
        "c027f2d67cea41bc82bef06c68379b3a": {
          "model_module": "@jupyter-widgets/base",
          "model_name": "LayoutModel",
          "model_module_version": "1.2.0",
          "state": {
            "_model_module": "@jupyter-widgets/base",
            "_model_module_version": "1.2.0",
            "_model_name": "LayoutModel",
            "_view_count": null,
            "_view_module": "@jupyter-widgets/base",
            "_view_module_version": "1.2.0",
            "_view_name": "LayoutView",
            "align_content": null,
            "align_items": null,
            "align_self": null,
            "border": null,
            "bottom": null,
            "display": null,
            "flex": null,
            "flex_flow": null,
            "grid_area": null,
            "grid_auto_columns": null,
            "grid_auto_flow": null,
            "grid_auto_rows": null,
            "grid_column": null,
            "grid_gap": null,
            "grid_row": null,
            "grid_template_areas": null,
            "grid_template_columns": null,
            "grid_template_rows": null,
            "height": null,
            "justify_content": null,
            "justify_items": null,
            "left": null,
            "margin": null,
            "max_height": null,
            "max_width": null,
            "min_height": null,
            "min_width": null,
            "object_fit": null,
            "object_position": null,
            "order": null,
            "overflow": null,
            "overflow_x": null,
            "overflow_y": null,
            "padding": null,
            "right": null,
            "top": null,
            "visibility": null,
            "width": null
          }
        },
        "2b8e0adc762a4d4c9194ddb21bef1fee": {
          "model_module": "@jupyter-widgets/controls",
          "model_name": "DescriptionStyleModel",
          "model_module_version": "1.5.0",
          "state": {
            "_model_module": "@jupyter-widgets/controls",
            "_model_module_version": "1.5.0",
            "_model_name": "DescriptionStyleModel",
            "_view_count": null,
            "_view_module": "@jupyter-widgets/base",
            "_view_module_version": "1.2.0",
            "_view_name": "StyleView",
            "description_width": ""
          }
        },
        "f22e7df82efe4941b6b119e2590c9fd9": {
          "model_module": "@jupyter-widgets/base",
          "model_name": "LayoutModel",
          "model_module_version": "1.2.0",
          "state": {
            "_model_module": "@jupyter-widgets/base",
            "_model_module_version": "1.2.0",
            "_model_name": "LayoutModel",
            "_view_count": null,
            "_view_module": "@jupyter-widgets/base",
            "_view_module_version": "1.2.0",
            "_view_name": "LayoutView",
            "align_content": null,
            "align_items": null,
            "align_self": null,
            "border": null,
            "bottom": null,
            "display": null,
            "flex": null,
            "flex_flow": null,
            "grid_area": null,
            "grid_auto_columns": null,
            "grid_auto_flow": null,
            "grid_auto_rows": null,
            "grid_column": null,
            "grid_gap": null,
            "grid_row": null,
            "grid_template_areas": null,
            "grid_template_columns": null,
            "grid_template_rows": null,
            "height": null,
            "justify_content": null,
            "justify_items": null,
            "left": null,
            "margin": null,
            "max_height": null,
            "max_width": null,
            "min_height": null,
            "min_width": null,
            "object_fit": null,
            "object_position": null,
            "order": null,
            "overflow": null,
            "overflow_x": null,
            "overflow_y": null,
            "padding": null,
            "right": null,
            "top": null,
            "visibility": null,
            "width": null
          }
        },
        "abef88a754224b3f98aa3ae4324905f4": {
          "model_module": "@jupyter-widgets/controls",
          "model_name": "ProgressStyleModel",
          "model_module_version": "1.5.0",
          "state": {
            "_model_module": "@jupyter-widgets/controls",
            "_model_module_version": "1.5.0",
            "_model_name": "ProgressStyleModel",
            "_view_count": null,
            "_view_module": "@jupyter-widgets/base",
            "_view_module_version": "1.2.0",
            "_view_name": "StyleView",
            "bar_color": null,
            "description_width": ""
          }
        },
        "809e3fc07bf24360a3f96bdc9f2de128": {
          "model_module": "@jupyter-widgets/base",
          "model_name": "LayoutModel",
          "model_module_version": "1.2.0",
          "state": {
            "_model_module": "@jupyter-widgets/base",
            "_model_module_version": "1.2.0",
            "_model_name": "LayoutModel",
            "_view_count": null,
            "_view_module": "@jupyter-widgets/base",
            "_view_module_version": "1.2.0",
            "_view_name": "LayoutView",
            "align_content": null,
            "align_items": null,
            "align_self": null,
            "border": null,
            "bottom": null,
            "display": null,
            "flex": null,
            "flex_flow": null,
            "grid_area": null,
            "grid_auto_columns": null,
            "grid_auto_flow": null,
            "grid_auto_rows": null,
            "grid_column": null,
            "grid_gap": null,
            "grid_row": null,
            "grid_template_areas": null,
            "grid_template_columns": null,
            "grid_template_rows": null,
            "height": null,
            "justify_content": null,
            "justify_items": null,
            "left": null,
            "margin": null,
            "max_height": null,
            "max_width": null,
            "min_height": null,
            "min_width": null,
            "object_fit": null,
            "object_position": null,
            "order": null,
            "overflow": null,
            "overflow_x": null,
            "overflow_y": null,
            "padding": null,
            "right": null,
            "top": null,
            "visibility": null,
            "width": null
          }
        },
        "c93b18374fbb4911b3a1a1cda8aba5d9": {
          "model_module": "@jupyter-widgets/controls",
          "model_name": "DescriptionStyleModel",
          "model_module_version": "1.5.0",
          "state": {
            "_model_module": "@jupyter-widgets/controls",
            "_model_module_version": "1.5.0",
            "_model_name": "DescriptionStyleModel",
            "_view_count": null,
            "_view_module": "@jupyter-widgets/base",
            "_view_module_version": "1.2.0",
            "_view_name": "StyleView",
            "description_width": ""
          }
        },
        "ced93732e6ec4b0abef9b0057a5d137a": {
          "model_module": "@jupyter-widgets/controls",
          "model_name": "HBoxModel",
          "model_module_version": "1.5.0",
          "state": {
            "_dom_classes": [],
            "_model_module": "@jupyter-widgets/controls",
            "_model_module_version": "1.5.0",
            "_model_name": "HBoxModel",
            "_view_count": null,
            "_view_module": "@jupyter-widgets/controls",
            "_view_module_version": "1.5.0",
            "_view_name": "HBoxView",
            "box_style": "",
            "children": [
              "IPY_MODEL_7c42f44a549b4ed5b2b5da1ad6e0916c",
              "IPY_MODEL_af76a30efe1141779ac9981db2e5ca4a",
              "IPY_MODEL_777c2136f08e43f8a0e8c5176816b74b"
            ],
            "layout": "IPY_MODEL_d527850657344966a7301971d62878e9"
          }
        },
        "7c42f44a549b4ed5b2b5da1ad6e0916c": {
          "model_module": "@jupyter-widgets/controls",
          "model_name": "HTMLModel",
          "model_module_version": "1.5.0",
          "state": {
            "_dom_classes": [],
            "_model_module": "@jupyter-widgets/controls",
            "_model_module_version": "1.5.0",
            "_model_name": "HTMLModel",
            "_view_count": null,
            "_view_module": "@jupyter-widgets/controls",
            "_view_module_version": "1.5.0",
            "_view_name": "HTMLView",
            "description": "",
            "description_tooltip": null,
            "layout": "IPY_MODEL_7e00e9524924489f9bd045be7e29eddf",
            "placeholder": "​",
            "style": "IPY_MODEL_9f14104b5fd84435bee51bfd440465f9",
            "value": "pytorch_model.bin: 100%"
          }
        },
        "af76a30efe1141779ac9981db2e5ca4a": {
          "model_module": "@jupyter-widgets/controls",
          "model_name": "FloatProgressModel",
          "model_module_version": "1.5.0",
          "state": {
            "_dom_classes": [],
            "_model_module": "@jupyter-widgets/controls",
            "_model_module_version": "1.5.0",
            "_model_name": "FloatProgressModel",
            "_view_count": null,
            "_view_module": "@jupyter-widgets/controls",
            "_view_module_version": "1.5.0",
            "_view_name": "ProgressView",
            "bar_style": "success",
            "description": "",
            "description_tooltip": null,
            "layout": "IPY_MODEL_a8414e33e2e34d4ca8d393eb2be97fc8",
            "max": 891695056,
            "min": 0,
            "orientation": "horizontal",
            "style": "IPY_MODEL_f9cde68b615a409e990bb097d3533fbc",
            "value": 891695056
          }
        },
        "777c2136f08e43f8a0e8c5176816b74b": {
          "model_module": "@jupyter-widgets/controls",
          "model_name": "HTMLModel",
          "model_module_version": "1.5.0",
          "state": {
            "_dom_classes": [],
            "_model_module": "@jupyter-widgets/controls",
            "_model_module_version": "1.5.0",
            "_model_name": "HTMLModel",
            "_view_count": null,
            "_view_module": "@jupyter-widgets/controls",
            "_view_module_version": "1.5.0",
            "_view_name": "HTMLView",
            "description": "",
            "description_tooltip": null,
            "layout": "IPY_MODEL_85705ff95cd84fd19bbdee23dc7eaa5d",
            "placeholder": "​",
            "style": "IPY_MODEL_2bfd64daf2874edd9c6a45b6bbf07e1e",
            "value": " 892M/892M [00:29&lt;00:00, 13.1MB/s]"
          }
        },
        "d527850657344966a7301971d62878e9": {
          "model_module": "@jupyter-widgets/base",
          "model_name": "LayoutModel",
          "model_module_version": "1.2.0",
          "state": {
            "_model_module": "@jupyter-widgets/base",
            "_model_module_version": "1.2.0",
            "_model_name": "LayoutModel",
            "_view_count": null,
            "_view_module": "@jupyter-widgets/base",
            "_view_module_version": "1.2.0",
            "_view_name": "LayoutView",
            "align_content": null,
            "align_items": null,
            "align_self": null,
            "border": null,
            "bottom": null,
            "display": null,
            "flex": null,
            "flex_flow": null,
            "grid_area": null,
            "grid_auto_columns": null,
            "grid_auto_flow": null,
            "grid_auto_rows": null,
            "grid_column": null,
            "grid_gap": null,
            "grid_row": null,
            "grid_template_areas": null,
            "grid_template_columns": null,
            "grid_template_rows": null,
            "height": null,
            "justify_content": null,
            "justify_items": null,
            "left": null,
            "margin": null,
            "max_height": null,
            "max_width": null,
            "min_height": null,
            "min_width": null,
            "object_fit": null,
            "object_position": null,
            "order": null,
            "overflow": null,
            "overflow_x": null,
            "overflow_y": null,
            "padding": null,
            "right": null,
            "top": null,
            "visibility": null,
            "width": null
          }
        },
        "7e00e9524924489f9bd045be7e29eddf": {
          "model_module": "@jupyter-widgets/base",
          "model_name": "LayoutModel",
          "model_module_version": "1.2.0",
          "state": {
            "_model_module": "@jupyter-widgets/base",
            "_model_module_version": "1.2.0",
            "_model_name": "LayoutModel",
            "_view_count": null,
            "_view_module": "@jupyter-widgets/base",
            "_view_module_version": "1.2.0",
            "_view_name": "LayoutView",
            "align_content": null,
            "align_items": null,
            "align_self": null,
            "border": null,
            "bottom": null,
            "display": null,
            "flex": null,
            "flex_flow": null,
            "grid_area": null,
            "grid_auto_columns": null,
            "grid_auto_flow": null,
            "grid_auto_rows": null,
            "grid_column": null,
            "grid_gap": null,
            "grid_row": null,
            "grid_template_areas": null,
            "grid_template_columns": null,
            "grid_template_rows": null,
            "height": null,
            "justify_content": null,
            "justify_items": null,
            "left": null,
            "margin": null,
            "max_height": null,
            "max_width": null,
            "min_height": null,
            "min_width": null,
            "object_fit": null,
            "object_position": null,
            "order": null,
            "overflow": null,
            "overflow_x": null,
            "overflow_y": null,
            "padding": null,
            "right": null,
            "top": null,
            "visibility": null,
            "width": null
          }
        },
        "9f14104b5fd84435bee51bfd440465f9": {
          "model_module": "@jupyter-widgets/controls",
          "model_name": "DescriptionStyleModel",
          "model_module_version": "1.5.0",
          "state": {
            "_model_module": "@jupyter-widgets/controls",
            "_model_module_version": "1.5.0",
            "_model_name": "DescriptionStyleModel",
            "_view_count": null,
            "_view_module": "@jupyter-widgets/base",
            "_view_module_version": "1.2.0",
            "_view_name": "StyleView",
            "description_width": ""
          }
        },
        "a8414e33e2e34d4ca8d393eb2be97fc8": {
          "model_module": "@jupyter-widgets/base",
          "model_name": "LayoutModel",
          "model_module_version": "1.2.0",
          "state": {
            "_model_module": "@jupyter-widgets/base",
            "_model_module_version": "1.2.0",
            "_model_name": "LayoutModel",
            "_view_count": null,
            "_view_module": "@jupyter-widgets/base",
            "_view_module_version": "1.2.0",
            "_view_name": "LayoutView",
            "align_content": null,
            "align_items": null,
            "align_self": null,
            "border": null,
            "bottom": null,
            "display": null,
            "flex": null,
            "flex_flow": null,
            "grid_area": null,
            "grid_auto_columns": null,
            "grid_auto_flow": null,
            "grid_auto_rows": null,
            "grid_column": null,
            "grid_gap": null,
            "grid_row": null,
            "grid_template_areas": null,
            "grid_template_columns": null,
            "grid_template_rows": null,
            "height": null,
            "justify_content": null,
            "justify_items": null,
            "left": null,
            "margin": null,
            "max_height": null,
            "max_width": null,
            "min_height": null,
            "min_width": null,
            "object_fit": null,
            "object_position": null,
            "order": null,
            "overflow": null,
            "overflow_x": null,
            "overflow_y": null,
            "padding": null,
            "right": null,
            "top": null,
            "visibility": null,
            "width": null
          }
        },
        "f9cde68b615a409e990bb097d3533fbc": {
          "model_module": "@jupyter-widgets/controls",
          "model_name": "ProgressStyleModel",
          "model_module_version": "1.5.0",
          "state": {
            "_model_module": "@jupyter-widgets/controls",
            "_model_module_version": "1.5.0",
            "_model_name": "ProgressStyleModel",
            "_view_count": null,
            "_view_module": "@jupyter-widgets/base",
            "_view_module_version": "1.2.0",
            "_view_name": "StyleView",
            "bar_color": null,
            "description_width": ""
          }
        },
        "85705ff95cd84fd19bbdee23dc7eaa5d": {
          "model_module": "@jupyter-widgets/base",
          "model_name": "LayoutModel",
          "model_module_version": "1.2.0",
          "state": {
            "_model_module": "@jupyter-widgets/base",
            "_model_module_version": "1.2.0",
            "_model_name": "LayoutModel",
            "_view_count": null,
            "_view_module": "@jupyter-widgets/base",
            "_view_module_version": "1.2.0",
            "_view_name": "LayoutView",
            "align_content": null,
            "align_items": null,
            "align_self": null,
            "border": null,
            "bottom": null,
            "display": null,
            "flex": null,
            "flex_flow": null,
            "grid_area": null,
            "grid_auto_columns": null,
            "grid_auto_flow": null,
            "grid_auto_rows": null,
            "grid_column": null,
            "grid_gap": null,
            "grid_row": null,
            "grid_template_areas": null,
            "grid_template_columns": null,
            "grid_template_rows": null,
            "height": null,
            "justify_content": null,
            "justify_items": null,
            "left": null,
            "margin": null,
            "max_height": null,
            "max_width": null,
            "min_height": null,
            "min_width": null,
            "object_fit": null,
            "object_position": null,
            "order": null,
            "overflow": null,
            "overflow_x": null,
            "overflow_y": null,
            "padding": null,
            "right": null,
            "top": null,
            "visibility": null,
            "width": null
          }
        },
        "2bfd64daf2874edd9c6a45b6bbf07e1e": {
          "model_module": "@jupyter-widgets/controls",
          "model_name": "DescriptionStyleModel",
          "model_module_version": "1.5.0",
          "state": {
            "_model_module": "@jupyter-widgets/controls",
            "_model_module_version": "1.5.0",
            "_model_name": "DescriptionStyleModel",
            "_view_count": null,
            "_view_module": "@jupyter-widgets/base",
            "_view_module_version": "1.2.0",
            "_view_name": "StyleView",
            "description_width": ""
          }
        },
        "acef5fd560c4473a853436d20a4aa30b": {
          "model_module": "@jupyter-widgets/controls",
          "model_name": "HBoxModel",
          "model_module_version": "1.5.0",
          "state": {
            "_dom_classes": [],
            "_model_module": "@jupyter-widgets/controls",
            "_model_module_version": "1.5.0",
            "_model_name": "HBoxModel",
            "_view_count": null,
            "_view_module": "@jupyter-widgets/controls",
            "_view_module_version": "1.5.0",
            "_view_name": "HBoxView",
            "box_style": "",
            "children": [
              "IPY_MODEL_0c4499faf4d145b88947b10b53d60afe",
              "IPY_MODEL_aecde5e6e4704ba09af335021fc5050c",
              "IPY_MODEL_6a25f47b5fec4508aca4b50d5e55a44f"
            ],
            "layout": "IPY_MODEL_df09eec7721349d7b90e6d2dcc4c22db"
          }
        },
        "0c4499faf4d145b88947b10b53d60afe": {
          "model_module": "@jupyter-widgets/controls",
          "model_name": "HTMLModel",
          "model_module_version": "1.5.0",
          "state": {
            "_dom_classes": [],
            "_model_module": "@jupyter-widgets/controls",
            "_model_module_version": "1.5.0",
            "_model_name": "HTMLModel",
            "_view_count": null,
            "_view_module": "@jupyter-widgets/controls",
            "_view_module_version": "1.5.0",
            "_view_name": "HTMLView",
            "description": "",
            "description_tooltip": null,
            "layout": "IPY_MODEL_3d4dd34d3b4843738b9d8ef2b40f0906",
            "placeholder": "​",
            "style": "IPY_MODEL_474cca65d03248f5bf7a48dc23f90c05",
            "value": "Map: 100%"
          }
        },
        "aecde5e6e4704ba09af335021fc5050c": {
          "model_module": "@jupyter-widgets/controls",
          "model_name": "FloatProgressModel",
          "model_module_version": "1.5.0",
          "state": {
            "_dom_classes": [],
            "_model_module": "@jupyter-widgets/controls",
            "_model_module_version": "1.5.0",
            "_model_name": "FloatProgressModel",
            "_view_count": null,
            "_view_module": "@jupyter-widgets/controls",
            "_view_module_version": "1.5.0",
            "_view_name": "ProgressView",
            "bar_style": "success",
            "description": "",
            "description_tooltip": null,
            "layout": "IPY_MODEL_5d9bf78b93334db89d9126632cc2e7ac",
            "max": 3000,
            "min": 0,
            "orientation": "horizontal",
            "style": "IPY_MODEL_99e63185542f4f04aeac3fcc95be6954",
            "value": 3000
          }
        },
        "6a25f47b5fec4508aca4b50d5e55a44f": {
          "model_module": "@jupyter-widgets/controls",
          "model_name": "HTMLModel",
          "model_module_version": "1.5.0",
          "state": {
            "_dom_classes": [],
            "_model_module": "@jupyter-widgets/controls",
            "_model_module_version": "1.5.0",
            "_model_name": "HTMLModel",
            "_view_count": null,
            "_view_module": "@jupyter-widgets/controls",
            "_view_module_version": "1.5.0",
            "_view_name": "HTMLView",
            "description": "",
            "description_tooltip": null,
            "layout": "IPY_MODEL_c78500696f6b411f86ef6a190ac0d633",
            "placeholder": "​",
            "style": "IPY_MODEL_80a3338372c44a2b88b2d27e8f80d21a",
            "value": " 3000/3000 [00:05&lt;00:00, 639.95 examples/s]"
          }
        },
        "df09eec7721349d7b90e6d2dcc4c22db": {
          "model_module": "@jupyter-widgets/base",
          "model_name": "LayoutModel",
          "model_module_version": "1.2.0",
          "state": {
            "_model_module": "@jupyter-widgets/base",
            "_model_module_version": "1.2.0",
            "_model_name": "LayoutModel",
            "_view_count": null,
            "_view_module": "@jupyter-widgets/base",
            "_view_module_version": "1.2.0",
            "_view_name": "LayoutView",
            "align_content": null,
            "align_items": null,
            "align_self": null,
            "border": null,
            "bottom": null,
            "display": null,
            "flex": null,
            "flex_flow": null,
            "grid_area": null,
            "grid_auto_columns": null,
            "grid_auto_flow": null,
            "grid_auto_rows": null,
            "grid_column": null,
            "grid_gap": null,
            "grid_row": null,
            "grid_template_areas": null,
            "grid_template_columns": null,
            "grid_template_rows": null,
            "height": null,
            "justify_content": null,
            "justify_items": null,
            "left": null,
            "margin": null,
            "max_height": null,
            "max_width": null,
            "min_height": null,
            "min_width": null,
            "object_fit": null,
            "object_position": null,
            "order": null,
            "overflow": null,
            "overflow_x": null,
            "overflow_y": null,
            "padding": null,
            "right": null,
            "top": null,
            "visibility": null,
            "width": null
          }
        },
        "3d4dd34d3b4843738b9d8ef2b40f0906": {
          "model_module": "@jupyter-widgets/base",
          "model_name": "LayoutModel",
          "model_module_version": "1.2.0",
          "state": {
            "_model_module": "@jupyter-widgets/base",
            "_model_module_version": "1.2.0",
            "_model_name": "LayoutModel",
            "_view_count": null,
            "_view_module": "@jupyter-widgets/base",
            "_view_module_version": "1.2.0",
            "_view_name": "LayoutView",
            "align_content": null,
            "align_items": null,
            "align_self": null,
            "border": null,
            "bottom": null,
            "display": null,
            "flex": null,
            "flex_flow": null,
            "grid_area": null,
            "grid_auto_columns": null,
            "grid_auto_flow": null,
            "grid_auto_rows": null,
            "grid_column": null,
            "grid_gap": null,
            "grid_row": null,
            "grid_template_areas": null,
            "grid_template_columns": null,
            "grid_template_rows": null,
            "height": null,
            "justify_content": null,
            "justify_items": null,
            "left": null,
            "margin": null,
            "max_height": null,
            "max_width": null,
            "min_height": null,
            "min_width": null,
            "object_fit": null,
            "object_position": null,
            "order": null,
            "overflow": null,
            "overflow_x": null,
            "overflow_y": null,
            "padding": null,
            "right": null,
            "top": null,
            "visibility": null,
            "width": null
          }
        },
        "474cca65d03248f5bf7a48dc23f90c05": {
          "model_module": "@jupyter-widgets/controls",
          "model_name": "DescriptionStyleModel",
          "model_module_version": "1.5.0",
          "state": {
            "_model_module": "@jupyter-widgets/controls",
            "_model_module_version": "1.5.0",
            "_model_name": "DescriptionStyleModel",
            "_view_count": null,
            "_view_module": "@jupyter-widgets/base",
            "_view_module_version": "1.2.0",
            "_view_name": "StyleView",
            "description_width": ""
          }
        },
        "5d9bf78b93334db89d9126632cc2e7ac": {
          "model_module": "@jupyter-widgets/base",
          "model_name": "LayoutModel",
          "model_module_version": "1.2.0",
          "state": {
            "_model_module": "@jupyter-widgets/base",
            "_model_module_version": "1.2.0",
            "_model_name": "LayoutModel",
            "_view_count": null,
            "_view_module": "@jupyter-widgets/base",
            "_view_module_version": "1.2.0",
            "_view_name": "LayoutView",
            "align_content": null,
            "align_items": null,
            "align_self": null,
            "border": null,
            "bottom": null,
            "display": null,
            "flex": null,
            "flex_flow": null,
            "grid_area": null,
            "grid_auto_columns": null,
            "grid_auto_flow": null,
            "grid_auto_rows": null,
            "grid_column": null,
            "grid_gap": null,
            "grid_row": null,
            "grid_template_areas": null,
            "grid_template_columns": null,
            "grid_template_rows": null,
            "height": null,
            "justify_content": null,
            "justify_items": null,
            "left": null,
            "margin": null,
            "max_height": null,
            "max_width": null,
            "min_height": null,
            "min_width": null,
            "object_fit": null,
            "object_position": null,
            "order": null,
            "overflow": null,
            "overflow_x": null,
            "overflow_y": null,
            "padding": null,
            "right": null,
            "top": null,
            "visibility": null,
            "width": null
          }
        },
        "99e63185542f4f04aeac3fcc95be6954": {
          "model_module": "@jupyter-widgets/controls",
          "model_name": "ProgressStyleModel",
          "model_module_version": "1.5.0",
          "state": {
            "_model_module": "@jupyter-widgets/controls",
            "_model_module_version": "1.5.0",
            "_model_name": "ProgressStyleModel",
            "_view_count": null,
            "_view_module": "@jupyter-widgets/base",
            "_view_module_version": "1.2.0",
            "_view_name": "StyleView",
            "bar_color": null,
            "description_width": ""
          }
        },
        "c78500696f6b411f86ef6a190ac0d633": {
          "model_module": "@jupyter-widgets/base",
          "model_name": "LayoutModel",
          "model_module_version": "1.2.0",
          "state": {
            "_model_module": "@jupyter-widgets/base",
            "_model_module_version": "1.2.0",
            "_model_name": "LayoutModel",
            "_view_count": null,
            "_view_module": "@jupyter-widgets/base",
            "_view_module_version": "1.2.0",
            "_view_name": "LayoutView",
            "align_content": null,
            "align_items": null,
            "align_self": null,
            "border": null,
            "bottom": null,
            "display": null,
            "flex": null,
            "flex_flow": null,
            "grid_area": null,
            "grid_auto_columns": null,
            "grid_auto_flow": null,
            "grid_auto_rows": null,
            "grid_column": null,
            "grid_gap": null,
            "grid_row": null,
            "grid_template_areas": null,
            "grid_template_columns": null,
            "grid_template_rows": null,
            "height": null,
            "justify_content": null,
            "justify_items": null,
            "left": null,
            "margin": null,
            "max_height": null,
            "max_width": null,
            "min_height": null,
            "min_width": null,
            "object_fit": null,
            "object_position": null,
            "order": null,
            "overflow": null,
            "overflow_x": null,
            "overflow_y": null,
            "padding": null,
            "right": null,
            "top": null,
            "visibility": null,
            "width": null
          }
        },
        "80a3338372c44a2b88b2d27e8f80d21a": {
          "model_module": "@jupyter-widgets/controls",
          "model_name": "DescriptionStyleModel",
          "model_module_version": "1.5.0",
          "state": {
            "_model_module": "@jupyter-widgets/controls",
            "_model_module_version": "1.5.0",
            "_model_name": "DescriptionStyleModel",
            "_view_count": null,
            "_view_module": "@jupyter-widgets/base",
            "_view_module_version": "1.2.0",
            "_view_name": "StyleView",
            "description_width": ""
          }
        },
        "3d8999ee6a0c4558886ce36c2f50ad67": {
          "model_module": "@jupyter-widgets/controls",
          "model_name": "HBoxModel",
          "model_module_version": "1.5.0",
          "state": {
            "_dom_classes": [],
            "_model_module": "@jupyter-widgets/controls",
            "_model_module_version": "1.5.0",
            "_model_name": "HBoxModel",
            "_view_count": null,
            "_view_module": "@jupyter-widgets/controls",
            "_view_module_version": "1.5.0",
            "_view_name": "HBoxView",
            "box_style": "",
            "children": [
              "IPY_MODEL_81e6b4a2dd4a4f71882d14f287434478",
              "IPY_MODEL_304ecd250fac44c8878c931504c8bb2d",
              "IPY_MODEL_833038c99a974679b2c1d3069cb46158"
            ],
            "layout": "IPY_MODEL_f0ee255fcbd54282965c1c9f145a93b0"
          }
        },
        "81e6b4a2dd4a4f71882d14f287434478": {
          "model_module": "@jupyter-widgets/controls",
          "model_name": "HTMLModel",
          "model_module_version": "1.5.0",
          "state": {
            "_dom_classes": [],
            "_model_module": "@jupyter-widgets/controls",
            "_model_module_version": "1.5.0",
            "_model_name": "HTMLModel",
            "_view_count": null,
            "_view_module": "@jupyter-widgets/controls",
            "_view_module_version": "1.5.0",
            "_view_name": "HTMLView",
            "description": "",
            "description_tooltip": null,
            "layout": "IPY_MODEL_2d6c47a57e724153a7e42debc4371790",
            "placeholder": "​",
            "style": "IPY_MODEL_be86c7f8b15d492e8be7ac5e201ad8c0",
            "value": "Map: 100%"
          }
        },
        "304ecd250fac44c8878c931504c8bb2d": {
          "model_module": "@jupyter-widgets/controls",
          "model_name": "FloatProgressModel",
          "model_module_version": "1.5.0",
          "state": {
            "_dom_classes": [],
            "_model_module": "@jupyter-widgets/controls",
            "_model_module_version": "1.5.0",
            "_model_name": "FloatProgressModel",
            "_view_count": null,
            "_view_module": "@jupyter-widgets/controls",
            "_view_module_version": "1.5.0",
            "_view_name": "ProgressView",
            "bar_style": "success",
            "description": "",
            "description_tooltip": null,
            "layout": "IPY_MODEL_a835126490154a3cb74bb6d6561f5b42",
            "max": 1000,
            "min": 0,
            "orientation": "horizontal",
            "style": "IPY_MODEL_88e2f8e347f740bda01b7e16cb17da92",
            "value": 1000
          }
        },
        "833038c99a974679b2c1d3069cb46158": {
          "model_module": "@jupyter-widgets/controls",
          "model_name": "HTMLModel",
          "model_module_version": "1.5.0",
          "state": {
            "_dom_classes": [],
            "_model_module": "@jupyter-widgets/controls",
            "_model_module_version": "1.5.0",
            "_model_name": "HTMLModel",
            "_view_count": null,
            "_view_module": "@jupyter-widgets/controls",
            "_view_module_version": "1.5.0",
            "_view_name": "HTMLView",
            "description": "",
            "description_tooltip": null,
            "layout": "IPY_MODEL_f568478886c04be999fd70cba8f703bb",
            "placeholder": "​",
            "style": "IPY_MODEL_a4cc11dd245741598ad0d9b1fc03a071",
            "value": " 1000/1000 [00:01&lt;00:00, 681.52 examples/s]"
          }
        },
        "f0ee255fcbd54282965c1c9f145a93b0": {
          "model_module": "@jupyter-widgets/base",
          "model_name": "LayoutModel",
          "model_module_version": "1.2.0",
          "state": {
            "_model_module": "@jupyter-widgets/base",
            "_model_module_version": "1.2.0",
            "_model_name": "LayoutModel",
            "_view_count": null,
            "_view_module": "@jupyter-widgets/base",
            "_view_module_version": "1.2.0",
            "_view_name": "LayoutView",
            "align_content": null,
            "align_items": null,
            "align_self": null,
            "border": null,
            "bottom": null,
            "display": null,
            "flex": null,
            "flex_flow": null,
            "grid_area": null,
            "grid_auto_columns": null,
            "grid_auto_flow": null,
            "grid_auto_rows": null,
            "grid_column": null,
            "grid_gap": null,
            "grid_row": null,
            "grid_template_areas": null,
            "grid_template_columns": null,
            "grid_template_rows": null,
            "height": null,
            "justify_content": null,
            "justify_items": null,
            "left": null,
            "margin": null,
            "max_height": null,
            "max_width": null,
            "min_height": null,
            "min_width": null,
            "object_fit": null,
            "object_position": null,
            "order": null,
            "overflow": null,
            "overflow_x": null,
            "overflow_y": null,
            "padding": null,
            "right": null,
            "top": null,
            "visibility": null,
            "width": null
          }
        },
        "2d6c47a57e724153a7e42debc4371790": {
          "model_module": "@jupyter-widgets/base",
          "model_name": "LayoutModel",
          "model_module_version": "1.2.0",
          "state": {
            "_model_module": "@jupyter-widgets/base",
            "_model_module_version": "1.2.0",
            "_model_name": "LayoutModel",
            "_view_count": null,
            "_view_module": "@jupyter-widgets/base",
            "_view_module_version": "1.2.0",
            "_view_name": "LayoutView",
            "align_content": null,
            "align_items": null,
            "align_self": null,
            "border": null,
            "bottom": null,
            "display": null,
            "flex": null,
            "flex_flow": null,
            "grid_area": null,
            "grid_auto_columns": null,
            "grid_auto_flow": null,
            "grid_auto_rows": null,
            "grid_column": null,
            "grid_gap": null,
            "grid_row": null,
            "grid_template_areas": null,
            "grid_template_columns": null,
            "grid_template_rows": null,
            "height": null,
            "justify_content": null,
            "justify_items": null,
            "left": null,
            "margin": null,
            "max_height": null,
            "max_width": null,
            "min_height": null,
            "min_width": null,
            "object_fit": null,
            "object_position": null,
            "order": null,
            "overflow": null,
            "overflow_x": null,
            "overflow_y": null,
            "padding": null,
            "right": null,
            "top": null,
            "visibility": null,
            "width": null
          }
        },
        "be86c7f8b15d492e8be7ac5e201ad8c0": {
          "model_module": "@jupyter-widgets/controls",
          "model_name": "DescriptionStyleModel",
          "model_module_version": "1.5.0",
          "state": {
            "_model_module": "@jupyter-widgets/controls",
            "_model_module_version": "1.5.0",
            "_model_name": "DescriptionStyleModel",
            "_view_count": null,
            "_view_module": "@jupyter-widgets/base",
            "_view_module_version": "1.2.0",
            "_view_name": "StyleView",
            "description_width": ""
          }
        },
        "a835126490154a3cb74bb6d6561f5b42": {
          "model_module": "@jupyter-widgets/base",
          "model_name": "LayoutModel",
          "model_module_version": "1.2.0",
          "state": {
            "_model_module": "@jupyter-widgets/base",
            "_model_module_version": "1.2.0",
            "_model_name": "LayoutModel",
            "_view_count": null,
            "_view_module": "@jupyter-widgets/base",
            "_view_module_version": "1.2.0",
            "_view_name": "LayoutView",
            "align_content": null,
            "align_items": null,
            "align_self": null,
            "border": null,
            "bottom": null,
            "display": null,
            "flex": null,
            "flex_flow": null,
            "grid_area": null,
            "grid_auto_columns": null,
            "grid_auto_flow": null,
            "grid_auto_rows": null,
            "grid_column": null,
            "grid_gap": null,
            "grid_row": null,
            "grid_template_areas": null,
            "grid_template_columns": null,
            "grid_template_rows": null,
            "height": null,
            "justify_content": null,
            "justify_items": null,
            "left": null,
            "margin": null,
            "max_height": null,
            "max_width": null,
            "min_height": null,
            "min_width": null,
            "object_fit": null,
            "object_position": null,
            "order": null,
            "overflow": null,
            "overflow_x": null,
            "overflow_y": null,
            "padding": null,
            "right": null,
            "top": null,
            "visibility": null,
            "width": null
          }
        },
        "88e2f8e347f740bda01b7e16cb17da92": {
          "model_module": "@jupyter-widgets/controls",
          "model_name": "ProgressStyleModel",
          "model_module_version": "1.5.0",
          "state": {
            "_model_module": "@jupyter-widgets/controls",
            "_model_module_version": "1.5.0",
            "_model_name": "ProgressStyleModel",
            "_view_count": null,
            "_view_module": "@jupyter-widgets/base",
            "_view_module_version": "1.2.0",
            "_view_name": "StyleView",
            "bar_color": null,
            "description_width": ""
          }
        },
        "f568478886c04be999fd70cba8f703bb": {
          "model_module": "@jupyter-widgets/base",
          "model_name": "LayoutModel",
          "model_module_version": "1.2.0",
          "state": {
            "_model_module": "@jupyter-widgets/base",
            "_model_module_version": "1.2.0",
            "_model_name": "LayoutModel",
            "_view_count": null,
            "_view_module": "@jupyter-widgets/base",
            "_view_module_version": "1.2.0",
            "_view_name": "LayoutView",
            "align_content": null,
            "align_items": null,
            "align_self": null,
            "border": null,
            "bottom": null,
            "display": null,
            "flex": null,
            "flex_flow": null,
            "grid_area": null,
            "grid_auto_columns": null,
            "grid_auto_flow": null,
            "grid_auto_rows": null,
            "grid_column": null,
            "grid_gap": null,
            "grid_row": null,
            "grid_template_areas": null,
            "grid_template_columns": null,
            "grid_template_rows": null,
            "height": null,
            "justify_content": null,
            "justify_items": null,
            "left": null,
            "margin": null,
            "max_height": null,
            "max_width": null,
            "min_height": null,
            "min_width": null,
            "object_fit": null,
            "object_position": null,
            "order": null,
            "overflow": null,
            "overflow_x": null,
            "overflow_y": null,
            "padding": null,
            "right": null,
            "top": null,
            "visibility": null,
            "width": null
          }
        },
        "a4cc11dd245741598ad0d9b1fc03a071": {
          "model_module": "@jupyter-widgets/controls",
          "model_name": "DescriptionStyleModel",
          "model_module_version": "1.5.0",
          "state": {
            "_model_module": "@jupyter-widgets/controls",
            "_model_module_version": "1.5.0",
            "_model_name": "DescriptionStyleModel",
            "_view_count": null,
            "_view_module": "@jupyter-widgets/base",
            "_view_module_version": "1.2.0",
            "_view_name": "StyleView",
            "description_width": ""
          }
        },
        "b68e0fb97bf948c0b7abadc36153e9cb": {
          "model_module": "@jupyter-widgets/controls",
          "model_name": "HBoxModel",
          "model_module_version": "1.5.0",
          "state": {
            "_dom_classes": [],
            "_model_module": "@jupyter-widgets/controls",
            "_model_module_version": "1.5.0",
            "_model_name": "HBoxModel",
            "_view_count": null,
            "_view_module": "@jupyter-widgets/controls",
            "_view_module_version": "1.5.0",
            "_view_name": "HBoxView",
            "box_style": "",
            "children": [
              "IPY_MODEL_d9e3b53d06fd49daa03269fdac2dece9",
              "IPY_MODEL_b3b1a4b964a44dafba941c2ccf709fd0",
              "IPY_MODEL_b6f6cd91aec34920ad6f021e3157d062"
            ],
            "layout": "IPY_MODEL_f328e8591b714ce89bd87007dee8c9c6"
          }
        },
        "d9e3b53d06fd49daa03269fdac2dece9": {
          "model_module": "@jupyter-widgets/controls",
          "model_name": "HTMLModel",
          "model_module_version": "1.5.0",
          "state": {
            "_dom_classes": [],
            "_model_module": "@jupyter-widgets/controls",
            "_model_module_version": "1.5.0",
            "_model_name": "HTMLModel",
            "_view_count": null,
            "_view_module": "@jupyter-widgets/controls",
            "_view_module_version": "1.5.0",
            "_view_name": "HTMLView",
            "description": "",
            "description_tooltip": null,
            "layout": "IPY_MODEL_45657281a98649e6868a2b4e6d299b49",
            "placeholder": "​",
            "style": "IPY_MODEL_995729547b9d463c9744651586c000d6",
            "value": "Map: 100%"
          }
        },
        "b3b1a4b964a44dafba941c2ccf709fd0": {
          "model_module": "@jupyter-widgets/controls",
          "model_name": "FloatProgressModel",
          "model_module_version": "1.5.0",
          "state": {
            "_dom_classes": [],
            "_model_module": "@jupyter-widgets/controls",
            "_model_module_version": "1.5.0",
            "_model_name": "FloatProgressModel",
            "_view_count": null,
            "_view_module": "@jupyter-widgets/controls",
            "_view_module_version": "1.5.0",
            "_view_name": "ProgressView",
            "bar_style": "success",
            "description": "",
            "description_tooltip": null,
            "layout": "IPY_MODEL_86a6584f0f0e4b2caef8760504234f17",
            "max": 1000,
            "min": 0,
            "orientation": "horizontal",
            "style": "IPY_MODEL_d5fd706f72fe4423a19e6dc53ab6a088",
            "value": 1000
          }
        },
        "b6f6cd91aec34920ad6f021e3157d062": {
          "model_module": "@jupyter-widgets/controls",
          "model_name": "HTMLModel",
          "model_module_version": "1.5.0",
          "state": {
            "_dom_classes": [],
            "_model_module": "@jupyter-widgets/controls",
            "_model_module_version": "1.5.0",
            "_model_name": "HTMLModel",
            "_view_count": null,
            "_view_module": "@jupyter-widgets/controls",
            "_view_module_version": "1.5.0",
            "_view_name": "HTMLView",
            "description": "",
            "description_tooltip": null,
            "layout": "IPY_MODEL_bc5ea2f30de0417282549f5d98a2eba1",
            "placeholder": "​",
            "style": "IPY_MODEL_4682d4a5cff64f42b845eb27905590c2",
            "value": " 1000/1000 [00:07&lt;00:00, 139.49 examples/s]"
          }
        },
        "f328e8591b714ce89bd87007dee8c9c6": {
          "model_module": "@jupyter-widgets/base",
          "model_name": "LayoutModel",
          "model_module_version": "1.2.0",
          "state": {
            "_model_module": "@jupyter-widgets/base",
            "_model_module_version": "1.2.0",
            "_model_name": "LayoutModel",
            "_view_count": null,
            "_view_module": "@jupyter-widgets/base",
            "_view_module_version": "1.2.0",
            "_view_name": "LayoutView",
            "align_content": null,
            "align_items": null,
            "align_self": null,
            "border": null,
            "bottom": null,
            "display": null,
            "flex": null,
            "flex_flow": null,
            "grid_area": null,
            "grid_auto_columns": null,
            "grid_auto_flow": null,
            "grid_auto_rows": null,
            "grid_column": null,
            "grid_gap": null,
            "grid_row": null,
            "grid_template_areas": null,
            "grid_template_columns": null,
            "grid_template_rows": null,
            "height": null,
            "justify_content": null,
            "justify_items": null,
            "left": null,
            "margin": null,
            "max_height": null,
            "max_width": null,
            "min_height": null,
            "min_width": null,
            "object_fit": null,
            "object_position": null,
            "order": null,
            "overflow": null,
            "overflow_x": null,
            "overflow_y": null,
            "padding": null,
            "right": null,
            "top": null,
            "visibility": null,
            "width": null
          }
        },
        "45657281a98649e6868a2b4e6d299b49": {
          "model_module": "@jupyter-widgets/base",
          "model_name": "LayoutModel",
          "model_module_version": "1.2.0",
          "state": {
            "_model_module": "@jupyter-widgets/base",
            "_model_module_version": "1.2.0",
            "_model_name": "LayoutModel",
            "_view_count": null,
            "_view_module": "@jupyter-widgets/base",
            "_view_module_version": "1.2.0",
            "_view_name": "LayoutView",
            "align_content": null,
            "align_items": null,
            "align_self": null,
            "border": null,
            "bottom": null,
            "display": null,
            "flex": null,
            "flex_flow": null,
            "grid_area": null,
            "grid_auto_columns": null,
            "grid_auto_flow": null,
            "grid_auto_rows": null,
            "grid_column": null,
            "grid_gap": null,
            "grid_row": null,
            "grid_template_areas": null,
            "grid_template_columns": null,
            "grid_template_rows": null,
            "height": null,
            "justify_content": null,
            "justify_items": null,
            "left": null,
            "margin": null,
            "max_height": null,
            "max_width": null,
            "min_height": null,
            "min_width": null,
            "object_fit": null,
            "object_position": null,
            "order": null,
            "overflow": null,
            "overflow_x": null,
            "overflow_y": null,
            "padding": null,
            "right": null,
            "top": null,
            "visibility": null,
            "width": null
          }
        },
        "995729547b9d463c9744651586c000d6": {
          "model_module": "@jupyter-widgets/controls",
          "model_name": "DescriptionStyleModel",
          "model_module_version": "1.5.0",
          "state": {
            "_model_module": "@jupyter-widgets/controls",
            "_model_module_version": "1.5.0",
            "_model_name": "DescriptionStyleModel",
            "_view_count": null,
            "_view_module": "@jupyter-widgets/base",
            "_view_module_version": "1.2.0",
            "_view_name": "StyleView",
            "description_width": ""
          }
        },
        "86a6584f0f0e4b2caef8760504234f17": {
          "model_module": "@jupyter-widgets/base",
          "model_name": "LayoutModel",
          "model_module_version": "1.2.0",
          "state": {
            "_model_module": "@jupyter-widgets/base",
            "_model_module_version": "1.2.0",
            "_model_name": "LayoutModel",
            "_view_count": null,
            "_view_module": "@jupyter-widgets/base",
            "_view_module_version": "1.2.0",
            "_view_name": "LayoutView",
            "align_content": null,
            "align_items": null,
            "align_self": null,
            "border": null,
            "bottom": null,
            "display": null,
            "flex": null,
            "flex_flow": null,
            "grid_area": null,
            "grid_auto_columns": null,
            "grid_auto_flow": null,
            "grid_auto_rows": null,
            "grid_column": null,
            "grid_gap": null,
            "grid_row": null,
            "grid_template_areas": null,
            "grid_template_columns": null,
            "grid_template_rows": null,
            "height": null,
            "justify_content": null,
            "justify_items": null,
            "left": null,
            "margin": null,
            "max_height": null,
            "max_width": null,
            "min_height": null,
            "min_width": null,
            "object_fit": null,
            "object_position": null,
            "order": null,
            "overflow": null,
            "overflow_x": null,
            "overflow_y": null,
            "padding": null,
            "right": null,
            "top": null,
            "visibility": null,
            "width": null
          }
        },
        "d5fd706f72fe4423a19e6dc53ab6a088": {
          "model_module": "@jupyter-widgets/controls",
          "model_name": "ProgressStyleModel",
          "model_module_version": "1.5.0",
          "state": {
            "_model_module": "@jupyter-widgets/controls",
            "_model_module_version": "1.5.0",
            "_model_name": "ProgressStyleModel",
            "_view_count": null,
            "_view_module": "@jupyter-widgets/base",
            "_view_module_version": "1.2.0",
            "_view_name": "StyleView",
            "bar_color": null,
            "description_width": ""
          }
        },
        "bc5ea2f30de0417282549f5d98a2eba1": {
          "model_module": "@jupyter-widgets/base",
          "model_name": "LayoutModel",
          "model_module_version": "1.2.0",
          "state": {
            "_model_module": "@jupyter-widgets/base",
            "_model_module_version": "1.2.0",
            "_model_name": "LayoutModel",
            "_view_count": null,
            "_view_module": "@jupyter-widgets/base",
            "_view_module_version": "1.2.0",
            "_view_name": "LayoutView",
            "align_content": null,
            "align_items": null,
            "align_self": null,
            "border": null,
            "bottom": null,
            "display": null,
            "flex": null,
            "flex_flow": null,
            "grid_area": null,
            "grid_auto_columns": null,
            "grid_auto_flow": null,
            "grid_auto_rows": null,
            "grid_column": null,
            "grid_gap": null,
            "grid_row": null,
            "grid_template_areas": null,
            "grid_template_columns": null,
            "grid_template_rows": null,
            "height": null,
            "justify_content": null,
            "justify_items": null,
            "left": null,
            "margin": null,
            "max_height": null,
            "max_width": null,
            "min_height": null,
            "min_width": null,
            "object_fit": null,
            "object_position": null,
            "order": null,
            "overflow": null,
            "overflow_x": null,
            "overflow_y": null,
            "padding": null,
            "right": null,
            "top": null,
            "visibility": null,
            "width": null
          }
        },
        "4682d4a5cff64f42b845eb27905590c2": {
          "model_module": "@jupyter-widgets/controls",
          "model_name": "DescriptionStyleModel",
          "model_module_version": "1.5.0",
          "state": {
            "_model_module": "@jupyter-widgets/controls",
            "_model_module_version": "1.5.0",
            "_model_name": "DescriptionStyleModel",
            "_view_count": null,
            "_view_module": "@jupyter-widgets/base",
            "_view_module_version": "1.2.0",
            "_view_name": "StyleView",
            "description_width": ""
          }
        }
      }
    }
  },
  "nbformat": 4,
  "nbformat_minor": 0
}