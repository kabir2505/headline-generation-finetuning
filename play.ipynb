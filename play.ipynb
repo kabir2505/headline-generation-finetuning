{
 "cells": [
  {
   "cell_type": "code",
   "execution_count": 1,
   "metadata": {},
   "outputs": [],
   "source": [
    "import pandas as pd\n",
    "from pprint import pprint"
   ]
  },
  {
   "cell_type": "code",
   "execution_count": 2,
   "metadata": {},
   "outputs": [
    {
     "data": {
      "text/html": [
       "<div>\n",
       "<style scoped>\n",
       "    .dataframe tbody tr th:only-of-type {\n",
       "        vertical-align: middle;\n",
       "    }\n",
       "\n",
       "    .dataframe tbody tr th {\n",
       "        vertical-align: top;\n",
       "    }\n",
       "\n",
       "    .dataframe thead th {\n",
       "        text-align: right;\n",
       "    }\n",
       "</style>\n",
       "<table border=\"1\" class=\"dataframe\">\n",
       "  <thead>\n",
       "    <tr style=\"text-align: right;\">\n",
       "      <th></th>\n",
       "      <th>ID</th>\n",
       "      <th>News Article</th>\n",
       "      <th>Caption</th>\n",
       "    </tr>\n",
       "  </thead>\n",
       "  <tbody>\n",
       "    <tr>\n",
       "      <th>0</th>\n",
       "      <td>TRAIN_1_1</td>\n",
       "      <td>(Aug 30, 2019 10:52 AM CDT) The Democratic Nat...</td>\n",
       "      <td>DNC Is Nervous About 2 Virtual Caucuses</td>\n",
       "    </tr>\n",
       "    <tr>\n",
       "      <th>1</th>\n",
       "      <td>TRAIN_1_2</td>\n",
       "      <td>(Sep 14, 2016 8:24 AM CDT) Authorities have fi...</td>\n",
       "      <td>43 Years After Girls' Slayings, 2 Arrests</td>\n",
       "    </tr>\n",
       "    <tr>\n",
       "      <th>2</th>\n",
       "      <td>TRAIN_1_3</td>\n",
       "      <td>(Aug 31, 2015 12:54 PM CDT) An Illinois mom wh...</td>\n",
       "      <td>Boy Still Missing 4 Years After Mom Killed Her...</td>\n",
       "    </tr>\n",
       "    <tr>\n",
       "      <th>3</th>\n",
       "      <td>TRAIN_1_4</td>\n",
       "      <td>(Oct 15, 2012 10:36 AM CDT) Brad Pitt's latest...</td>\n",
       "      <td>In a First, Chanel No. 5 Hawked by a Guy: Brad...</td>\n",
       "    </tr>\n",
       "    <tr>\n",
       "      <th>4</th>\n",
       "      <td>TRAIN_1_5</td>\n",
       "      <td>(Nov 21, 2012 12:01 PM) When Judd Apatow was a...</td>\n",
       "      <td>Simpsons Episode Apatow Wrote 22 Years Ago to Air</td>\n",
       "    </tr>\n",
       "  </tbody>\n",
       "</table>\n",
       "</div>"
      ],
      "text/plain": [
       "          ID                                       News Article  \\\n",
       "0  TRAIN_1_1  (Aug 30, 2019 10:52 AM CDT) The Democratic Nat...   \n",
       "1  TRAIN_1_2  (Sep 14, 2016 8:24 AM CDT) Authorities have fi...   \n",
       "2  TRAIN_1_3  (Aug 31, 2015 12:54 PM CDT) An Illinois mom wh...   \n",
       "3  TRAIN_1_4  (Oct 15, 2012 10:36 AM CDT) Brad Pitt's latest...   \n",
       "4  TRAIN_1_5  (Nov 21, 2012 12:01 PM) When Judd Apatow was a...   \n",
       "\n",
       "                                             Caption  \n",
       "0            DNC Is Nervous About 2 Virtual Caucuses  \n",
       "1          43 Years After Girls' Slayings, 2 Arrests  \n",
       "2  Boy Still Missing 4 Years After Mom Killed Her...  \n",
       "3  In a First, Chanel No. 5 Hawked by a Guy: Brad...  \n",
       "4  Simpsons Episode Apatow Wrote 22 Years Ago to Air  "
      ]
     },
     "execution_count": 2,
     "metadata": {},
     "output_type": "execute_result"
    }
   ],
   "source": [
    "train=pd.read_csv(\"LABELLED_TRAIN.csv\")\n",
    "train.head()"
   ]
  },
  {
   "cell_type": "code",
   "execution_count": 3,
   "metadata": {},
   "outputs": [
    {
     "name": "stdout",
     "output_type": "stream",
     "text": [
      "('(Aug 30, 2019 10:52 AM CDT) The Democratic National Committee will recommend '\n",
      " 'scrapping state plans to offer virtual, telephone-based caucuses in 2020 '\n",
      " 'because of security concerns, sources tell the AP. The final choice whether '\n",
      " \"to allow virtual caucuses in Iowa and Nevada is up to the party's powerful \"\n",
      " \"Rules and Bylaws Committee. But opposition from DNC's executive and staff \"\n",
      " 'leadership makes it highly unlikely the committee would keep the virtual '\n",
      " 'caucuses, leaving two key early voting states and the national party a short '\n",
      " 'time to fashion an alternative before the February caucuses. The state '\n",
      " 'parties had planned to allow some voters to cast caucus votes over the '\n",
      " 'telephone in February 2020 instead of showing up at traditional caucus '\n",
      " 'meetings.')\n"
     ]
    }
   ],
   "source": [
    "pprint(train.iloc[0]['News Article'])"
   ]
  },
  {
   "cell_type": "code",
   "execution_count": 4,
   "metadata": {},
   "outputs": [
    {
     "name": "stdout",
     "output_type": "stream",
     "text": [
      "'DNC Is Nervous About 2 Virtual Caucuses'\n"
     ]
    }
   ],
   "source": [
    "pprint(train.iloc[0]['Caption'])"
   ]
  },
  {
   "cell_type": "code",
   "execution_count": 10,
   "metadata": {},
   "outputs": [
    {
     "data": {
      "text/plain": [
       "(3000, 3)"
      ]
     },
     "execution_count": 10,
     "metadata": {},
     "output_type": "execute_result"
    }
   ],
   "source": [
    "train.shape"
   ]
  },
  {
   "cell_type": "code",
   "execution_count": 7,
   "metadata": {},
   "outputs": [
    {
     "data": {
      "text/plain": [
       "DatasetDict({\n",
       "    train: Dataset({\n",
       "        features: ['ID', 'News Article', 'Caption'],\n",
       "        num_rows: 3000\n",
       "    })\n",
       "})"
      ]
     },
     "execution_count": 7,
     "metadata": {},
     "output_type": "execute_result"
    }
   ],
   "source": [
    "from datasets import load_dataset\n",
    "\n",
    "train_ds = load_dataset(\"csv\", data_files=\"LABELLED_TRAIN.csv\")\n",
    "train_ds"
   ]
  },
  {
   "cell_type": "code",
   "execution_count": 9,
   "metadata": {},
   "outputs": [
    {
     "name": "stderr",
     "output_type": "stream",
     "text": [
      "Generating train split: 1000 examples [00:00, 27865.80 examples/s]\n"
     ]
    },
    {
     "data": {
      "text/plain": [
       "DatasetDict({\n",
       "    train: Dataset({\n",
       "        features: ['ID', 'News Article', 'Caption'],\n",
       "        num_rows: 1000\n",
       "    })\n",
       "})"
      ]
     },
     "execution_count": 9,
     "metadata": {},
     "output_type": "execute_result"
    }
   ],
   "source": [
    "val_ds=load_dataset(\"csv\", data_files=\"LABELLED_DEV.csv\")\n",
    "val_ds"
   ]
  },
  {
   "cell_type": "code",
   "execution_count": null,
   "metadata": {},
   "outputs": [],
   "source": []
  }
 ],
 "metadata": {
  "kernelspec": {
   "display_name": "dl_papers",
   "language": "python",
   "name": "python3"
  },
  "language_info": {
   "codemirror_mode": {
    "name": "ipython",
    "version": 3
   },
   "file_extension": ".py",
   "mimetype": "text/x-python",
   "name": "python",
   "nbconvert_exporter": "python",
   "pygments_lexer": "ipython3",
   "version": "3.11.10"
  }
 },
 "nbformat": 4,
 "nbformat_minor": 2
}
